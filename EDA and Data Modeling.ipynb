{
 "cells": [
  {
   "cell_type": "code",
   "execution_count": 388,
   "id": "74ea1d1d-8199-4dac-8376-52c2f2ef9400",
   "metadata": {
    "tags": []
   },
   "outputs": [],
   "source": [
    "from tqdm import tqdm"
   ]
  },
  {
   "cell_type": "code",
   "execution_count": 389,
   "id": "9381b25f-50f2-4e0c-bd41-0421ed3fd38f",
   "metadata": {
    "tags": []
   },
   "outputs": [],
   "source": [
    "import pandas as pd\n",
    "import numpy as np\n",
    "import matplotlib.pyplot as plt\n",
    "import seaborn as sns"
   ]
  },
  {
   "cell_type": "code",
   "execution_count": 390,
   "id": "1b87f03d-26f9-4e36-876a-b1ffdf67ab56",
   "metadata": {
    "tags": []
   },
   "outputs": [],
   "source": [
    "df = pd.read_csv('anime_dataset.csv')"
   ]
  },
  {
   "cell_type": "markdown",
   "id": "96c39ac8-10ec-42b3-b1be-a26e0221bfa9",
   "metadata": {},
   "source": [
    "# Data Preprocessing"
   ]
  },
  {
   "cell_type": "code",
   "execution_count": 391,
   "id": "6ff8c78c-c11e-441c-ba73-57defdf09c96",
   "metadata": {
    "tags": []
   },
   "outputs": [
    {
     "data": {
      "text/html": [
       "<div>\n",
       "<style scoped>\n",
       "    .dataframe tbody tr th:only-of-type {\n",
       "        vertical-align: middle;\n",
       "    }\n",
       "\n",
       "    .dataframe tbody tr th {\n",
       "        vertical-align: top;\n",
       "    }\n",
       "\n",
       "    .dataframe thead th {\n",
       "        text-align: right;\n",
       "    }\n",
       "</style>\n",
       "<table border=\"1\" class=\"dataframe\">\n",
       "  <thead>\n",
       "    <tr style=\"text-align: right;\">\n",
       "      <th></th>\n",
       "      <th>id</th>\n",
       "      <th>title</th>\n",
       "      <th>type</th>\n",
       "      <th>source</th>\n",
       "      <th>episodes</th>\n",
       "      <th>status</th>\n",
       "      <th>airing</th>\n",
       "      <th>duration</th>\n",
       "      <th>rating</th>\n",
       "      <th>score</th>\n",
       "      <th>...</th>\n",
       "      <th>themes</th>\n",
       "      <th>demographics</th>\n",
       "      <th>synopsis</th>\n",
       "      <th>background</th>\n",
       "      <th>producers</th>\n",
       "      <th>licensors</th>\n",
       "      <th>broadcast</th>\n",
       "      <th>related_anime</th>\n",
       "      <th>opening_themes</th>\n",
       "      <th>ending_themes</th>\n",
       "    </tr>\n",
       "  </thead>\n",
       "  <tbody>\n",
       "    <tr>\n",
       "      <th>0</th>\n",
       "      <td>1</td>\n",
       "      <td>Cowboy Bebop</td>\n",
       "      <td>TV</td>\n",
       "      <td>Original</td>\n",
       "      <td>26.0</td>\n",
       "      <td>Finished Airing</td>\n",
       "      <td>False</td>\n",
       "      <td>24 min per ep</td>\n",
       "      <td>R - 17+ (violence &amp; profanity)</td>\n",
       "      <td>8.75</td>\n",
       "      <td>...</td>\n",
       "      <td>['Adult Cast', 'Space']</td>\n",
       "      <td>[]</td>\n",
       "      <td>Crime is timeless. By the year 2071, humanity ...</td>\n",
       "      <td>When Cowboy Bebop first aired in spring of 199...</td>\n",
       "      <td>['Bandai Visual', 'Victor Entertainment', 'Aud...</td>\n",
       "      <td>['Funimation']</td>\n",
       "      <td>Saturdays at 01:00 (JST)</td>\n",
       "      <td>[]</td>\n",
       "      <td>[]</td>\n",
       "      <td>[]</td>\n",
       "    </tr>\n",
       "    <tr>\n",
       "      <th>1</th>\n",
       "      <td>5</td>\n",
       "      <td>Cowboy Bebop: Tengoku no Tobira</td>\n",
       "      <td>Movie</td>\n",
       "      <td>Original</td>\n",
       "      <td>1.0</td>\n",
       "      <td>Finished Airing</td>\n",
       "      <td>False</td>\n",
       "      <td>1 hr 55 min</td>\n",
       "      <td>R - 17+ (violence &amp; profanity)</td>\n",
       "      <td>8.38</td>\n",
       "      <td>...</td>\n",
       "      <td>['Adult Cast', 'Space']</td>\n",
       "      <td>[]</td>\n",
       "      <td>Another day, another bounty—such is the life o...</td>\n",
       "      <td>NaN</td>\n",
       "      <td>['Sunrise', 'Bandai Visual']</td>\n",
       "      <td>['Sony Pictures Entertainment', 'Funimation']</td>\n",
       "      <td>NaN</td>\n",
       "      <td>[]</td>\n",
       "      <td>[]</td>\n",
       "      <td>[]</td>\n",
       "    </tr>\n",
       "    <tr>\n",
       "      <th>2</th>\n",
       "      <td>6</td>\n",
       "      <td>Trigun</td>\n",
       "      <td>TV</td>\n",
       "      <td>Manga</td>\n",
       "      <td>26.0</td>\n",
       "      <td>Finished Airing</td>\n",
       "      <td>False</td>\n",
       "      <td>24 min per ep</td>\n",
       "      <td>PG-13 - Teens 13 or older</td>\n",
       "      <td>8.22</td>\n",
       "      <td>...</td>\n",
       "      <td>['Adult Cast']</td>\n",
       "      <td>['Shounen']</td>\n",
       "      <td>Vash the Stampede is the man with a $$60,000,0...</td>\n",
       "      <td>The Japanese release by Victor Entertainment h...</td>\n",
       "      <td>['Victor Entertainment']</td>\n",
       "      <td>['Funimation']</td>\n",
       "      <td>Thursdays at 01:15 (JST)</td>\n",
       "      <td>[]</td>\n",
       "      <td>[]</td>\n",
       "      <td>[]</td>\n",
       "    </tr>\n",
       "    <tr>\n",
       "      <th>3</th>\n",
       "      <td>7</td>\n",
       "      <td>Witch Hunter Robin</td>\n",
       "      <td>TV</td>\n",
       "      <td>Original</td>\n",
       "      <td>26.0</td>\n",
       "      <td>Finished Airing</td>\n",
       "      <td>False</td>\n",
       "      <td>25 min per ep</td>\n",
       "      <td>PG-13 - Teens 13 or older</td>\n",
       "      <td>7.24</td>\n",
       "      <td>...</td>\n",
       "      <td>['Detective']</td>\n",
       "      <td>[]</td>\n",
       "      <td>Though hidden away from the general public, Wi...</td>\n",
       "      <td>NaN</td>\n",
       "      <td>['Bandai Visual', 'Dentsu', 'Victor Entertainm...</td>\n",
       "      <td>['Funimation', 'Bandai Entertainment']</td>\n",
       "      <td>Wednesdays at 01:25 (JST)</td>\n",
       "      <td>[]</td>\n",
       "      <td>[]</td>\n",
       "      <td>[]</td>\n",
       "    </tr>\n",
       "    <tr>\n",
       "      <th>4</th>\n",
       "      <td>8</td>\n",
       "      <td>Bouken Ou Beet</td>\n",
       "      <td>TV</td>\n",
       "      <td>Manga</td>\n",
       "      <td>52.0</td>\n",
       "      <td>Finished Airing</td>\n",
       "      <td>False</td>\n",
       "      <td>23 min per ep</td>\n",
       "      <td>PG - Children</td>\n",
       "      <td>6.93</td>\n",
       "      <td>...</td>\n",
       "      <td>[]</td>\n",
       "      <td>['Shounen']</td>\n",
       "      <td>It is the dark century and the people are suff...</td>\n",
       "      <td>NaN</td>\n",
       "      <td>['TV Tokyo', 'Dentsu']</td>\n",
       "      <td>['Illumitoon Entertainment']</td>\n",
       "      <td>Thursdays at 18:30 (JST)</td>\n",
       "      <td>[]</td>\n",
       "      <td>[]</td>\n",
       "      <td>[]</td>\n",
       "    </tr>\n",
       "  </tbody>\n",
       "</table>\n",
       "<p>5 rows × 29 columns</p>\n",
       "</div>"
      ],
      "text/plain": [
       "   id                            title   type    source  episodes  \\\n",
       "0   1                     Cowboy Bebop     TV  Original      26.0   \n",
       "1   5  Cowboy Bebop: Tengoku no Tobira  Movie  Original       1.0   \n",
       "2   6                           Trigun     TV     Manga      26.0   \n",
       "3   7               Witch Hunter Robin     TV  Original      26.0   \n",
       "4   8                   Bouken Ou Beet     TV     Manga      52.0   \n",
       "\n",
       "            status  airing       duration                          rating  \\\n",
       "0  Finished Airing   False  24 min per ep  R - 17+ (violence & profanity)   \n",
       "1  Finished Airing   False    1 hr 55 min  R - 17+ (violence & profanity)   \n",
       "2  Finished Airing   False  24 min per ep       PG-13 - Teens 13 or older   \n",
       "3  Finished Airing   False  25 min per ep       PG-13 - Teens 13 or older   \n",
       "4  Finished Airing   False  23 min per ep                   PG - Children   \n",
       "\n",
       "   score  ...                   themes  demographics  \\\n",
       "0   8.75  ...  ['Adult Cast', 'Space']            []   \n",
       "1   8.38  ...  ['Adult Cast', 'Space']            []   \n",
       "2   8.22  ...           ['Adult Cast']   ['Shounen']   \n",
       "3   7.24  ...            ['Detective']            []   \n",
       "4   6.93  ...                       []   ['Shounen']   \n",
       "\n",
       "                                            synopsis  \\\n",
       "0  Crime is timeless. By the year 2071, humanity ...   \n",
       "1  Another day, another bounty—such is the life o...   \n",
       "2  Vash the Stampede is the man with a $$60,000,0...   \n",
       "3  Though hidden away from the general public, Wi...   \n",
       "4  It is the dark century and the people are suff...   \n",
       "\n",
       "                                          background  \\\n",
       "0  When Cowboy Bebop first aired in spring of 199...   \n",
       "1                                                NaN   \n",
       "2  The Japanese release by Victor Entertainment h...   \n",
       "3                                                NaN   \n",
       "4                                                NaN   \n",
       "\n",
       "                                           producers  \\\n",
       "0  ['Bandai Visual', 'Victor Entertainment', 'Aud...   \n",
       "1                       ['Sunrise', 'Bandai Visual']   \n",
       "2                           ['Victor Entertainment']   \n",
       "3  ['Bandai Visual', 'Dentsu', 'Victor Entertainm...   \n",
       "4                             ['TV Tokyo', 'Dentsu']   \n",
       "\n",
       "                                       licensors                  broadcast  \\\n",
       "0                                 ['Funimation']   Saturdays at 01:00 (JST)   \n",
       "1  ['Sony Pictures Entertainment', 'Funimation']                        NaN   \n",
       "2                                 ['Funimation']   Thursdays at 01:15 (JST)   \n",
       "3         ['Funimation', 'Bandai Entertainment']  Wednesdays at 01:25 (JST)   \n",
       "4                   ['Illumitoon Entertainment']   Thursdays at 18:30 (JST)   \n",
       "\n",
       "  related_anime opening_themes ending_themes  \n",
       "0            []             []            []  \n",
       "1            []             []            []  \n",
       "2            []             []            []  \n",
       "3            []             []            []  \n",
       "4            []             []            []  \n",
       "\n",
       "[5 rows x 29 columns]"
      ]
     },
     "execution_count": 391,
     "metadata": {},
     "output_type": "execute_result"
    }
   ],
   "source": [
    "df.head()"
   ]
  },
  {
   "cell_type": "code",
   "execution_count": 392,
   "id": "0b73e2ce-1159-4c0f-8e05-d574c86cc3b6",
   "metadata": {
    "tags": []
   },
   "outputs": [
    {
     "data": {
      "text/html": [
       "<div>\n",
       "<style scoped>\n",
       "    .dataframe tbody tr th:only-of-type {\n",
       "        vertical-align: middle;\n",
       "    }\n",
       "\n",
       "    .dataframe tbody tr th {\n",
       "        vertical-align: top;\n",
       "    }\n",
       "\n",
       "    .dataframe thead th {\n",
       "        text-align: right;\n",
       "    }\n",
       "</style>\n",
       "<table border=\"1\" class=\"dataframe\">\n",
       "  <thead>\n",
       "    <tr style=\"text-align: right;\">\n",
       "      <th></th>\n",
       "      <th>0</th>\n",
       "      <th>1</th>\n",
       "      <th>2</th>\n",
       "      <th>3</th>\n",
       "      <th>4</th>\n",
       "    </tr>\n",
       "  </thead>\n",
       "  <tbody>\n",
       "    <tr>\n",
       "      <th>id</th>\n",
       "      <td>1</td>\n",
       "      <td>5</td>\n",
       "      <td>6</td>\n",
       "      <td>7</td>\n",
       "      <td>8</td>\n",
       "    </tr>\n",
       "    <tr>\n",
       "      <th>title</th>\n",
       "      <td>Cowboy Bebop</td>\n",
       "      <td>Cowboy Bebop: Tengoku no Tobira</td>\n",
       "      <td>Trigun</td>\n",
       "      <td>Witch Hunter Robin</td>\n",
       "      <td>Bouken Ou Beet</td>\n",
       "    </tr>\n",
       "    <tr>\n",
       "      <th>type</th>\n",
       "      <td>TV</td>\n",
       "      <td>Movie</td>\n",
       "      <td>TV</td>\n",
       "      <td>TV</td>\n",
       "      <td>TV</td>\n",
       "    </tr>\n",
       "    <tr>\n",
       "      <th>source</th>\n",
       "      <td>Original</td>\n",
       "      <td>Original</td>\n",
       "      <td>Manga</td>\n",
       "      <td>Original</td>\n",
       "      <td>Manga</td>\n",
       "    </tr>\n",
       "    <tr>\n",
       "      <th>episodes</th>\n",
       "      <td>26.0</td>\n",
       "      <td>1.0</td>\n",
       "      <td>26.0</td>\n",
       "      <td>26.0</td>\n",
       "      <td>52.0</td>\n",
       "    </tr>\n",
       "    <tr>\n",
       "      <th>status</th>\n",
       "      <td>Finished Airing</td>\n",
       "      <td>Finished Airing</td>\n",
       "      <td>Finished Airing</td>\n",
       "      <td>Finished Airing</td>\n",
       "      <td>Finished Airing</td>\n",
       "    </tr>\n",
       "    <tr>\n",
       "      <th>airing</th>\n",
       "      <td>False</td>\n",
       "      <td>False</td>\n",
       "      <td>False</td>\n",
       "      <td>False</td>\n",
       "      <td>False</td>\n",
       "    </tr>\n",
       "    <tr>\n",
       "      <th>duration</th>\n",
       "      <td>24 min per ep</td>\n",
       "      <td>1 hr 55 min</td>\n",
       "      <td>24 min per ep</td>\n",
       "      <td>25 min per ep</td>\n",
       "      <td>23 min per ep</td>\n",
       "    </tr>\n",
       "    <tr>\n",
       "      <th>rating</th>\n",
       "      <td>R - 17+ (violence &amp; profanity)</td>\n",
       "      <td>R - 17+ (violence &amp; profanity)</td>\n",
       "      <td>PG-13 - Teens 13 or older</td>\n",
       "      <td>PG-13 - Teens 13 or older</td>\n",
       "      <td>PG - Children</td>\n",
       "    </tr>\n",
       "    <tr>\n",
       "      <th>score</th>\n",
       "      <td>8.75</td>\n",
       "      <td>8.38</td>\n",
       "      <td>8.22</td>\n",
       "      <td>7.24</td>\n",
       "      <td>6.93</td>\n",
       "    </tr>\n",
       "    <tr>\n",
       "      <th>scored_by</th>\n",
       "      <td>999441.0</td>\n",
       "      <td>221785.0</td>\n",
       "      <td>383378.0</td>\n",
       "      <td>44880.0</td>\n",
       "      <td>6910.0</td>\n",
       "    </tr>\n",
       "    <tr>\n",
       "      <th>rank</th>\n",
       "      <td>46.0</td>\n",
       "      <td>212.0</td>\n",
       "      <td>372.0</td>\n",
       "      <td>3154.0</td>\n",
       "      <td>4650.0</td>\n",
       "    </tr>\n",
       "    <tr>\n",
       "      <th>popularity</th>\n",
       "      <td>43</td>\n",
       "      <td>635</td>\n",
       "      <td>259</td>\n",
       "      <td>1922</td>\n",
       "      <td>5557</td>\n",
       "    </tr>\n",
       "    <tr>\n",
       "      <th>members</th>\n",
       "      <td>1934663</td>\n",
       "      <td>390832</td>\n",
       "      <td>789160</td>\n",
       "      <td>120953</td>\n",
       "      <td>16087</td>\n",
       "    </tr>\n",
       "    <tr>\n",
       "      <th>favorites</th>\n",
       "      <td>85036</td>\n",
       "      <td>1660</td>\n",
       "      <td>16536</td>\n",
       "      <td>657</td>\n",
       "      <td>16</td>\n",
       "    </tr>\n",
       "    <tr>\n",
       "      <th>year</th>\n",
       "      <td>1998.0</td>\n",
       "      <td>NaN</td>\n",
       "      <td>1998.0</td>\n",
       "      <td>2002.0</td>\n",
       "      <td>2004.0</td>\n",
       "    </tr>\n",
       "    <tr>\n",
       "      <th>season</th>\n",
       "      <td>spring</td>\n",
       "      <td>NaN</td>\n",
       "      <td>spring</td>\n",
       "      <td>summer</td>\n",
       "      <td>fall</td>\n",
       "    </tr>\n",
       "    <tr>\n",
       "      <th>studios</th>\n",
       "      <td>['Sunrise']</td>\n",
       "      <td>['Bones']</td>\n",
       "      <td>['Madhouse']</td>\n",
       "      <td>['Sunrise']</td>\n",
       "      <td>['Toei Animation']</td>\n",
       "    </tr>\n",
       "    <tr>\n",
       "      <th>genres</th>\n",
       "      <td>['Action', 'Award Winning', 'Sci-Fi']</td>\n",
       "      <td>['Action', 'Sci-Fi']</td>\n",
       "      <td>['Action', 'Adventure', 'Sci-Fi']</td>\n",
       "      <td>['Action', 'Drama', 'Mystery', 'Supernatural']</td>\n",
       "      <td>['Action', 'Adventure', 'Fantasy']</td>\n",
       "    </tr>\n",
       "    <tr>\n",
       "      <th>themes</th>\n",
       "      <td>['Adult Cast', 'Space']</td>\n",
       "      <td>['Adult Cast', 'Space']</td>\n",
       "      <td>['Adult Cast']</td>\n",
       "      <td>['Detective']</td>\n",
       "      <td>[]</td>\n",
       "    </tr>\n",
       "    <tr>\n",
       "      <th>demographics</th>\n",
       "      <td>[]</td>\n",
       "      <td>[]</td>\n",
       "      <td>['Shounen']</td>\n",
       "      <td>[]</td>\n",
       "      <td>['Shounen']</td>\n",
       "    </tr>\n",
       "    <tr>\n",
       "      <th>synopsis</th>\n",
       "      <td>Crime is timeless. By the year 2071, humanity ...</td>\n",
       "      <td>Another day, another bounty—such is the life o...</td>\n",
       "      <td>Vash the Stampede is the man with a $$60,000,0...</td>\n",
       "      <td>Though hidden away from the general public, Wi...</td>\n",
       "      <td>It is the dark century and the people are suff...</td>\n",
       "    </tr>\n",
       "    <tr>\n",
       "      <th>background</th>\n",
       "      <td>When Cowboy Bebop first aired in spring of 199...</td>\n",
       "      <td>NaN</td>\n",
       "      <td>The Japanese release by Victor Entertainment h...</td>\n",
       "      <td>NaN</td>\n",
       "      <td>NaN</td>\n",
       "    </tr>\n",
       "    <tr>\n",
       "      <th>producers</th>\n",
       "      <td>['Bandai Visual', 'Victor Entertainment', 'Aud...</td>\n",
       "      <td>['Sunrise', 'Bandai Visual']</td>\n",
       "      <td>['Victor Entertainment']</td>\n",
       "      <td>['Bandai Visual', 'Dentsu', 'Victor Entertainm...</td>\n",
       "      <td>['TV Tokyo', 'Dentsu']</td>\n",
       "    </tr>\n",
       "    <tr>\n",
       "      <th>licensors</th>\n",
       "      <td>['Funimation']</td>\n",
       "      <td>['Sony Pictures Entertainment', 'Funimation']</td>\n",
       "      <td>['Funimation']</td>\n",
       "      <td>['Funimation', 'Bandai Entertainment']</td>\n",
       "      <td>['Illumitoon Entertainment']</td>\n",
       "    </tr>\n",
       "    <tr>\n",
       "      <th>broadcast</th>\n",
       "      <td>Saturdays at 01:00 (JST)</td>\n",
       "      <td>NaN</td>\n",
       "      <td>Thursdays at 01:15 (JST)</td>\n",
       "      <td>Wednesdays at 01:25 (JST)</td>\n",
       "      <td>Thursdays at 18:30 (JST)</td>\n",
       "    </tr>\n",
       "    <tr>\n",
       "      <th>related_anime</th>\n",
       "      <td>[]</td>\n",
       "      <td>[]</td>\n",
       "      <td>[]</td>\n",
       "      <td>[]</td>\n",
       "      <td>[]</td>\n",
       "    </tr>\n",
       "    <tr>\n",
       "      <th>opening_themes</th>\n",
       "      <td>[]</td>\n",
       "      <td>[]</td>\n",
       "      <td>[]</td>\n",
       "      <td>[]</td>\n",
       "      <td>[]</td>\n",
       "    </tr>\n",
       "    <tr>\n",
       "      <th>ending_themes</th>\n",
       "      <td>[]</td>\n",
       "      <td>[]</td>\n",
       "      <td>[]</td>\n",
       "      <td>[]</td>\n",
       "      <td>[]</td>\n",
       "    </tr>\n",
       "  </tbody>\n",
       "</table>\n",
       "</div>"
      ],
      "text/plain": [
       "                                                                0  \\\n",
       "id                                                              1   \n",
       "title                                                Cowboy Bebop   \n",
       "type                                                           TV   \n",
       "source                                                   Original   \n",
       "episodes                                                     26.0   \n",
       "status                                            Finished Airing   \n",
       "airing                                                      False   \n",
       "duration                                            24 min per ep   \n",
       "rating                             R - 17+ (violence & profanity)   \n",
       "score                                                        8.75   \n",
       "scored_by                                                999441.0   \n",
       "rank                                                         46.0   \n",
       "popularity                                                     43   \n",
       "members                                                   1934663   \n",
       "favorites                                                   85036   \n",
       "year                                                       1998.0   \n",
       "season                                                     spring   \n",
       "studios                                               ['Sunrise']   \n",
       "genres                      ['Action', 'Award Winning', 'Sci-Fi']   \n",
       "themes                                    ['Adult Cast', 'Space']   \n",
       "demographics                                                   []   \n",
       "synopsis        Crime is timeless. By the year 2071, humanity ...   \n",
       "background      When Cowboy Bebop first aired in spring of 199...   \n",
       "producers       ['Bandai Visual', 'Victor Entertainment', 'Aud...   \n",
       "licensors                                          ['Funimation']   \n",
       "broadcast                                Saturdays at 01:00 (JST)   \n",
       "related_anime                                                  []   \n",
       "opening_themes                                                 []   \n",
       "ending_themes                                                  []   \n",
       "\n",
       "                                                                1  \\\n",
       "id                                                              5   \n",
       "title                             Cowboy Bebop: Tengoku no Tobira   \n",
       "type                                                        Movie   \n",
       "source                                                   Original   \n",
       "episodes                                                      1.0   \n",
       "status                                            Finished Airing   \n",
       "airing                                                      False   \n",
       "duration                                              1 hr 55 min   \n",
       "rating                             R - 17+ (violence & profanity)   \n",
       "score                                                        8.38   \n",
       "scored_by                                                221785.0   \n",
       "rank                                                        212.0   \n",
       "popularity                                                    635   \n",
       "members                                                    390832   \n",
       "favorites                                                    1660   \n",
       "year                                                          NaN   \n",
       "season                                                        NaN   \n",
       "studios                                                 ['Bones']   \n",
       "genres                                       ['Action', 'Sci-Fi']   \n",
       "themes                                    ['Adult Cast', 'Space']   \n",
       "demographics                                                   []   \n",
       "synopsis        Another day, another bounty—such is the life o...   \n",
       "background                                                    NaN   \n",
       "producers                            ['Sunrise', 'Bandai Visual']   \n",
       "licensors           ['Sony Pictures Entertainment', 'Funimation']   \n",
       "broadcast                                                     NaN   \n",
       "related_anime                                                  []   \n",
       "opening_themes                                                 []   \n",
       "ending_themes                                                  []   \n",
       "\n",
       "                                                                2  \\\n",
       "id                                                              6   \n",
       "title                                                      Trigun   \n",
       "type                                                           TV   \n",
       "source                                                      Manga   \n",
       "episodes                                                     26.0   \n",
       "status                                            Finished Airing   \n",
       "airing                                                      False   \n",
       "duration                                            24 min per ep   \n",
       "rating                                  PG-13 - Teens 13 or older   \n",
       "score                                                        8.22   \n",
       "scored_by                                                383378.0   \n",
       "rank                                                        372.0   \n",
       "popularity                                                    259   \n",
       "members                                                    789160   \n",
       "favorites                                                   16536   \n",
       "year                                                       1998.0   \n",
       "season                                                     spring   \n",
       "studios                                              ['Madhouse']   \n",
       "genres                          ['Action', 'Adventure', 'Sci-Fi']   \n",
       "themes                                             ['Adult Cast']   \n",
       "demographics                                          ['Shounen']   \n",
       "synopsis        Vash the Stampede is the man with a $$60,000,0...   \n",
       "background      The Japanese release by Victor Entertainment h...   \n",
       "producers                                ['Victor Entertainment']   \n",
       "licensors                                          ['Funimation']   \n",
       "broadcast                                Thursdays at 01:15 (JST)   \n",
       "related_anime                                                  []   \n",
       "opening_themes                                                 []   \n",
       "ending_themes                                                  []   \n",
       "\n",
       "                                                                3  \\\n",
       "id                                                              7   \n",
       "title                                          Witch Hunter Robin   \n",
       "type                                                           TV   \n",
       "source                                                   Original   \n",
       "episodes                                                     26.0   \n",
       "status                                            Finished Airing   \n",
       "airing                                                      False   \n",
       "duration                                            25 min per ep   \n",
       "rating                                  PG-13 - Teens 13 or older   \n",
       "score                                                        7.24   \n",
       "scored_by                                                 44880.0   \n",
       "rank                                                       3154.0   \n",
       "popularity                                                   1922   \n",
       "members                                                    120953   \n",
       "favorites                                                     657   \n",
       "year                                                       2002.0   \n",
       "season                                                     summer   \n",
       "studios                                               ['Sunrise']   \n",
       "genres             ['Action', 'Drama', 'Mystery', 'Supernatural']   \n",
       "themes                                              ['Detective']   \n",
       "demographics                                                   []   \n",
       "synopsis        Though hidden away from the general public, Wi...   \n",
       "background                                                    NaN   \n",
       "producers       ['Bandai Visual', 'Dentsu', 'Victor Entertainm...   \n",
       "licensors                  ['Funimation', 'Bandai Entertainment']   \n",
       "broadcast                               Wednesdays at 01:25 (JST)   \n",
       "related_anime                                                  []   \n",
       "opening_themes                                                 []   \n",
       "ending_themes                                                  []   \n",
       "\n",
       "                                                                4  \n",
       "id                                                              8  \n",
       "title                                              Bouken Ou Beet  \n",
       "type                                                           TV  \n",
       "source                                                      Manga  \n",
       "episodes                                                     52.0  \n",
       "status                                            Finished Airing  \n",
       "airing                                                      False  \n",
       "duration                                            23 min per ep  \n",
       "rating                                              PG - Children  \n",
       "score                                                        6.93  \n",
       "scored_by                                                  6910.0  \n",
       "rank                                                       4650.0  \n",
       "popularity                                                   5557  \n",
       "members                                                     16087  \n",
       "favorites                                                      16  \n",
       "year                                                       2004.0  \n",
       "season                                                       fall  \n",
       "studios                                        ['Toei Animation']  \n",
       "genres                         ['Action', 'Adventure', 'Fantasy']  \n",
       "themes                                                         []  \n",
       "demographics                                          ['Shounen']  \n",
       "synopsis        It is the dark century and the people are suff...  \n",
       "background                                                    NaN  \n",
       "producers                                  ['TV Tokyo', 'Dentsu']  \n",
       "licensors                            ['Illumitoon Entertainment']  \n",
       "broadcast                                Thursdays at 18:30 (JST)  \n",
       "related_anime                                                  []  \n",
       "opening_themes                                                 []  \n",
       "ending_themes                                                  []  "
      ]
     },
     "execution_count": 392,
     "metadata": {},
     "output_type": "execute_result"
    }
   ],
   "source": [
    "df.head().T"
   ]
  },
  {
   "cell_type": "code",
   "execution_count": 393,
   "id": "1fe370d5-90d9-4f39-94c8-4a530df0aa43",
   "metadata": {
    "tags": []
   },
   "outputs": [
    {
     "name": "stdout",
     "output_type": "stream",
     "text": [
      "id\n",
      "[1 5 6 7 8]\n",
      "27835\n",
      "\n",
      "title\n",
      "['Cowboy Bebop' 'Cowboy Bebop: Tengoku no Tobira' 'Trigun'\n",
      " 'Witch Hunter Robin' 'Bouken Ou Beet']\n",
      "27832\n",
      "\n",
      "type\n",
      "['TV' 'Movie' 'OVA' 'TV Special' 'Special']\n",
      "9\n",
      "\n",
      "source\n",
      "['Original' 'Manga' 'Light novel' 'Game' 'Visual novel']\n",
      "17\n",
      "\n",
      "episodes\n",
      "[ 26.   1.  52. 145.  24.]\n",
      "255\n",
      "\n",
      "status\n",
      "['Finished Airing' 'Currently Airing' 'Not yet aired']\n",
      "3\n",
      "\n",
      "airing\n",
      "[False  True]\n",
      "2\n",
      "\n",
      "duration\n",
      "['24 min per ep' '1 hr 55 min' '25 min per ep' '23 min per ep'\n",
      " '27 min per ep']\n",
      "338\n",
      "\n",
      "rating\n",
      "['R - 17+ (violence & profanity)' 'PG-13 - Teens 13 or older'\n",
      " 'PG - Children' 'R+ - Mild Nudity' 'G - All Ages']\n",
      "6\n",
      "\n",
      "score\n",
      "[8.75 8.38 8.22 7.24 6.93]\n",
      "561\n",
      "\n",
      "scored_by\n",
      "[999441. 221785. 383378.  44880.   6910.]\n",
      "9024\n",
      "\n",
      "rank\n",
      "[  46.  212.  372. 3154. 4650.]\n",
      "16388\n",
      "\n",
      "popularity\n",
      "[  43  635  259 1922 5557]\n",
      "21362\n",
      "\n",
      "members\n",
      "[1934663  390832  789160  120953   16087]\n",
      "11927\n",
      "\n",
      "favorites\n",
      "[85036  1660 16536   657    16]\n",
      "1921\n",
      "\n",
      "year\n",
      "[1998.   nan 2002. 2004. 2005.]\n",
      "66\n",
      "\n",
      "season\n",
      "['spring' nan 'summer' 'fall' 'winter']\n",
      "4\n",
      "\n",
      "studios\n",
      "[\"['Sunrise']\" \"['Bones']\" \"['Madhouse']\" \"['Toei Animation']\"\n",
      " \"['Gallop']\"]\n",
      "1802\n",
      "\n",
      "genres\n",
      "[\"['Action', 'Award Winning', 'Sci-Fi']\" \"['Action', 'Sci-Fi']\"\n",
      " \"['Action', 'Adventure', 'Sci-Fi']\"\n",
      " \"['Action', 'Drama', 'Mystery', 'Supernatural']\"\n",
      " \"['Action', 'Adventure', 'Fantasy']\"]\n",
      "956\n",
      "\n",
      "themes\n",
      "[\"['Adult Cast', 'Space']\" \"['Adult Cast']\" \"['Detective']\" '[]'\n",
      " \"['Team Sports']\"]\n",
      "1014\n",
      "\n",
      "demographics\n",
      "['[]' \"['Shounen']\" \"['Josei']\" \"['Seinen']\" \"['Shoujo']\"]\n",
      "8\n",
      "\n",
      "synopsis\n",
      "[\"Crime is timeless. By the year 2071, humanity has expanded across the galaxy, filling the surface of other planets with settlements like those on Earth. These new societies are plagued by murder, drug use, and theft, and intergalactic outlaws are hunted by a growing number of tough bounty hunters.\\n\\nSpike Spiegel and Jet Black pursue criminals throughout space to make a humble living. Beneath his goofy and aloof demeanor, Spike is haunted by the weight of his violent past. Meanwhile, Jet manages his own troubled memories while taking care of Spike and the Bebop, their ship. The duo is joined by the beautiful con artist Faye Valentine, odd child Edward Wong Hau Pepelu Tivrusky IV, and Ein, a bioengineered Welsh Corgi.\\n\\nWhile developing bonds and working to catch a colorful cast of criminals, the Bebop crew's lives are disrupted by a menace from Spike's past. As a rival's maniacal plot continues to unravel, Spike must choose between life with his newfound family or revenge for his old wounds.\\n\\n[Written by MAL Rewrite]\"\n",
      " 'Another day, another bounty—such is the life of the often unlucky crew of the Bebop. However, this routine is interrupted when Faye, who is chasing a fairly worthless target on Mars, witnesses an oil tanker suddenly explode, causing mass hysteria. As casualties mount due to a strange disease spreading through the smoke from the blast, a whopping three hundred million woolong price is placed on the head of the supposed perpetrator.\\n\\nWith lives at stake and a solution to their money problems in sight, the Bebop crew springs into action. Spike, Jet, Faye, and Edward, followed closely by Ein, split up to pursue different leads across Alba City. Through their individual investigations, they discover a cover-up scheme involving a pharmaceutical company, revealing a plot that reaches much further than the ragtag team of bounty hunters could have realized.\\n\\n[Written by MAL Rewrite]'\n",
      " 'Vash the Stampede is the man with a $$60,000,000,000 bounty on his head. The reason: he\\'s a merciless villain who lays waste to all those that oppose him and flattens entire cities for fun, garnering him the title \"The Humanoid Typhoon.\" He leaves a trail of death and destruction wherever he goes, and anyone can count themselves dead if they so much as make eye contact—or so the rumors say. In actuality, Vash is a huge softie who claims to have never taken a life and avoids violence at all costs.\\n\\nWith his crazy doughnut obsession and buffoonish attitude in tow, Vash traverses the wasteland of the planet Gunsmoke, all the while followed by two insurance agents, Meryl Stryfe and Milly Thompson, who attempt to minimize his impact on the public. But soon, their misadventures evolve into life-or-death situations as a group of legendary assassins are summoned to bring about suffering to the trio. Vash\\'s agonizing past will be unraveled and his morality and principles pushed to the breaking point.\\n\\n[Written by MAL Rewrite]'\n",
      " \"Though hidden away from the general public, Witches—those with supernatural powers—have always existed in human societies. Neither numerous nor inherently evil, Witches are nonetheless capable of creating disorder by misusing their powers for criminal means. The task of solving supernatural crimes falls outside of the jurisdiction of normal authorities and is instead handled by the Solomon organization.\\n\\nHaving finished her training in Italy, Robin Sena transfers to Solomon's local Japanese branch, STNJ. Possessing powerful pyrokinetic abilities, she is herself a Witch, putting her at odds with STNJ's methods of dealing with rogue Witches. In particular, Robin opposes the use of an elixir called Orbo, which can weaken or even neutralize a Witch's powers. If Robin wants to find her place within the organization, she must find a way to navigate the internal politics of Solomon while also handling the threat of hostile Witches—but both seem to be dangerous for very different reasons.\\n\\n[Written by MAL Rewrite]\"\n",
      " \"It is the dark century and the people are suffering under the rule of the devil, Vandel, who is able to manipulate monsters. The Vandel Busters are a group of people who hunt these devils, and among them, the Zenon Squad is known to be the strongest busters on the continent. A young boy, Beet, dreams of joining the Zenon Squad. However, one day, as a result of Beet's fault, the Zenon squad was defeated by the devil, Beltose. The five dying busters sacrificed their life power into their five weapons, Saiga. After giving their weapons to Beet, they passed away. Years have passed since then and the young Vandel Buster, Beet, begins his adventure to carry out the Zenon Squad's will to put an end to the dark century.\"]\n",
      "22602\n",
      "\n",
      "background\n",
      "['When Cowboy Bebop first aired in spring of 1998 on TV Tokyo, only episodes 2-3, 7-15, and 18 were broadcast, it was concluded with a recap special known as Yose Atsume Blues. This was due to anime censorship having increased following the big controversies over Evangelion, as a result most of the series was pulled from the air due to violent content. Satellite channel WOWOW picked up the series in the fall of that year and aired it in its entirety uncensored. Cowboy Bebop was not a ratings hit in Japan, but sold over 19,000 DVD units in the initial release run, and 81,000 overall. Protagonist Spike Spiegel won Best Male Character, and Megumi Hayashibara won Best Voice Actor for her role as Faye Valentine in the 1999 and 2000 Anime Grand Prix, respectively. Cowboy Bebop\\'s biggest influence has been in the United States, where it premiered on Adult Swim in 2001 with many reruns since. The show\\'s heavy Western influence struck a chord with American viewers, where it became a \"gateway drug\" to anime aimed at adult audiences.'\n",
      " nan\n",
      " \"The Japanese release by Victor Entertainment has different openings relating to the specific episode it's played on. The initial Geneon Entertainment USA (then known as Pioneer) releases on VHS and DVD (singles, Signature Series, and box set) used only the first opening on each episode. This was due to the Japanese licensor providing them clean materials for only the first opening to put the English credits on. Geneon later fixed this mistake on their Limited Edition tin releases in 2005/2006, as well as on the Remix singles. Following Geneon USA's demise in late 2007, the show went out of print. When FUNimation Entertainment picked up the show in 2010 and released it, they repeated Geneon's mistake of using only the first opening on every episode. This mistake was later fixed in 2013 on the Anime Classics re-release.\"\n",
      " 'Eyeshield 21 was original scheduled to stream in North America on Toonami Jetstream and NFL Rush in collaboration with the National Football League, but the plan fell through and the anime made its debut only on Toonami Jetstream, which later dropped the series. It would then become available in its entirety on Crunchyroll. Sentai Filmworks later licensed and released the first 52 episodes on DVD from 2010 to 2011.'\n",
      " \"Hachimitsu to Clover was the first anime to air on Fuji Television's noitaminA block.\"]\n",
      "2735\n",
      "\n",
      "producers\n",
      "[\"['Bandai Visual', 'Victor Entertainment', 'Audio Planning U']\"\n",
      " \"['Sunrise', 'Bandai Visual']\" \"['Victor Entertainment']\"\n",
      " \"['Bandai Visual', 'Dentsu', 'Victor Entertainment']\"\n",
      " \"['TV Tokyo', 'Dentsu']\"]\n",
      "5036\n",
      "\n",
      "licensors\n",
      "[\"['Funimation']\" \"['Sony Pictures Entertainment', 'Funimation']\"\n",
      " \"['Funimation', 'Bandai Entertainment']\" \"['Illumitoon Entertainment']\"\n",
      " \"['VIZ Media', 'Sentai Filmworks']\"]\n",
      "288\n",
      "\n",
      "broadcast\n",
      "['Saturdays at 01:00 (JST)' nan 'Thursdays at 01:15 (JST)'\n",
      " 'Wednesdays at 01:25 (JST)' 'Thursdays at 18:30 (JST)']\n",
      "650\n",
      "\n",
      "related_anime\n",
      "['[]']\n",
      "1\n",
      "\n",
      "opening_themes\n",
      "['[]']\n",
      "1\n",
      "\n",
      "ending_themes\n",
      "['[]']\n",
      "1\n",
      "\n"
     ]
    }
   ],
   "source": [
    "for col in df.columns:\n",
    "    print(col)\n",
    "    print(df[col].unique()[:5])\n",
    "    print(df[col].nunique())\n",
    "    print()"
   ]
  },
  {
   "cell_type": "markdown",
   "id": "dacd7c52-aa54-4d53-8b3b-d4da64aedb29",
   "metadata": {},
   "source": [
    "### Dropping Columns with No Values\n",
    "\n",
    "Columns `related_anime`, `opening_themes`, and `ending_themes` were dropped as they contained no meaningful values."
   ]
  },
  {
   "cell_type": "code",
   "execution_count": 394,
   "id": "bf0bd330-6ede-4798-8da6-43278b9e730b",
   "metadata": {
    "tags": []
   },
   "outputs": [],
   "source": [
    "df = df.drop(columns=['related_anime', 'opening_themes', 'ending_themes'])"
   ]
  },
  {
   "cell_type": "code",
   "execution_count": 395,
   "id": "3863e578-b444-4e0d-a7a9-5fb3217cab79",
   "metadata": {
    "tags": []
   },
   "outputs": [
    {
     "data": {
      "text/plain": [
       "id                int64\n",
       "title            object\n",
       "type             object\n",
       "source           object\n",
       "episodes        float64\n",
       "status           object\n",
       "airing             bool\n",
       "duration         object\n",
       "rating           object\n",
       "score           float64\n",
       "scored_by       float64\n",
       "rank            float64\n",
       "popularity        int64\n",
       "members           int64\n",
       "favorites         int64\n",
       "year            float64\n",
       "season           object\n",
       "studios          object\n",
       "genres           object\n",
       "themes           object\n",
       "demographics     object\n",
       "synopsis         object\n",
       "background       object\n",
       "producers        object\n",
       "licensors        object\n",
       "broadcast        object\n",
       "dtype: object"
      ]
     },
     "execution_count": 395,
     "metadata": {},
     "output_type": "execute_result"
    }
   ],
   "source": [
    "df.dtypes"
   ]
  },
  {
   "cell_type": "code",
   "execution_count": 396,
   "id": "f033ec81-2c2c-485e-8b21-820b56658320",
   "metadata": {
    "tags": []
   },
   "outputs": [
    {
     "data": {
      "text/plain": [
       "(27969, 26)"
      ]
     },
     "execution_count": 396,
     "metadata": {},
     "output_type": "execute_result"
    }
   ],
   "source": [
    "df.shape"
   ]
  },
  {
   "cell_type": "code",
   "execution_count": 397,
   "id": "5ad27f8d-67c6-4eb0-905f-b628d758f295",
   "metadata": {
    "tags": []
   },
   "outputs": [
    {
     "data": {
      "text/plain": [
       "id                  0\n",
       "title               0\n",
       "type               81\n",
       "source              0\n",
       "episodes          688\n",
       "status              0\n",
       "airing              0\n",
       "duration            0\n",
       "rating            597\n",
       "score            9927\n",
       "scored_by        9927\n",
       "rank             6562\n",
       "popularity          0\n",
       "members             0\n",
       "favorites           0\n",
       "year            21932\n",
       "season          21932\n",
       "studios             0\n",
       "genres              0\n",
       "themes              0\n",
       "demographics        0\n",
       "synopsis         4971\n",
       "background      25148\n",
       "producers           0\n",
       "licensors           0\n",
       "broadcast       19767\n",
       "dtype: int64"
      ]
     },
     "execution_count": 397,
     "metadata": {},
     "output_type": "execute_result"
    }
   ],
   "source": [
    "df.isnull().sum()"
   ]
  },
  {
   "cell_type": "code",
   "execution_count": 398,
   "id": "ebeb9070-b7cc-40ad-bc03-2954b585bbeb",
   "metadata": {
    "tags": []
   },
   "outputs": [
    {
     "data": {
      "text/html": [
       "<div>\n",
       "<style scoped>\n",
       "    .dataframe tbody tr th:only-of-type {\n",
       "        vertical-align: middle;\n",
       "    }\n",
       "\n",
       "    .dataframe tbody tr th {\n",
       "        vertical-align: top;\n",
       "    }\n",
       "\n",
       "    .dataframe thead th {\n",
       "        text-align: right;\n",
       "    }\n",
       "</style>\n",
       "<table border=\"1\" class=\"dataframe\">\n",
       "  <thead>\n",
       "    <tr style=\"text-align: right;\">\n",
       "      <th></th>\n",
       "      <th>0</th>\n",
       "      <th>1</th>\n",
       "      <th>2</th>\n",
       "      <th>3</th>\n",
       "      <th>4</th>\n",
       "    </tr>\n",
       "  </thead>\n",
       "  <tbody>\n",
       "    <tr>\n",
       "      <th>id</th>\n",
       "      <td>1</td>\n",
       "      <td>5</td>\n",
       "      <td>6</td>\n",
       "      <td>7</td>\n",
       "      <td>8</td>\n",
       "    </tr>\n",
       "    <tr>\n",
       "      <th>title</th>\n",
       "      <td>Cowboy Bebop</td>\n",
       "      <td>Cowboy Bebop: Tengoku no Tobira</td>\n",
       "      <td>Trigun</td>\n",
       "      <td>Witch Hunter Robin</td>\n",
       "      <td>Bouken Ou Beet</td>\n",
       "    </tr>\n",
       "    <tr>\n",
       "      <th>type</th>\n",
       "      <td>TV</td>\n",
       "      <td>Movie</td>\n",
       "      <td>TV</td>\n",
       "      <td>TV</td>\n",
       "      <td>TV</td>\n",
       "    </tr>\n",
       "    <tr>\n",
       "      <th>source</th>\n",
       "      <td>Original</td>\n",
       "      <td>Original</td>\n",
       "      <td>Manga</td>\n",
       "      <td>Original</td>\n",
       "      <td>Manga</td>\n",
       "    </tr>\n",
       "    <tr>\n",
       "      <th>episodes</th>\n",
       "      <td>26.0</td>\n",
       "      <td>1.0</td>\n",
       "      <td>26.0</td>\n",
       "      <td>26.0</td>\n",
       "      <td>52.0</td>\n",
       "    </tr>\n",
       "    <tr>\n",
       "      <th>status</th>\n",
       "      <td>Finished Airing</td>\n",
       "      <td>Finished Airing</td>\n",
       "      <td>Finished Airing</td>\n",
       "      <td>Finished Airing</td>\n",
       "      <td>Finished Airing</td>\n",
       "    </tr>\n",
       "    <tr>\n",
       "      <th>airing</th>\n",
       "      <td>False</td>\n",
       "      <td>False</td>\n",
       "      <td>False</td>\n",
       "      <td>False</td>\n",
       "      <td>False</td>\n",
       "    </tr>\n",
       "    <tr>\n",
       "      <th>duration</th>\n",
       "      <td>24 min per ep</td>\n",
       "      <td>1 hr 55 min</td>\n",
       "      <td>24 min per ep</td>\n",
       "      <td>25 min per ep</td>\n",
       "      <td>23 min per ep</td>\n",
       "    </tr>\n",
       "    <tr>\n",
       "      <th>rating</th>\n",
       "      <td>R - 17+ (violence &amp; profanity)</td>\n",
       "      <td>R - 17+ (violence &amp; profanity)</td>\n",
       "      <td>PG-13 - Teens 13 or older</td>\n",
       "      <td>PG-13 - Teens 13 or older</td>\n",
       "      <td>PG - Children</td>\n",
       "    </tr>\n",
       "    <tr>\n",
       "      <th>score</th>\n",
       "      <td>8.75</td>\n",
       "      <td>8.38</td>\n",
       "      <td>8.22</td>\n",
       "      <td>7.24</td>\n",
       "      <td>6.93</td>\n",
       "    </tr>\n",
       "    <tr>\n",
       "      <th>scored_by</th>\n",
       "      <td>999441.0</td>\n",
       "      <td>221785.0</td>\n",
       "      <td>383378.0</td>\n",
       "      <td>44880.0</td>\n",
       "      <td>6910.0</td>\n",
       "    </tr>\n",
       "    <tr>\n",
       "      <th>rank</th>\n",
       "      <td>46.0</td>\n",
       "      <td>212.0</td>\n",
       "      <td>372.0</td>\n",
       "      <td>3154.0</td>\n",
       "      <td>4650.0</td>\n",
       "    </tr>\n",
       "    <tr>\n",
       "      <th>popularity</th>\n",
       "      <td>43</td>\n",
       "      <td>635</td>\n",
       "      <td>259</td>\n",
       "      <td>1922</td>\n",
       "      <td>5557</td>\n",
       "    </tr>\n",
       "    <tr>\n",
       "      <th>members</th>\n",
       "      <td>1934663</td>\n",
       "      <td>390832</td>\n",
       "      <td>789160</td>\n",
       "      <td>120953</td>\n",
       "      <td>16087</td>\n",
       "    </tr>\n",
       "    <tr>\n",
       "      <th>favorites</th>\n",
       "      <td>85036</td>\n",
       "      <td>1660</td>\n",
       "      <td>16536</td>\n",
       "      <td>657</td>\n",
       "      <td>16</td>\n",
       "    </tr>\n",
       "    <tr>\n",
       "      <th>year</th>\n",
       "      <td>1998.0</td>\n",
       "      <td>NaN</td>\n",
       "      <td>1998.0</td>\n",
       "      <td>2002.0</td>\n",
       "      <td>2004.0</td>\n",
       "    </tr>\n",
       "    <tr>\n",
       "      <th>season</th>\n",
       "      <td>spring</td>\n",
       "      <td>NaN</td>\n",
       "      <td>spring</td>\n",
       "      <td>summer</td>\n",
       "      <td>fall</td>\n",
       "    </tr>\n",
       "    <tr>\n",
       "      <th>studios</th>\n",
       "      <td>['Sunrise']</td>\n",
       "      <td>['Bones']</td>\n",
       "      <td>['Madhouse']</td>\n",
       "      <td>['Sunrise']</td>\n",
       "      <td>['Toei Animation']</td>\n",
       "    </tr>\n",
       "    <tr>\n",
       "      <th>genres</th>\n",
       "      <td>['Action', 'Award Winning', 'Sci-Fi']</td>\n",
       "      <td>['Action', 'Sci-Fi']</td>\n",
       "      <td>['Action', 'Adventure', 'Sci-Fi']</td>\n",
       "      <td>['Action', 'Drama', 'Mystery', 'Supernatural']</td>\n",
       "      <td>['Action', 'Adventure', 'Fantasy']</td>\n",
       "    </tr>\n",
       "    <tr>\n",
       "      <th>themes</th>\n",
       "      <td>['Adult Cast', 'Space']</td>\n",
       "      <td>['Adult Cast', 'Space']</td>\n",
       "      <td>['Adult Cast']</td>\n",
       "      <td>['Detective']</td>\n",
       "      <td>[]</td>\n",
       "    </tr>\n",
       "    <tr>\n",
       "      <th>demographics</th>\n",
       "      <td>[]</td>\n",
       "      <td>[]</td>\n",
       "      <td>['Shounen']</td>\n",
       "      <td>[]</td>\n",
       "      <td>['Shounen']</td>\n",
       "    </tr>\n",
       "    <tr>\n",
       "      <th>synopsis</th>\n",
       "      <td>Crime is timeless. By the year 2071, humanity ...</td>\n",
       "      <td>Another day, another bounty—such is the life o...</td>\n",
       "      <td>Vash the Stampede is the man with a $$60,000,0...</td>\n",
       "      <td>Though hidden away from the general public, Wi...</td>\n",
       "      <td>It is the dark century and the people are suff...</td>\n",
       "    </tr>\n",
       "    <tr>\n",
       "      <th>background</th>\n",
       "      <td>When Cowboy Bebop first aired in spring of 199...</td>\n",
       "      <td>NaN</td>\n",
       "      <td>The Japanese release by Victor Entertainment h...</td>\n",
       "      <td>NaN</td>\n",
       "      <td>NaN</td>\n",
       "    </tr>\n",
       "    <tr>\n",
       "      <th>producers</th>\n",
       "      <td>['Bandai Visual', 'Victor Entertainment', 'Aud...</td>\n",
       "      <td>['Sunrise', 'Bandai Visual']</td>\n",
       "      <td>['Victor Entertainment']</td>\n",
       "      <td>['Bandai Visual', 'Dentsu', 'Victor Entertainm...</td>\n",
       "      <td>['TV Tokyo', 'Dentsu']</td>\n",
       "    </tr>\n",
       "    <tr>\n",
       "      <th>licensors</th>\n",
       "      <td>['Funimation']</td>\n",
       "      <td>['Sony Pictures Entertainment', 'Funimation']</td>\n",
       "      <td>['Funimation']</td>\n",
       "      <td>['Funimation', 'Bandai Entertainment']</td>\n",
       "      <td>['Illumitoon Entertainment']</td>\n",
       "    </tr>\n",
       "    <tr>\n",
       "      <th>broadcast</th>\n",
       "      <td>Saturdays at 01:00 (JST)</td>\n",
       "      <td>NaN</td>\n",
       "      <td>Thursdays at 01:15 (JST)</td>\n",
       "      <td>Wednesdays at 01:25 (JST)</td>\n",
       "      <td>Thursdays at 18:30 (JST)</td>\n",
       "    </tr>\n",
       "  </tbody>\n",
       "</table>\n",
       "</div>"
      ],
      "text/plain": [
       "                                                              0  \\\n",
       "id                                                            1   \n",
       "title                                              Cowboy Bebop   \n",
       "type                                                         TV   \n",
       "source                                                 Original   \n",
       "episodes                                                   26.0   \n",
       "status                                          Finished Airing   \n",
       "airing                                                    False   \n",
       "duration                                          24 min per ep   \n",
       "rating                           R - 17+ (violence & profanity)   \n",
       "score                                                      8.75   \n",
       "scored_by                                              999441.0   \n",
       "rank                                                       46.0   \n",
       "popularity                                                   43   \n",
       "members                                                 1934663   \n",
       "favorites                                                 85036   \n",
       "year                                                     1998.0   \n",
       "season                                                   spring   \n",
       "studios                                             ['Sunrise']   \n",
       "genres                    ['Action', 'Award Winning', 'Sci-Fi']   \n",
       "themes                                  ['Adult Cast', 'Space']   \n",
       "demographics                                                 []   \n",
       "synopsis      Crime is timeless. By the year 2071, humanity ...   \n",
       "background    When Cowboy Bebop first aired in spring of 199...   \n",
       "producers     ['Bandai Visual', 'Victor Entertainment', 'Aud...   \n",
       "licensors                                        ['Funimation']   \n",
       "broadcast                              Saturdays at 01:00 (JST)   \n",
       "\n",
       "                                                              1  \\\n",
       "id                                                            5   \n",
       "title                           Cowboy Bebop: Tengoku no Tobira   \n",
       "type                                                      Movie   \n",
       "source                                                 Original   \n",
       "episodes                                                    1.0   \n",
       "status                                          Finished Airing   \n",
       "airing                                                    False   \n",
       "duration                                            1 hr 55 min   \n",
       "rating                           R - 17+ (violence & profanity)   \n",
       "score                                                      8.38   \n",
       "scored_by                                              221785.0   \n",
       "rank                                                      212.0   \n",
       "popularity                                                  635   \n",
       "members                                                  390832   \n",
       "favorites                                                  1660   \n",
       "year                                                        NaN   \n",
       "season                                                      NaN   \n",
       "studios                                               ['Bones']   \n",
       "genres                                     ['Action', 'Sci-Fi']   \n",
       "themes                                  ['Adult Cast', 'Space']   \n",
       "demographics                                                 []   \n",
       "synopsis      Another day, another bounty—such is the life o...   \n",
       "background                                                  NaN   \n",
       "producers                          ['Sunrise', 'Bandai Visual']   \n",
       "licensors         ['Sony Pictures Entertainment', 'Funimation']   \n",
       "broadcast                                                   NaN   \n",
       "\n",
       "                                                              2  \\\n",
       "id                                                            6   \n",
       "title                                                    Trigun   \n",
       "type                                                         TV   \n",
       "source                                                    Manga   \n",
       "episodes                                                   26.0   \n",
       "status                                          Finished Airing   \n",
       "airing                                                    False   \n",
       "duration                                          24 min per ep   \n",
       "rating                                PG-13 - Teens 13 or older   \n",
       "score                                                      8.22   \n",
       "scored_by                                              383378.0   \n",
       "rank                                                      372.0   \n",
       "popularity                                                  259   \n",
       "members                                                  789160   \n",
       "favorites                                                 16536   \n",
       "year                                                     1998.0   \n",
       "season                                                   spring   \n",
       "studios                                            ['Madhouse']   \n",
       "genres                        ['Action', 'Adventure', 'Sci-Fi']   \n",
       "themes                                           ['Adult Cast']   \n",
       "demographics                                        ['Shounen']   \n",
       "synopsis      Vash the Stampede is the man with a $$60,000,0...   \n",
       "background    The Japanese release by Victor Entertainment h...   \n",
       "producers                              ['Victor Entertainment']   \n",
       "licensors                                        ['Funimation']   \n",
       "broadcast                              Thursdays at 01:15 (JST)   \n",
       "\n",
       "                                                              3  \\\n",
       "id                                                            7   \n",
       "title                                        Witch Hunter Robin   \n",
       "type                                                         TV   \n",
       "source                                                 Original   \n",
       "episodes                                                   26.0   \n",
       "status                                          Finished Airing   \n",
       "airing                                                    False   \n",
       "duration                                          25 min per ep   \n",
       "rating                                PG-13 - Teens 13 or older   \n",
       "score                                                      7.24   \n",
       "scored_by                                               44880.0   \n",
       "rank                                                     3154.0   \n",
       "popularity                                                 1922   \n",
       "members                                                  120953   \n",
       "favorites                                                   657   \n",
       "year                                                     2002.0   \n",
       "season                                                   summer   \n",
       "studios                                             ['Sunrise']   \n",
       "genres           ['Action', 'Drama', 'Mystery', 'Supernatural']   \n",
       "themes                                            ['Detective']   \n",
       "demographics                                                 []   \n",
       "synopsis      Though hidden away from the general public, Wi...   \n",
       "background                                                  NaN   \n",
       "producers     ['Bandai Visual', 'Dentsu', 'Victor Entertainm...   \n",
       "licensors                ['Funimation', 'Bandai Entertainment']   \n",
       "broadcast                             Wednesdays at 01:25 (JST)   \n",
       "\n",
       "                                                              4  \n",
       "id                                                            8  \n",
       "title                                            Bouken Ou Beet  \n",
       "type                                                         TV  \n",
       "source                                                    Manga  \n",
       "episodes                                                   52.0  \n",
       "status                                          Finished Airing  \n",
       "airing                                                    False  \n",
       "duration                                          23 min per ep  \n",
       "rating                                            PG - Children  \n",
       "score                                                      6.93  \n",
       "scored_by                                                6910.0  \n",
       "rank                                                     4650.0  \n",
       "popularity                                                 5557  \n",
       "members                                                   16087  \n",
       "favorites                                                    16  \n",
       "year                                                     2004.0  \n",
       "season                                                     fall  \n",
       "studios                                      ['Toei Animation']  \n",
       "genres                       ['Action', 'Adventure', 'Fantasy']  \n",
       "themes                                                       []  \n",
       "demographics                                        ['Shounen']  \n",
       "synopsis      It is the dark century and the people are suff...  \n",
       "background                                                  NaN  \n",
       "producers                                ['TV Tokyo', 'Dentsu']  \n",
       "licensors                          ['Illumitoon Entertainment']  \n",
       "broadcast                              Thursdays at 18:30 (JST)  "
      ]
     },
     "execution_count": 398,
     "metadata": {},
     "output_type": "execute_result"
    }
   ],
   "source": [
    "df.head().T"
   ]
  },
  {
   "cell_type": "code",
   "execution_count": 399,
   "id": "dc184182-2fcc-405a-b309-2e622e4b6ca1",
   "metadata": {
    "tags": []
   },
   "outputs": [],
   "source": [
    "columns_to_process = ['studios', 'genres', 'themes', 'demographics', 'producers', 'licensors']\n",
    "\n",
    "for col in columns_to_process:\n",
    "    df[col] = df[col].apply(\n",
    "        lambda x: ','.join(item.strip() for item in eval(x)) if isinstance(x, str) and x.startswith('[') and len(eval(x)) > 0 else np.nan\n",
    "    )"
   ]
  },
  {
   "cell_type": "code",
   "execution_count": 400,
   "id": "0a03adcb-533c-4288-ae9a-0dbf0a89f168",
   "metadata": {
    "tags": []
   },
   "outputs": [
    {
     "name": "stdout",
     "output_type": "stream",
     "text": [
      "id               0.000000\n",
      "title            0.000000\n",
      "type             0.289606\n",
      "source           0.000000\n",
      "episodes         2.459866\n",
      "status           0.000000\n",
      "airing           0.000000\n",
      "duration         0.000000\n",
      "rating           2.134506\n",
      "score           35.492867\n",
      "scored_by       35.492867\n",
      "rank            23.461690\n",
      "popularity       0.000000\n",
      "members          0.000000\n",
      "favorites        0.000000\n",
      "year            78.415388\n",
      "season          78.415388\n",
      "studios         41.141979\n",
      "genres          20.615682\n",
      "themes          41.374379\n",
      "demographics    62.340448\n",
      "synopsis        17.773249\n",
      "background      89.913833\n",
      "producers       52.686903\n",
      "licensors       82.055132\n",
      "broadcast       70.674676\n",
      "dtype: float64\n"
     ]
    }
   ],
   "source": [
    "missing_percentage = df.isnull().mean() * 100\n",
    "print(missing_percentage)"
   ]
  },
  {
   "cell_type": "code",
   "execution_count": 401,
   "id": "1a4b3720-3257-468b-954f-682d270628fd",
   "metadata": {
    "tags": []
   },
   "outputs": [],
   "source": [
    "df = df.drop(columns=missing_percentage[missing_percentage > 60].index)"
   ]
  },
  {
   "cell_type": "markdown",
   "id": "5440d868-4983-40c3-8617-c8a6ad6f1827",
   "metadata": {},
   "source": [
    "### Dropping Columns with Over 60% Missing Values\n",
    "\n",
    "Columns `year`, `season`, `demographics`, `background`, `licensors` and `broadcast` were dropped as they had over 70% missing values, making them unsuitable for analysis."
   ]
  },
  {
   "cell_type": "code",
   "execution_count": 402,
   "id": "905f9130-2204-4c5a-8d58-3ac01b570c64",
   "metadata": {
    "tags": []
   },
   "outputs": [
    {
     "data": {
      "text/plain": [
       "id                0\n",
       "title             0\n",
       "type             81\n",
       "source            0\n",
       "episodes        688\n",
       "status            0\n",
       "airing            0\n",
       "duration          0\n",
       "rating          597\n",
       "score          9927\n",
       "scored_by      9927\n",
       "rank           6562\n",
       "popularity        0\n",
       "members           0\n",
       "favorites         0\n",
       "studios       11507\n",
       "genres         5766\n",
       "themes        11572\n",
       "synopsis       4971\n",
       "producers     14736\n",
       "dtype: int64"
      ]
     },
     "execution_count": 402,
     "metadata": {},
     "output_type": "execute_result"
    }
   ],
   "source": [
    "df.isnull().sum()"
   ]
  },
  {
   "cell_type": "code",
   "execution_count": 403,
   "id": "4d69aacc-5c9e-49f1-b656-93ae80249fc4",
   "metadata": {
    "tags": []
   },
   "outputs": [
    {
     "data": {
      "text/plain": [
       "(27969, 20)"
      ]
     },
     "execution_count": 403,
     "metadata": {},
     "output_type": "execute_result"
    }
   ],
   "source": [
    "df.shape"
   ]
  },
  {
   "cell_type": "code",
   "execution_count": 404,
   "id": "188bb26f-0ef2-439b-af83-cde94a2aa8fa",
   "metadata": {
    "tags": []
   },
   "outputs": [
    {
     "data": {
      "text/plain": [
       "id              0\n",
       "title           0\n",
       "type           80\n",
       "source          0\n",
       "episodes      429\n",
       "status          0\n",
       "airing          0\n",
       "duration        0\n",
       "rating        292\n",
       "score         543\n",
       "scored_by     543\n",
       "rank          543\n",
       "popularity      0\n",
       "members         0\n",
       "favorites       0\n",
       "studios       249\n",
       "genres         39\n",
       "themes        193\n",
       "synopsis       78\n",
       "producers     305\n",
       "dtype: int64"
      ]
     },
     "execution_count": 404,
     "metadata": {},
     "output_type": "execute_result"
    }
   ],
   "source": [
    "df[df['status']== 'Not yet aired'].isnull().sum()"
   ]
  },
  {
   "cell_type": "code",
   "execution_count": 405,
   "id": "74e6eaa0-c5aa-4d1e-b14a-39eb6d00f748",
   "metadata": {
    "tags": []
   },
   "outputs": [],
   "source": [
    "columns_to_fill = ['producers', 'studios', 'genres', 'themes']\n",
    "\n",
    "# Replace NaN with \"Unknown\"\n",
    "for col in columns_to_fill:\n",
    "    df[col] = df[col].fillna('Unknown')"
   ]
  },
  {
   "cell_type": "markdown",
   "id": "457dcb24-196d-48ef-a825-e8dbe49d7486",
   "metadata": {},
   "source": [
    "### Replacing Missing Values with \"Unknown\"\n",
    "\n",
    "Missing values in the `producers`, `genres`, `themes`, and `studios` columns are replaced with `\"Unknown\"`. This preserves all data while explicitly indicating missing information."
   ]
  },
  {
   "cell_type": "code",
   "execution_count": 406,
   "id": "1aaadcb2-8f84-4d45-b2be-c2d9c395ccdf",
   "metadata": {
    "tags": []
   },
   "outputs": [],
   "source": [
    "def create_success_target(row):\n",
    "    conditions = [\n",
    "        row['score'] > 6 if pd.notnull(row['score']) else True,  # Ignore if null\n",
    "        row['scored_by'] > 8000 if pd.notnull(row['scored_by']) else True,  # Ignore if null\n",
    "        row['popularity'] < 10000 if pd.notnull(row['popularity']) else True,  # Ignore if null\n",
    "        row['members'] > 8000 if pd.notnull(row['members']) else True,  # Ignore if null\n",
    "        row['favorites'] > 100 if pd.notnull(row['favorites']) else True,  # Ignore if null\n",
    "        row['rank'] < 10000 if pd.notnull(row['rank']) else True # Ignore if null\n",
    "    ]\n",
    "    return 1 if all(conditions) else 0"
   ]
  },
  {
   "cell_type": "code",
   "execution_count": 407,
   "id": "ef406960-d41b-44aa-a960-c235ce547b6c",
   "metadata": {
    "tags": []
   },
   "outputs": [],
   "source": [
    "df['success'] = df.apply(create_success_target, axis=1)"
   ]
  },
  {
   "cell_type": "code",
   "execution_count": 408,
   "id": "47366a69-c192-40f7-89b0-ea92664acbbb",
   "metadata": {
    "tags": []
   },
   "outputs": [
    {
     "data": {
      "text/plain": [
       "success\n",
       "0    24568\n",
       "1     3401\n",
       "Name: count, dtype: int64"
      ]
     },
     "execution_count": 408,
     "metadata": {},
     "output_type": "execute_result"
    }
   ],
   "source": [
    "df['success'].value_counts()"
   ]
  },
  {
   "cell_type": "code",
   "execution_count": 409,
   "id": "85be9d79-d1d6-4548-9d9b-f0202910022c",
   "metadata": {
    "tags": []
   },
   "outputs": [
    {
     "data": {
      "text/html": [
       "<div>\n",
       "<style scoped>\n",
       "    .dataframe tbody tr th:only-of-type {\n",
       "        vertical-align: middle;\n",
       "    }\n",
       "\n",
       "    .dataframe tbody tr th {\n",
       "        vertical-align: top;\n",
       "    }\n",
       "\n",
       "    .dataframe thead th {\n",
       "        text-align: right;\n",
       "    }\n",
       "</style>\n",
       "<table border=\"1\" class=\"dataframe\">\n",
       "  <thead>\n",
       "    <tr style=\"text-align: right;\">\n",
       "      <th></th>\n",
       "      <th>id</th>\n",
       "      <th>title</th>\n",
       "      <th>type</th>\n",
       "      <th>source</th>\n",
       "      <th>episodes</th>\n",
       "      <th>status</th>\n",
       "      <th>airing</th>\n",
       "      <th>duration</th>\n",
       "      <th>rating</th>\n",
       "      <th>score</th>\n",
       "      <th>...</th>\n",
       "      <th>rank</th>\n",
       "      <th>popularity</th>\n",
       "      <th>members</th>\n",
       "      <th>favorites</th>\n",
       "      <th>studios</th>\n",
       "      <th>genres</th>\n",
       "      <th>themes</th>\n",
       "      <th>synopsis</th>\n",
       "      <th>producers</th>\n",
       "      <th>success</th>\n",
       "    </tr>\n",
       "  </thead>\n",
       "  <tbody>\n",
       "    <tr>\n",
       "      <th>0</th>\n",
       "      <td>1</td>\n",
       "      <td>Cowboy Bebop</td>\n",
       "      <td>TV</td>\n",
       "      <td>Original</td>\n",
       "      <td>26.0</td>\n",
       "      <td>Finished Airing</td>\n",
       "      <td>False</td>\n",
       "      <td>24 min per ep</td>\n",
       "      <td>R - 17+ (violence &amp; profanity)</td>\n",
       "      <td>8.75</td>\n",
       "      <td>...</td>\n",
       "      <td>46.0</td>\n",
       "      <td>43</td>\n",
       "      <td>1934663</td>\n",
       "      <td>85036</td>\n",
       "      <td>Sunrise</td>\n",
       "      <td>Action,Award Winning,Sci-Fi</td>\n",
       "      <td>Adult Cast,Space</td>\n",
       "      <td>Crime is timeless. By the year 2071, humanity ...</td>\n",
       "      <td>Bandai Visual,Victor Entertainment,Audio Plann...</td>\n",
       "      <td>1</td>\n",
       "    </tr>\n",
       "    <tr>\n",
       "      <th>1</th>\n",
       "      <td>5</td>\n",
       "      <td>Cowboy Bebop: Tengoku no Tobira</td>\n",
       "      <td>Movie</td>\n",
       "      <td>Original</td>\n",
       "      <td>1.0</td>\n",
       "      <td>Finished Airing</td>\n",
       "      <td>False</td>\n",
       "      <td>1 hr 55 min</td>\n",
       "      <td>R - 17+ (violence &amp; profanity)</td>\n",
       "      <td>8.38</td>\n",
       "      <td>...</td>\n",
       "      <td>212.0</td>\n",
       "      <td>635</td>\n",
       "      <td>390832</td>\n",
       "      <td>1660</td>\n",
       "      <td>Bones</td>\n",
       "      <td>Action,Sci-Fi</td>\n",
       "      <td>Adult Cast,Space</td>\n",
       "      <td>Another day, another bounty—such is the life o...</td>\n",
       "      <td>Sunrise,Bandai Visual</td>\n",
       "      <td>1</td>\n",
       "    </tr>\n",
       "    <tr>\n",
       "      <th>2</th>\n",
       "      <td>6</td>\n",
       "      <td>Trigun</td>\n",
       "      <td>TV</td>\n",
       "      <td>Manga</td>\n",
       "      <td>26.0</td>\n",
       "      <td>Finished Airing</td>\n",
       "      <td>False</td>\n",
       "      <td>24 min per ep</td>\n",
       "      <td>PG-13 - Teens 13 or older</td>\n",
       "      <td>8.22</td>\n",
       "      <td>...</td>\n",
       "      <td>372.0</td>\n",
       "      <td>259</td>\n",
       "      <td>789160</td>\n",
       "      <td>16536</td>\n",
       "      <td>Madhouse</td>\n",
       "      <td>Action,Adventure,Sci-Fi</td>\n",
       "      <td>Adult Cast</td>\n",
       "      <td>Vash the Stampede is the man with a $$60,000,0...</td>\n",
       "      <td>Victor Entertainment</td>\n",
       "      <td>1</td>\n",
       "    </tr>\n",
       "    <tr>\n",
       "      <th>3</th>\n",
       "      <td>7</td>\n",
       "      <td>Witch Hunter Robin</td>\n",
       "      <td>TV</td>\n",
       "      <td>Original</td>\n",
       "      <td>26.0</td>\n",
       "      <td>Finished Airing</td>\n",
       "      <td>False</td>\n",
       "      <td>25 min per ep</td>\n",
       "      <td>PG-13 - Teens 13 or older</td>\n",
       "      <td>7.24</td>\n",
       "      <td>...</td>\n",
       "      <td>3154.0</td>\n",
       "      <td>1922</td>\n",
       "      <td>120953</td>\n",
       "      <td>657</td>\n",
       "      <td>Sunrise</td>\n",
       "      <td>Action,Drama,Mystery,Supernatural</td>\n",
       "      <td>Detective</td>\n",
       "      <td>Though hidden away from the general public, Wi...</td>\n",
       "      <td>Bandai Visual,Dentsu,Victor Entertainment</td>\n",
       "      <td>1</td>\n",
       "    </tr>\n",
       "    <tr>\n",
       "      <th>5</th>\n",
       "      <td>15</td>\n",
       "      <td>Eyeshield 21</td>\n",
       "      <td>TV</td>\n",
       "      <td>Manga</td>\n",
       "      <td>145.0</td>\n",
       "      <td>Finished Airing</td>\n",
       "      <td>False</td>\n",
       "      <td>23 min per ep</td>\n",
       "      <td>PG-13 - Teens 13 or older</td>\n",
       "      <td>7.91</td>\n",
       "      <td>...</td>\n",
       "      <td>799.0</td>\n",
       "      <td>1342</td>\n",
       "      <td>188406</td>\n",
       "      <td>2051</td>\n",
       "      <td>Gallop</td>\n",
       "      <td>Sports</td>\n",
       "      <td>Team Sports</td>\n",
       "      <td>Shy, reserved, and small-statured, Deimon High...</td>\n",
       "      <td>TV Tokyo,Nihon Ad Systems,TV Tokyo Music,Shueisha</td>\n",
       "      <td>1</td>\n",
       "    </tr>\n",
       "  </tbody>\n",
       "</table>\n",
       "<p>5 rows × 21 columns</p>\n",
       "</div>"
      ],
      "text/plain": [
       "   id                            title   type    source  episodes  \\\n",
       "0   1                     Cowboy Bebop     TV  Original      26.0   \n",
       "1   5  Cowboy Bebop: Tengoku no Tobira  Movie  Original       1.0   \n",
       "2   6                           Trigun     TV     Manga      26.0   \n",
       "3   7               Witch Hunter Robin     TV  Original      26.0   \n",
       "5  15                     Eyeshield 21     TV     Manga     145.0   \n",
       "\n",
       "            status  airing       duration                          rating  \\\n",
       "0  Finished Airing   False  24 min per ep  R - 17+ (violence & profanity)   \n",
       "1  Finished Airing   False    1 hr 55 min  R - 17+ (violence & profanity)   \n",
       "2  Finished Airing   False  24 min per ep       PG-13 - Teens 13 or older   \n",
       "3  Finished Airing   False  25 min per ep       PG-13 - Teens 13 or older   \n",
       "5  Finished Airing   False  23 min per ep       PG-13 - Teens 13 or older   \n",
       "\n",
       "   score  ...    rank  popularity  members  favorites   studios  \\\n",
       "0   8.75  ...    46.0          43  1934663      85036   Sunrise   \n",
       "1   8.38  ...   212.0         635   390832       1660     Bones   \n",
       "2   8.22  ...   372.0         259   789160      16536  Madhouse   \n",
       "3   7.24  ...  3154.0        1922   120953        657   Sunrise   \n",
       "5   7.91  ...   799.0        1342   188406       2051    Gallop   \n",
       "\n",
       "                              genres            themes  \\\n",
       "0        Action,Award Winning,Sci-Fi  Adult Cast,Space   \n",
       "1                      Action,Sci-Fi  Adult Cast,Space   \n",
       "2            Action,Adventure,Sci-Fi        Adult Cast   \n",
       "3  Action,Drama,Mystery,Supernatural         Detective   \n",
       "5                             Sports       Team Sports   \n",
       "\n",
       "                                            synopsis  \\\n",
       "0  Crime is timeless. By the year 2071, humanity ...   \n",
       "1  Another day, another bounty—such is the life o...   \n",
       "2  Vash the Stampede is the man with a $$60,000,0...   \n",
       "3  Though hidden away from the general public, Wi...   \n",
       "5  Shy, reserved, and small-statured, Deimon High...   \n",
       "\n",
       "                                           producers success  \n",
       "0  Bandai Visual,Victor Entertainment,Audio Plann...       1  \n",
       "1                              Sunrise,Bandai Visual       1  \n",
       "2                               Victor Entertainment       1  \n",
       "3          Bandai Visual,Dentsu,Victor Entertainment       1  \n",
       "5  TV Tokyo,Nihon Ad Systems,TV Tokyo Music,Shueisha       1  \n",
       "\n",
       "[5 rows x 21 columns]"
      ]
     },
     "execution_count": 409,
     "metadata": {},
     "output_type": "execute_result"
    }
   ],
   "source": [
    "df[df['success']==1].head()"
   ]
  },
  {
   "cell_type": "markdown",
   "id": "7e9d11bb-82d8-4a4f-aa9d-d158c4773f35",
   "metadata": {},
   "source": [
    "### Creating Target Variable\n",
    "\n",
    "The target variable `success` is created based on multiple conditions: `score > 7.5`, `scored_by > 100,000`, `popularity < 1000`, `members > 100,000`, `favorites > 1,000` and `rank < 1000`. An anime meeting all these conditions is marked as successful (`1`), otherwise not (`0`)."
   ]
  },
  {
   "cell_type": "code",
   "execution_count": 410,
   "id": "2fbeddd4-31e1-4605-b72d-f820ae3fa2d5",
   "metadata": {
    "tags": []
   },
   "outputs": [],
   "source": [
    "df = df.drop(columns=['score', 'scored_by', 'popularity', 'members', 'favorites', 'rank'])"
   ]
  },
  {
   "cell_type": "markdown",
   "id": "30f9d9b5-da10-4d92-b442-83aae59f2875",
   "metadata": {},
   "source": [
    "### Dropping Columns Used for Target Creation\n",
    "\n",
    "The columns `score`, `scored_by`, `popularity`, `members`,`favorites` and `rank` are dropped as they were used to create the `success` target variable and are not needed for model training."
   ]
  },
  {
   "cell_type": "code",
   "execution_count": 411,
   "id": "5ec0babd-fc61-4b74-a391-8bf2634b7a22",
   "metadata": {
    "tags": []
   },
   "outputs": [
    {
     "data": {
      "text/plain": [
       "id              0\n",
       "title           0\n",
       "type           81\n",
       "source          0\n",
       "episodes      688\n",
       "status          0\n",
       "airing          0\n",
       "duration        0\n",
       "rating        597\n",
       "studios         0\n",
       "genres          0\n",
       "themes          0\n",
       "synopsis     4971\n",
       "producers       0\n",
       "success         0\n",
       "dtype: int64"
      ]
     },
     "execution_count": 411,
     "metadata": {},
     "output_type": "execute_result"
    }
   ],
   "source": [
    "df.isnull().sum()"
   ]
  },
  {
   "cell_type": "code",
   "execution_count": 412,
   "id": "2e31da81-924b-4b1a-a84a-57b4ca70db95",
   "metadata": {
    "tags": []
   },
   "outputs": [
    {
     "data": {
      "text/plain": [
       "(27969, 15)"
      ]
     },
     "execution_count": 412,
     "metadata": {},
     "output_type": "execute_result"
    }
   ],
   "source": [
    "df.shape"
   ]
  },
  {
   "cell_type": "code",
   "execution_count": 413,
   "id": "d9a1c8bd-3f2b-43ff-8110-62a137f660b0",
   "metadata": {
    "tags": []
   },
   "outputs": [],
   "source": [
    "df['type'] = df['type'].fillna(df['type'].mode()[0])"
   ]
  },
  {
   "cell_type": "code",
   "execution_count": 414,
   "id": "852a4052-2bb2-4c1a-837e-2ac49c8ba562",
   "metadata": {
    "tags": []
   },
   "outputs": [],
   "source": [
    "df['episodes'] = df['episodes'].fillna(df['episodes'].median())"
   ]
  },
  {
   "cell_type": "code",
   "execution_count": 415,
   "id": "e730e6d3-ff89-4bf9-88a2-aa81a1e02e3e",
   "metadata": {
    "tags": []
   },
   "outputs": [],
   "source": [
    "df['rating'] = df['rating'].fillna(df['rating'].mode()[0])"
   ]
  },
  {
   "cell_type": "code",
   "execution_count": 416,
   "id": "75ac7ee0-c8a5-454d-bf50-e317850bb64a",
   "metadata": {
    "tags": []
   },
   "outputs": [],
   "source": [
    "df['synopsis'] = df['synopsis'].fillna(\"No synopsis available\")"
   ]
  },
  {
   "cell_type": "markdown",
   "id": "9d4ca20a-6ebf-4b8e-bd70-0d42d2dc995e",
   "metadata": {
    "tags": []
   },
   "source": [
    "### Handling Missing Values in the Dataset\n",
    "\n",
    "- **`type`**: Imputed with the most frequent value (mode) to handle 81 missing values.\n",
    "- **`episodes`**: Imputed with the median to handle 688 missing values.\n",
    "- **`rating`**: Imputed with the most frequent value (mode) to handle 597 missing values.\n",
    "- **`synopsis`**: Filled with \"No synopsis available\" to handle 4971 missing values.\n",
    "\n",
    "This ensures no rows or columns are dropped, retaining the maximum amount of data for analysis."
   ]
  },
  {
   "cell_type": "code",
   "execution_count": 417,
   "id": "694604f7-4aeb-4726-9d9f-5d0d5eb1956c",
   "metadata": {
    "tags": []
   },
   "outputs": [
    {
     "data": {
      "text/plain": [
       "id           0\n",
       "title        0\n",
       "type         0\n",
       "source       0\n",
       "episodes     0\n",
       "status       0\n",
       "airing       0\n",
       "duration     0\n",
       "rating       0\n",
       "studios      0\n",
       "genres       0\n",
       "themes       0\n",
       "synopsis     0\n",
       "producers    0\n",
       "success      0\n",
       "dtype: int64"
      ]
     },
     "execution_count": 417,
     "metadata": {},
     "output_type": "execute_result"
    }
   ],
   "source": [
    "df.isnull().sum()"
   ]
  },
  {
   "cell_type": "code",
   "execution_count": 418,
   "id": "c577dbaf-0689-43ea-ae80-f7f90ee530b9",
   "metadata": {
    "tags": []
   },
   "outputs": [
    {
     "name": "stdout",
     "output_type": "stream",
     "text": [
      "id\n",
      "[1 5 6 7 8]\n",
      "27835\n",
      "\n",
      "title\n",
      "['Cowboy Bebop' 'Cowboy Bebop: Tengoku no Tobira' 'Trigun'\n",
      " 'Witch Hunter Robin' 'Bouken Ou Beet']\n",
      "27832\n",
      "\n",
      "type\n",
      "['TV' 'Movie' 'OVA' 'TV Special' 'Special']\n",
      "9\n",
      "\n",
      "source\n",
      "['Original' 'Manga' 'Light novel' 'Game' 'Visual novel']\n",
      "17\n",
      "\n",
      "episodes\n",
      "[ 26.   1.  52. 145.  24.]\n",
      "255\n",
      "\n",
      "status\n",
      "['Finished Airing' 'Currently Airing' 'Not yet aired']\n",
      "3\n",
      "\n",
      "airing\n",
      "[False  True]\n",
      "2\n",
      "\n",
      "duration\n",
      "['24 min per ep' '1 hr 55 min' '25 min per ep' '23 min per ep'\n",
      " '27 min per ep']\n",
      "338\n",
      "\n",
      "rating\n",
      "['R - 17+ (violence & profanity)' 'PG-13 - Teens 13 or older'\n",
      " 'PG - Children' 'R+ - Mild Nudity' 'G - All Ages']\n",
      "6\n",
      "\n",
      "studios\n",
      "['Sunrise' 'Bones' 'Madhouse' 'Toei Animation' 'Gallop']\n",
      "1802\n",
      "\n",
      "genres\n",
      "['Action,Award Winning,Sci-Fi' 'Action,Sci-Fi' 'Action,Adventure,Sci-Fi'\n",
      " 'Action,Drama,Mystery,Supernatural' 'Action,Adventure,Fantasy']\n",
      "956\n",
      "\n",
      "themes\n",
      "['Adult Cast,Space' 'Adult Cast' 'Detective' 'Unknown' 'Team Sports']\n",
      "1014\n",
      "\n",
      "synopsis\n",
      "[\"Crime is timeless. By the year 2071, humanity has expanded across the galaxy, filling the surface of other planets with settlements like those on Earth. These new societies are plagued by murder, drug use, and theft, and intergalactic outlaws are hunted by a growing number of tough bounty hunters.\\n\\nSpike Spiegel and Jet Black pursue criminals throughout space to make a humble living. Beneath his goofy and aloof demeanor, Spike is haunted by the weight of his violent past. Meanwhile, Jet manages his own troubled memories while taking care of Spike and the Bebop, their ship. The duo is joined by the beautiful con artist Faye Valentine, odd child Edward Wong Hau Pepelu Tivrusky IV, and Ein, a bioengineered Welsh Corgi.\\n\\nWhile developing bonds and working to catch a colorful cast of criminals, the Bebop crew's lives are disrupted by a menace from Spike's past. As a rival's maniacal plot continues to unravel, Spike must choose between life with his newfound family or revenge for his old wounds.\\n\\n[Written by MAL Rewrite]\"\n",
      " 'Another day, another bounty—such is the life of the often unlucky crew of the Bebop. However, this routine is interrupted when Faye, who is chasing a fairly worthless target on Mars, witnesses an oil tanker suddenly explode, causing mass hysteria. As casualties mount due to a strange disease spreading through the smoke from the blast, a whopping three hundred million woolong price is placed on the head of the supposed perpetrator.\\n\\nWith lives at stake and a solution to their money problems in sight, the Bebop crew springs into action. Spike, Jet, Faye, and Edward, followed closely by Ein, split up to pursue different leads across Alba City. Through their individual investigations, they discover a cover-up scheme involving a pharmaceutical company, revealing a plot that reaches much further than the ragtag team of bounty hunters could have realized.\\n\\n[Written by MAL Rewrite]'\n",
      " 'Vash the Stampede is the man with a $$60,000,000,000 bounty on his head. The reason: he\\'s a merciless villain who lays waste to all those that oppose him and flattens entire cities for fun, garnering him the title \"The Humanoid Typhoon.\" He leaves a trail of death and destruction wherever he goes, and anyone can count themselves dead if they so much as make eye contact—or so the rumors say. In actuality, Vash is a huge softie who claims to have never taken a life and avoids violence at all costs.\\n\\nWith his crazy doughnut obsession and buffoonish attitude in tow, Vash traverses the wasteland of the planet Gunsmoke, all the while followed by two insurance agents, Meryl Stryfe and Milly Thompson, who attempt to minimize his impact on the public. But soon, their misadventures evolve into life-or-death situations as a group of legendary assassins are summoned to bring about suffering to the trio. Vash\\'s agonizing past will be unraveled and his morality and principles pushed to the breaking point.\\n\\n[Written by MAL Rewrite]'\n",
      " \"Though hidden away from the general public, Witches—those with supernatural powers—have always existed in human societies. Neither numerous nor inherently evil, Witches are nonetheless capable of creating disorder by misusing their powers for criminal means. The task of solving supernatural crimes falls outside of the jurisdiction of normal authorities and is instead handled by the Solomon organization.\\n\\nHaving finished her training in Italy, Robin Sena transfers to Solomon's local Japanese branch, STNJ. Possessing powerful pyrokinetic abilities, she is herself a Witch, putting her at odds with STNJ's methods of dealing with rogue Witches. In particular, Robin opposes the use of an elixir called Orbo, which can weaken or even neutralize a Witch's powers. If Robin wants to find her place within the organization, she must find a way to navigate the internal politics of Solomon while also handling the threat of hostile Witches—but both seem to be dangerous for very different reasons.\\n\\n[Written by MAL Rewrite]\"\n",
      " \"It is the dark century and the people are suffering under the rule of the devil, Vandel, who is able to manipulate monsters. The Vandel Busters are a group of people who hunt these devils, and among them, the Zenon Squad is known to be the strongest busters on the continent. A young boy, Beet, dreams of joining the Zenon Squad. However, one day, as a result of Beet's fault, the Zenon squad was defeated by the devil, Beltose. The five dying busters sacrificed their life power into their five weapons, Saiga. After giving their weapons to Beet, they passed away. Years have passed since then and the young Vandel Buster, Beet, begins his adventure to carry out the Zenon Squad's will to put an end to the dark century.\"]\n",
      "22603\n",
      "\n",
      "producers\n",
      "['Bandai Visual,Victor Entertainment,Audio Planning U'\n",
      " 'Sunrise,Bandai Visual' 'Victor Entertainment'\n",
      " 'Bandai Visual,Dentsu,Victor Entertainment' 'TV Tokyo,Dentsu']\n",
      "5036\n",
      "\n",
      "success\n",
      "[1 0]\n",
      "2\n",
      "\n"
     ]
    }
   ],
   "source": [
    "for col in df.columns:\n",
    "    print(col)\n",
    "    print(df[col].unique()[:5])\n",
    "    print(df[col].nunique())\n",
    "    print()"
   ]
  },
  {
   "cell_type": "code",
   "execution_count": 419,
   "id": "71a23374-177c-40de-b7ba-a35ef2fd75f8",
   "metadata": {
    "tags": []
   },
   "outputs": [
    {
     "data": {
      "text/html": [
       "<div>\n",
       "<style scoped>\n",
       "    .dataframe tbody tr th:only-of-type {\n",
       "        vertical-align: middle;\n",
       "    }\n",
       "\n",
       "    .dataframe tbody tr th {\n",
       "        vertical-align: top;\n",
       "    }\n",
       "\n",
       "    .dataframe thead th {\n",
       "        text-align: right;\n",
       "    }\n",
       "</style>\n",
       "<table border=\"1\" class=\"dataframe\">\n",
       "  <thead>\n",
       "    <tr style=\"text-align: right;\">\n",
       "      <th></th>\n",
       "      <th>0</th>\n",
       "      <th>1</th>\n",
       "      <th>2</th>\n",
       "      <th>3</th>\n",
       "      <th>4</th>\n",
       "    </tr>\n",
       "  </thead>\n",
       "  <tbody>\n",
       "    <tr>\n",
       "      <th>id</th>\n",
       "      <td>1</td>\n",
       "      <td>5</td>\n",
       "      <td>6</td>\n",
       "      <td>7</td>\n",
       "      <td>8</td>\n",
       "    </tr>\n",
       "    <tr>\n",
       "      <th>title</th>\n",
       "      <td>Cowboy Bebop</td>\n",
       "      <td>Cowboy Bebop: Tengoku no Tobira</td>\n",
       "      <td>Trigun</td>\n",
       "      <td>Witch Hunter Robin</td>\n",
       "      <td>Bouken Ou Beet</td>\n",
       "    </tr>\n",
       "    <tr>\n",
       "      <th>type</th>\n",
       "      <td>TV</td>\n",
       "      <td>Movie</td>\n",
       "      <td>TV</td>\n",
       "      <td>TV</td>\n",
       "      <td>TV</td>\n",
       "    </tr>\n",
       "    <tr>\n",
       "      <th>source</th>\n",
       "      <td>Original</td>\n",
       "      <td>Original</td>\n",
       "      <td>Manga</td>\n",
       "      <td>Original</td>\n",
       "      <td>Manga</td>\n",
       "    </tr>\n",
       "    <tr>\n",
       "      <th>episodes</th>\n",
       "      <td>26.0</td>\n",
       "      <td>1.0</td>\n",
       "      <td>26.0</td>\n",
       "      <td>26.0</td>\n",
       "      <td>52.0</td>\n",
       "    </tr>\n",
       "    <tr>\n",
       "      <th>status</th>\n",
       "      <td>Finished Airing</td>\n",
       "      <td>Finished Airing</td>\n",
       "      <td>Finished Airing</td>\n",
       "      <td>Finished Airing</td>\n",
       "      <td>Finished Airing</td>\n",
       "    </tr>\n",
       "    <tr>\n",
       "      <th>airing</th>\n",
       "      <td>False</td>\n",
       "      <td>False</td>\n",
       "      <td>False</td>\n",
       "      <td>False</td>\n",
       "      <td>False</td>\n",
       "    </tr>\n",
       "    <tr>\n",
       "      <th>duration</th>\n",
       "      <td>24 min per ep</td>\n",
       "      <td>1 hr 55 min</td>\n",
       "      <td>24 min per ep</td>\n",
       "      <td>25 min per ep</td>\n",
       "      <td>23 min per ep</td>\n",
       "    </tr>\n",
       "    <tr>\n",
       "      <th>rating</th>\n",
       "      <td>R - 17+ (violence &amp; profanity)</td>\n",
       "      <td>R - 17+ (violence &amp; profanity)</td>\n",
       "      <td>PG-13 - Teens 13 or older</td>\n",
       "      <td>PG-13 - Teens 13 or older</td>\n",
       "      <td>PG - Children</td>\n",
       "    </tr>\n",
       "    <tr>\n",
       "      <th>studios</th>\n",
       "      <td>Sunrise</td>\n",
       "      <td>Bones</td>\n",
       "      <td>Madhouse</td>\n",
       "      <td>Sunrise</td>\n",
       "      <td>Toei Animation</td>\n",
       "    </tr>\n",
       "    <tr>\n",
       "      <th>genres</th>\n",
       "      <td>Action,Award Winning,Sci-Fi</td>\n",
       "      <td>Action,Sci-Fi</td>\n",
       "      <td>Action,Adventure,Sci-Fi</td>\n",
       "      <td>Action,Drama,Mystery,Supernatural</td>\n",
       "      <td>Action,Adventure,Fantasy</td>\n",
       "    </tr>\n",
       "    <tr>\n",
       "      <th>themes</th>\n",
       "      <td>Adult Cast,Space</td>\n",
       "      <td>Adult Cast,Space</td>\n",
       "      <td>Adult Cast</td>\n",
       "      <td>Detective</td>\n",
       "      <td>Unknown</td>\n",
       "    </tr>\n",
       "    <tr>\n",
       "      <th>synopsis</th>\n",
       "      <td>Crime is timeless. By the year 2071, humanity ...</td>\n",
       "      <td>Another day, another bounty—such is the life o...</td>\n",
       "      <td>Vash the Stampede is the man with a $$60,000,0...</td>\n",
       "      <td>Though hidden away from the general public, Wi...</td>\n",
       "      <td>It is the dark century and the people are suff...</td>\n",
       "    </tr>\n",
       "    <tr>\n",
       "      <th>producers</th>\n",
       "      <td>Bandai Visual,Victor Entertainment,Audio Plann...</td>\n",
       "      <td>Sunrise,Bandai Visual</td>\n",
       "      <td>Victor Entertainment</td>\n",
       "      <td>Bandai Visual,Dentsu,Victor Entertainment</td>\n",
       "      <td>TV Tokyo,Dentsu</td>\n",
       "    </tr>\n",
       "    <tr>\n",
       "      <th>success</th>\n",
       "      <td>1</td>\n",
       "      <td>1</td>\n",
       "      <td>1</td>\n",
       "      <td>1</td>\n",
       "      <td>0</td>\n",
       "    </tr>\n",
       "  </tbody>\n",
       "</table>\n",
       "</div>"
      ],
      "text/plain": [
       "                                                           0  \\\n",
       "id                                                         1   \n",
       "title                                           Cowboy Bebop   \n",
       "type                                                      TV   \n",
       "source                                              Original   \n",
       "episodes                                                26.0   \n",
       "status                                       Finished Airing   \n",
       "airing                                                 False   \n",
       "duration                                       24 min per ep   \n",
       "rating                        R - 17+ (violence & profanity)   \n",
       "studios                                              Sunrise   \n",
       "genres                           Action,Award Winning,Sci-Fi   \n",
       "themes                                      Adult Cast,Space   \n",
       "synopsis   Crime is timeless. By the year 2071, humanity ...   \n",
       "producers  Bandai Visual,Victor Entertainment,Audio Plann...   \n",
       "success                                                    1   \n",
       "\n",
       "                                                           1  \\\n",
       "id                                                         5   \n",
       "title                        Cowboy Bebop: Tengoku no Tobira   \n",
       "type                                                   Movie   \n",
       "source                                              Original   \n",
       "episodes                                                 1.0   \n",
       "status                                       Finished Airing   \n",
       "airing                                                 False   \n",
       "duration                                         1 hr 55 min   \n",
       "rating                        R - 17+ (violence & profanity)   \n",
       "studios                                                Bones   \n",
       "genres                                         Action,Sci-Fi   \n",
       "themes                                      Adult Cast,Space   \n",
       "synopsis   Another day, another bounty—such is the life o...   \n",
       "producers                              Sunrise,Bandai Visual   \n",
       "success                                                    1   \n",
       "\n",
       "                                                           2  \\\n",
       "id                                                         6   \n",
       "title                                                 Trigun   \n",
       "type                                                      TV   \n",
       "source                                                 Manga   \n",
       "episodes                                                26.0   \n",
       "status                                       Finished Airing   \n",
       "airing                                                 False   \n",
       "duration                                       24 min per ep   \n",
       "rating                             PG-13 - Teens 13 or older   \n",
       "studios                                             Madhouse   \n",
       "genres                               Action,Adventure,Sci-Fi   \n",
       "themes                                            Adult Cast   \n",
       "synopsis   Vash the Stampede is the man with a $$60,000,0...   \n",
       "producers                               Victor Entertainment   \n",
       "success                                                    1   \n",
       "\n",
       "                                                           3  \\\n",
       "id                                                         7   \n",
       "title                                     Witch Hunter Robin   \n",
       "type                                                      TV   \n",
       "source                                              Original   \n",
       "episodes                                                26.0   \n",
       "status                                       Finished Airing   \n",
       "airing                                                 False   \n",
       "duration                                       25 min per ep   \n",
       "rating                             PG-13 - Teens 13 or older   \n",
       "studios                                              Sunrise   \n",
       "genres                     Action,Drama,Mystery,Supernatural   \n",
       "themes                                             Detective   \n",
       "synopsis   Though hidden away from the general public, Wi...   \n",
       "producers          Bandai Visual,Dentsu,Victor Entertainment   \n",
       "success                                                    1   \n",
       "\n",
       "                                                           4  \n",
       "id                                                         8  \n",
       "title                                         Bouken Ou Beet  \n",
       "type                                                      TV  \n",
       "source                                                 Manga  \n",
       "episodes                                                52.0  \n",
       "status                                       Finished Airing  \n",
       "airing                                                 False  \n",
       "duration                                       23 min per ep  \n",
       "rating                                         PG - Children  \n",
       "studios                                       Toei Animation  \n",
       "genres                              Action,Adventure,Fantasy  \n",
       "themes                                               Unknown  \n",
       "synopsis   It is the dark century and the people are suff...  \n",
       "producers                                    TV Tokyo,Dentsu  \n",
       "success                                                    0  "
      ]
     },
     "execution_count": 419,
     "metadata": {},
     "output_type": "execute_result"
    }
   ],
   "source": [
    "df.head().T"
   ]
  },
  {
   "cell_type": "markdown",
   "id": "f6ec1f8d-279d-4ab2-b2b0-e2f3ba61a005",
   "metadata": {},
   "source": [
    "# Feature Engineering"
   ]
  },
  {
   "cell_type": "code",
   "execution_count": 420,
   "id": "f8311ad3-a47b-4199-9540-ebfcd8bfdf07",
   "metadata": {
    "tags": []
   },
   "outputs": [],
   "source": [
    "import re\n",
    "\n",
    "def parse_duration(duration):\n",
    "    match = re.search(r'(?:(\\d+)\\s*hr)?\\s*(\\d+)\\s*min', duration)\n",
    "    if match:\n",
    "        hours = int(match.group(1)) if match.group(1) else 0\n",
    "        minutes = int(match.group(2)) if match.group(2) else 0\n",
    "        return hours * 60 + minutes\n",
    "    return None \n",
    "\n",
    "\n",
    "df['duration_minutes'] = df['duration'].apply(parse_duration)"
   ]
  },
  {
   "cell_type": "code",
   "execution_count": 421,
   "id": "ceb90c45-76b2-4db6-9cd5-04b33fb81c7a",
   "metadata": {
    "tags": []
   },
   "outputs": [
    {
     "data": {
      "text/plain": [
       "id                     0\n",
       "title                  0\n",
       "type                   0\n",
       "source                 0\n",
       "episodes               0\n",
       "status                 0\n",
       "airing                 0\n",
       "duration               0\n",
       "rating                 0\n",
       "studios                0\n",
       "genres                 0\n",
       "themes                 0\n",
       "synopsis               0\n",
       "producers              0\n",
       "success                0\n",
       "duration_minutes    1636\n",
       "dtype: int64"
      ]
     },
     "execution_count": 421,
     "metadata": {},
     "output_type": "execute_result"
    }
   ],
   "source": [
    "df.isnull().sum()"
   ]
  },
  {
   "cell_type": "code",
   "execution_count": 422,
   "id": "8323a3e4-21a9-45fd-ae0b-f70576106af5",
   "metadata": {
    "tags": []
   },
   "outputs": [],
   "source": [
    "median_duration_by_type = df.groupby('type')['duration_minutes'].median()\n",
    "\n",
    "# Replace NaN in duration_minutes with the median value for the corresponding type\n",
    "df['duration_minutes'] = df.apply(\n",
    "    lambda row: median_duration_by_type[row['type']] if pd.isnull(row['duration_minutes']) else row['duration_minutes'],\n",
    "    axis=1\n",
    ")"
   ]
  },
  {
   "cell_type": "code",
   "execution_count": 423,
   "id": "f796a2d0-a066-476a-a0ab-23a9f3745a71",
   "metadata": {
    "tags": []
   },
   "outputs": [],
   "source": [
    "df.drop(columns=['duration'], inplace=True)"
   ]
  },
  {
   "cell_type": "code",
   "execution_count": 424,
   "id": "97d78f0b-356f-459d-a184-2ca4cb654f05",
   "metadata": {
    "tags": []
   },
   "outputs": [
    {
     "data": {
      "text/plain": [
       "id                  0\n",
       "title               0\n",
       "type                0\n",
       "source              0\n",
       "episodes            0\n",
       "status              0\n",
       "airing              0\n",
       "rating              0\n",
       "studios             0\n",
       "genres              0\n",
       "themes              0\n",
       "synopsis            0\n",
       "producers           0\n",
       "success             0\n",
       "duration_minutes    0\n",
       "dtype: int64"
      ]
     },
     "execution_count": 424,
     "metadata": {},
     "output_type": "execute_result"
    }
   ],
   "source": [
    "df.isnull().sum()"
   ]
  },
  {
   "cell_type": "markdown",
   "id": "99e4e117-282f-4a35-be59-84414823edee",
   "metadata": {},
   "source": [
    "### Imputing Missing `duration_minutes` Based on `type`\n",
    "\n",
    "The `duration_minutes` column had missing values for certain rows. These were imputed by calculating the median `duration_minutes` for each `type` (e.g., TV, Movie). For rows with missing values, the corresponding median value based on `type` was used, ensuring a context-aware and robust imputation."
   ]
  },
  {
   "cell_type": "code",
   "execution_count": 425,
   "id": "3214aae9-d2d4-4c4c-af15-d8cf8cfc2651",
   "metadata": {
    "tags": []
   },
   "outputs": [],
   "source": [
    "df['synopsis_length'] = df['synopsis'].apply(len)"
   ]
  },
  {
   "cell_type": "code",
   "execution_count": 426,
   "id": "238fbe5f-f2cb-4dd9-b67d-ad248faeae50",
   "metadata": {
    "tags": []
   },
   "outputs": [],
   "source": [
    "df.drop(columns=['synopsis'], inplace=True)"
   ]
  },
  {
   "cell_type": "markdown",
   "id": "1baa5181-d2ae-4e75-9bd1-076c59356476",
   "metadata": {},
   "source": [
    "### Extracting `synopsis_length` and Dropping `synopsis`\n",
    "\n",
    "The length of the `synopsis` column was extracted as a new feature, `synopsis_length`, to capture the richness of the anime's description."
   ]
  },
  {
   "cell_type": "code",
   "execution_count": 427,
   "id": "8f7cbc0f-145c-410e-92bd-f5d486248354",
   "metadata": {
    "tags": []
   },
   "outputs": [
    {
     "data": {
      "text/html": [
       "<div>\n",
       "<style scoped>\n",
       "    .dataframe tbody tr th:only-of-type {\n",
       "        vertical-align: middle;\n",
       "    }\n",
       "\n",
       "    .dataframe tbody tr th {\n",
       "        vertical-align: top;\n",
       "    }\n",
       "\n",
       "    .dataframe thead th {\n",
       "        text-align: right;\n",
       "    }\n",
       "</style>\n",
       "<table border=\"1\" class=\"dataframe\">\n",
       "  <thead>\n",
       "    <tr style=\"text-align: right;\">\n",
       "      <th></th>\n",
       "      <th>0</th>\n",
       "      <th>1</th>\n",
       "      <th>2</th>\n",
       "      <th>3</th>\n",
       "      <th>4</th>\n",
       "    </tr>\n",
       "  </thead>\n",
       "  <tbody>\n",
       "    <tr>\n",
       "      <th>id</th>\n",
       "      <td>1</td>\n",
       "      <td>5</td>\n",
       "      <td>6</td>\n",
       "      <td>7</td>\n",
       "      <td>8</td>\n",
       "    </tr>\n",
       "    <tr>\n",
       "      <th>title</th>\n",
       "      <td>Cowboy Bebop</td>\n",
       "      <td>Cowboy Bebop: Tengoku no Tobira</td>\n",
       "      <td>Trigun</td>\n",
       "      <td>Witch Hunter Robin</td>\n",
       "      <td>Bouken Ou Beet</td>\n",
       "    </tr>\n",
       "    <tr>\n",
       "      <th>type</th>\n",
       "      <td>TV</td>\n",
       "      <td>Movie</td>\n",
       "      <td>TV</td>\n",
       "      <td>TV</td>\n",
       "      <td>TV</td>\n",
       "    </tr>\n",
       "    <tr>\n",
       "      <th>source</th>\n",
       "      <td>Original</td>\n",
       "      <td>Original</td>\n",
       "      <td>Manga</td>\n",
       "      <td>Original</td>\n",
       "      <td>Manga</td>\n",
       "    </tr>\n",
       "    <tr>\n",
       "      <th>episodes</th>\n",
       "      <td>26.0</td>\n",
       "      <td>1.0</td>\n",
       "      <td>26.0</td>\n",
       "      <td>26.0</td>\n",
       "      <td>52.0</td>\n",
       "    </tr>\n",
       "    <tr>\n",
       "      <th>status</th>\n",
       "      <td>Finished Airing</td>\n",
       "      <td>Finished Airing</td>\n",
       "      <td>Finished Airing</td>\n",
       "      <td>Finished Airing</td>\n",
       "      <td>Finished Airing</td>\n",
       "    </tr>\n",
       "    <tr>\n",
       "      <th>airing</th>\n",
       "      <td>False</td>\n",
       "      <td>False</td>\n",
       "      <td>False</td>\n",
       "      <td>False</td>\n",
       "      <td>False</td>\n",
       "    </tr>\n",
       "    <tr>\n",
       "      <th>rating</th>\n",
       "      <td>R - 17+ (violence &amp; profanity)</td>\n",
       "      <td>R - 17+ (violence &amp; profanity)</td>\n",
       "      <td>PG-13 - Teens 13 or older</td>\n",
       "      <td>PG-13 - Teens 13 or older</td>\n",
       "      <td>PG - Children</td>\n",
       "    </tr>\n",
       "    <tr>\n",
       "      <th>studios</th>\n",
       "      <td>Sunrise</td>\n",
       "      <td>Bones</td>\n",
       "      <td>Madhouse</td>\n",
       "      <td>Sunrise</td>\n",
       "      <td>Toei Animation</td>\n",
       "    </tr>\n",
       "    <tr>\n",
       "      <th>genres</th>\n",
       "      <td>Action,Award Winning,Sci-Fi</td>\n",
       "      <td>Action,Sci-Fi</td>\n",
       "      <td>Action,Adventure,Sci-Fi</td>\n",
       "      <td>Action,Drama,Mystery,Supernatural</td>\n",
       "      <td>Action,Adventure,Fantasy</td>\n",
       "    </tr>\n",
       "    <tr>\n",
       "      <th>themes</th>\n",
       "      <td>Adult Cast,Space</td>\n",
       "      <td>Adult Cast,Space</td>\n",
       "      <td>Adult Cast</td>\n",
       "      <td>Detective</td>\n",
       "      <td>Unknown</td>\n",
       "    </tr>\n",
       "    <tr>\n",
       "      <th>producers</th>\n",
       "      <td>Bandai Visual,Victor Entertainment,Audio Plann...</td>\n",
       "      <td>Sunrise,Bandai Visual</td>\n",
       "      <td>Victor Entertainment</td>\n",
       "      <td>Bandai Visual,Dentsu,Victor Entertainment</td>\n",
       "      <td>TV Tokyo,Dentsu</td>\n",
       "    </tr>\n",
       "    <tr>\n",
       "      <th>success</th>\n",
       "      <td>1</td>\n",
       "      <td>1</td>\n",
       "      <td>1</td>\n",
       "      <td>1</td>\n",
       "      <td>0</td>\n",
       "    </tr>\n",
       "    <tr>\n",
       "      <th>duration_minutes</th>\n",
       "      <td>24.0</td>\n",
       "      <td>115.0</td>\n",
       "      <td>24.0</td>\n",
       "      <td>25.0</td>\n",
       "      <td>23.0</td>\n",
       "    </tr>\n",
       "    <tr>\n",
       "      <th>synopsis_length</th>\n",
       "      <td>1030</td>\n",
       "      <td>886</td>\n",
       "      <td>1032</td>\n",
       "      <td>1021</td>\n",
       "      <td>721</td>\n",
       "    </tr>\n",
       "  </tbody>\n",
       "</table>\n",
       "</div>"
      ],
      "text/plain": [
       "                                                                  0  \\\n",
       "id                                                                1   \n",
       "title                                                  Cowboy Bebop   \n",
       "type                                                             TV   \n",
       "source                                                     Original   \n",
       "episodes                                                       26.0   \n",
       "status                                              Finished Airing   \n",
       "airing                                                        False   \n",
       "rating                               R - 17+ (violence & profanity)   \n",
       "studios                                                     Sunrise   \n",
       "genres                                  Action,Award Winning,Sci-Fi   \n",
       "themes                                             Adult Cast,Space   \n",
       "producers         Bandai Visual,Victor Entertainment,Audio Plann...   \n",
       "success                                                           1   \n",
       "duration_minutes                                               24.0   \n",
       "synopsis_length                                                1030   \n",
       "\n",
       "                                                1                          2  \\\n",
       "id                                              5                          6   \n",
       "title             Cowboy Bebop: Tengoku no Tobira                     Trigun   \n",
       "type                                        Movie                         TV   \n",
       "source                                   Original                      Manga   \n",
       "episodes                                      1.0                       26.0   \n",
       "status                            Finished Airing            Finished Airing   \n",
       "airing                                      False                      False   \n",
       "rating             R - 17+ (violence & profanity)  PG-13 - Teens 13 or older   \n",
       "studios                                     Bones                   Madhouse   \n",
       "genres                              Action,Sci-Fi    Action,Adventure,Sci-Fi   \n",
       "themes                           Adult Cast,Space                 Adult Cast   \n",
       "producers                   Sunrise,Bandai Visual       Victor Entertainment   \n",
       "success                                         1                          1   \n",
       "duration_minutes                            115.0                       24.0   \n",
       "synopsis_length                               886                       1032   \n",
       "\n",
       "                                                          3  \\\n",
       "id                                                        7   \n",
       "title                                    Witch Hunter Robin   \n",
       "type                                                     TV   \n",
       "source                                             Original   \n",
       "episodes                                               26.0   \n",
       "status                                      Finished Airing   \n",
       "airing                                                False   \n",
       "rating                            PG-13 - Teens 13 or older   \n",
       "studios                                             Sunrise   \n",
       "genres                    Action,Drama,Mystery,Supernatural   \n",
       "themes                                            Detective   \n",
       "producers         Bandai Visual,Dentsu,Victor Entertainment   \n",
       "success                                                   1   \n",
       "duration_minutes                                       25.0   \n",
       "synopsis_length                                        1021   \n",
       "\n",
       "                                         4  \n",
       "id                                       8  \n",
       "title                       Bouken Ou Beet  \n",
       "type                                    TV  \n",
       "source                               Manga  \n",
       "episodes                              52.0  \n",
       "status                     Finished Airing  \n",
       "airing                               False  \n",
       "rating                       PG - Children  \n",
       "studios                     Toei Animation  \n",
       "genres            Action,Adventure,Fantasy  \n",
       "themes                             Unknown  \n",
       "producers                  TV Tokyo,Dentsu  \n",
       "success                                  0  \n",
       "duration_minutes                      23.0  \n",
       "synopsis_length                        721  "
      ]
     },
     "execution_count": 427,
     "metadata": {},
     "output_type": "execute_result"
    }
   ],
   "source": [
    "df.head().T"
   ]
  },
  {
   "cell_type": "code",
   "execution_count": 428,
   "id": "9ea3b2ae-28e5-4c02-b03a-dc36d857badd",
   "metadata": {
    "tags": []
   },
   "outputs": [
    {
     "data": {
      "image/png": "[encoded data removed]",
      "text/plain": [
       "<Figure size 1200x800 with 4 Axes>"
      ]
     },
     "metadata": {},
     "output_type": "display_data"
    }
   ],
   "source": [
    "# Histogram\n",
    "numerical_columns = ['episodes', 'duration_minutes', 'synopsis_length']\n",
    "df[numerical_columns].hist(bins=20, figsize=(12, 8))\n",
    "plt.tight_layout()\n",
    "plt.show()"
   ]
  },
  {
   "cell_type": "code",
   "execution_count": 429,
   "id": "967489e4-160f-48c3-a066-3425869de211",
   "metadata": {
    "tags": []
   },
   "outputs": [
    {
     "data": {
      "image/png": "[encoded data removed]",
      "text/plain": [
       "<Figure size 640x480 with 1 Axes>"
      ]
     },
     "metadata": {},
     "output_type": "display_data"
    },
    {
     "data": {
      "image/png": "[encoded data removed]",
      "text/plain": [
       "<Figure size 640x480 with 1 Axes>"
      ]
     },
     "metadata": {},
     "output_type": "display_data"
    },
    {
     "data": {
      "image/png": "[encoded data removed]",
      "text/plain": [
       "<Figure size 640x480 with 1 Axes>"
      ]
     },
     "metadata": {},
     "output_type": "display_data"
    }
   ],
   "source": [
    "# Boxplot\n",
    "for col in numerical_columns:\n",
    "    sns.boxplot(data=df, x=col)\n",
    "    plt.title(f'Boxplot of {col}')\n",
    "    plt.show()"
   ]
  },
  {
   "cell_type": "code",
   "execution_count": 430,
   "id": "8e8ca67c-1a59-46d1-9970-88908d20e380",
   "metadata": {
    "tags": []
   },
   "outputs": [
    {
     "data": {
      "image/png": "[encoded data removed]",
      "text/plain": [
       "<Figure size 640x480 with 1 Axes>"
      ]
     },
     "metadata": {},
     "output_type": "display_data"
    },
    {
     "data": {
      "image/png": "[encoded data removed]",
      "text/plain": [
       "<Figure size 640x480 with 1 Axes>"
      ]
     },
     "metadata": {},
     "output_type": "display_data"
    },
    {
     "data": {
      "image/png": "[encoded data removed]",
      "text/plain": [
       "<Figure size 640x480 with 1 Axes>"
      ]
     },
     "metadata": {},
     "output_type": "display_data"
    },
    {
     "data": {
      "image/png": "[encoded data removed]",
      "text/plain": [
       "<Figure size 640x480 with 1 Axes>"
      ]
     },
     "metadata": {},
     "output_type": "display_data"
    }
   ],
   "source": [
    "# Bar plot\n",
    "categorical_columns = ['type', 'source', 'status', 'rating']\n",
    "for col in categorical_columns:\n",
    "    sns.countplot(data=df, x=col, order=df[col].value_counts().index)\n",
    "    plt.title(f'Distribution of {col}')\n",
    "    plt.xticks(rotation=45)\n",
    "    plt.show()"
   ]
  },
  {
   "cell_type": "code",
   "execution_count": 431,
   "id": "7b4269a0-7433-4f51-9ddb-6426dd03ae93",
   "metadata": {
    "tags": []
   },
   "outputs": [
    {
     "data": {
      "text/plain": [
       "id                    int64\n",
       "title                object\n",
       "type                 object\n",
       "source               object\n",
       "episodes            float64\n",
       "status               object\n",
       "airing                 bool\n",
       "rating               object\n",
       "studios              object\n",
       "genres               object\n",
       "themes               object\n",
       "producers            object\n",
       "success               int64\n",
       "duration_minutes    float64\n",
       "synopsis_length       int64\n",
       "dtype: object"
      ]
     },
     "execution_count": 431,
     "metadata": {},
     "output_type": "execute_result"
    }
   ],
   "source": [
    "df.dtypes"
   ]
  },
  {
   "cell_type": "code",
   "execution_count": 432,
   "id": "1079363d-4474-4950-b153-974870e7a794",
   "metadata": {
    "tags": []
   },
   "outputs": [],
   "source": [
    "df.drop(columns=['airing'], inplace=True)"
   ]
  },
  {
   "cell_type": "markdown",
   "id": "0d3e9e27-7b6b-4f7d-86d8-60b993db1b4a",
   "metadata": {},
   "source": [
    "### Dropping the `airing` Column\n",
    "\n",
    "The `airing` column was dropped because it duplicates the information already provided in the `status` column."
   ]
  },
  {
   "cell_type": "code",
   "execution_count": 433,
   "id": "927356a8-9253-4c68-acf4-46c531f1824f",
   "metadata": {
    "tags": []
   },
   "outputs": [
    {
     "data": {
      "image/png": "[encoded data removed]",
      "text/plain": [
       "<Figure size 1000x600 with 2 Axes>"
      ]
     },
     "metadata": {},
     "output_type": "display_data"
    }
   ],
   "source": [
    "# Correlation heatmap\n",
    "numeric_columns = df.select_dtypes(include=['float64', 'int64']).columns\n",
    "correlation_matrix = df[numeric_columns].corr()\n",
    "\n",
    "plt.figure(figsize=(10, 6))\n",
    "sns.heatmap(correlation_matrix, annot=True, cmap='coolwarm')\n",
    "plt.title('Correlation Heatmap')\n",
    "plt.show()"
   ]
  },
  {
   "cell_type": "markdown",
   "id": "b46da0b1-8766-4d43-8d09-68c29e94bd51",
   "metadata": {},
   "source": [
    "### Correlation Heatmap Analysis\n",
    "\n",
    "1. **Low Correlation with `success`**:\n",
    "   - Most features show weak correlation with the target variable (`success`), indicating that non-linear relationships may be more relevant.\n",
    "\n",
    "2. **`synopsis_length`**:\n",
    "   - Displays a moderate positive correlation with `success`, suggesting it may contribute to predicting the target.\n",
    "\n",
    "3. **No Significant Multicollinearity**:\n",
    "   - Features do not exhibit strong correlations with each other, so all features can be retained for modeling."
   ]
  },
  {
   "cell_type": "code",
   "execution_count": 434,
   "id": "1c3cc120-14cf-495c-918f-25fdab4cb9ba",
   "metadata": {
    "tags": []
   },
   "outputs": [],
   "source": [
    "df.drop(columns=['title', 'id'], inplace=True)"
   ]
  },
  {
   "cell_type": "markdown",
   "id": "caf3b0df-4d8d-4bd0-956b-8168a787cbfc",
   "metadata": {},
   "source": [
    "### Dropping the `title` and `id` Columns\n",
    "\n",
    "The `title` and `id` columns were dropped because they contain too many unique values, making it unsuitable for modeling without additional feature engineering.\n"
   ]
  },
  {
   "cell_type": "code",
   "execution_count": 435,
   "id": "d58ba83a-2b93-4eaa-99d7-beeb33315984",
   "metadata": {
    "tags": []
   },
   "outputs": [
    {
     "data": {
      "text/html": [
       "<div>\n",
       "<style scoped>\n",
       "    .dataframe tbody tr th:only-of-type {\n",
       "        vertical-align: middle;\n",
       "    }\n",
       "\n",
       "    .dataframe tbody tr th {\n",
       "        vertical-align: top;\n",
       "    }\n",
       "\n",
       "    .dataframe thead th {\n",
       "        text-align: right;\n",
       "    }\n",
       "</style>\n",
       "<table border=\"1\" class=\"dataframe\">\n",
       "  <thead>\n",
       "    <tr style=\"text-align: right;\">\n",
       "      <th></th>\n",
       "      <th>0</th>\n",
       "      <th>1</th>\n",
       "      <th>2</th>\n",
       "      <th>3</th>\n",
       "      <th>4</th>\n",
       "    </tr>\n",
       "  </thead>\n",
       "  <tbody>\n",
       "    <tr>\n",
       "      <th>type</th>\n",
       "      <td>TV</td>\n",
       "      <td>Movie</td>\n",
       "      <td>TV</td>\n",
       "      <td>TV</td>\n",
       "      <td>TV</td>\n",
       "    </tr>\n",
       "    <tr>\n",
       "      <th>source</th>\n",
       "      <td>Original</td>\n",
       "      <td>Original</td>\n",
       "      <td>Manga</td>\n",
       "      <td>Original</td>\n",
       "      <td>Manga</td>\n",
       "    </tr>\n",
       "    <tr>\n",
       "      <th>episodes</th>\n",
       "      <td>26.0</td>\n",
       "      <td>1.0</td>\n",
       "      <td>26.0</td>\n",
       "      <td>26.0</td>\n",
       "      <td>52.0</td>\n",
       "    </tr>\n",
       "    <tr>\n",
       "      <th>status</th>\n",
       "      <td>Finished Airing</td>\n",
       "      <td>Finished Airing</td>\n",
       "      <td>Finished Airing</td>\n",
       "      <td>Finished Airing</td>\n",
       "      <td>Finished Airing</td>\n",
       "    </tr>\n",
       "    <tr>\n",
       "      <th>rating</th>\n",
       "      <td>R - 17+ (violence &amp; profanity)</td>\n",
       "      <td>R - 17+ (violence &amp; profanity)</td>\n",
       "      <td>PG-13 - Teens 13 or older</td>\n",
       "      <td>PG-13 - Teens 13 or older</td>\n",
       "      <td>PG - Children</td>\n",
       "    </tr>\n",
       "    <tr>\n",
       "      <th>studios</th>\n",
       "      <td>Sunrise</td>\n",
       "      <td>Bones</td>\n",
       "      <td>Madhouse</td>\n",
       "      <td>Sunrise</td>\n",
       "      <td>Toei Animation</td>\n",
       "    </tr>\n",
       "    <tr>\n",
       "      <th>genres</th>\n",
       "      <td>Action,Award Winning,Sci-Fi</td>\n",
       "      <td>Action,Sci-Fi</td>\n",
       "      <td>Action,Adventure,Sci-Fi</td>\n",
       "      <td>Action,Drama,Mystery,Supernatural</td>\n",
       "      <td>Action,Adventure,Fantasy</td>\n",
       "    </tr>\n",
       "    <tr>\n",
       "      <th>themes</th>\n",
       "      <td>Adult Cast,Space</td>\n",
       "      <td>Adult Cast,Space</td>\n",
       "      <td>Adult Cast</td>\n",
       "      <td>Detective</td>\n",
       "      <td>Unknown</td>\n",
       "    </tr>\n",
       "    <tr>\n",
       "      <th>producers</th>\n",
       "      <td>Bandai Visual,Victor Entertainment,Audio Plann...</td>\n",
       "      <td>Sunrise,Bandai Visual</td>\n",
       "      <td>Victor Entertainment</td>\n",
       "      <td>Bandai Visual,Dentsu,Victor Entertainment</td>\n",
       "      <td>TV Tokyo,Dentsu</td>\n",
       "    </tr>\n",
       "    <tr>\n",
       "      <th>success</th>\n",
       "      <td>1</td>\n",
       "      <td>1</td>\n",
       "      <td>1</td>\n",
       "      <td>1</td>\n",
       "      <td>0</td>\n",
       "    </tr>\n",
       "    <tr>\n",
       "      <th>duration_minutes</th>\n",
       "      <td>24.0</td>\n",
       "      <td>115.0</td>\n",
       "      <td>24.0</td>\n",
       "      <td>25.0</td>\n",
       "      <td>23.0</td>\n",
       "    </tr>\n",
       "    <tr>\n",
       "      <th>synopsis_length</th>\n",
       "      <td>1030</td>\n",
       "      <td>886</td>\n",
       "      <td>1032</td>\n",
       "      <td>1021</td>\n",
       "      <td>721</td>\n",
       "    </tr>\n",
       "  </tbody>\n",
       "</table>\n",
       "</div>"
      ],
      "text/plain": [
       "                                                                  0  \\\n",
       "type                                                             TV   \n",
       "source                                                     Original   \n",
       "episodes                                                       26.0   \n",
       "status                                              Finished Airing   \n",
       "rating                               R - 17+ (violence & profanity)   \n",
       "studios                                                     Sunrise   \n",
       "genres                                  Action,Award Winning,Sci-Fi   \n",
       "themes                                             Adult Cast,Space   \n",
       "producers         Bandai Visual,Victor Entertainment,Audio Plann...   \n",
       "success                                                           1   \n",
       "duration_minutes                                               24.0   \n",
       "synopsis_length                                                1030   \n",
       "\n",
       "                                               1                          2  \\\n",
       "type                                       Movie                         TV   \n",
       "source                                  Original                      Manga   \n",
       "episodes                                     1.0                       26.0   \n",
       "status                           Finished Airing            Finished Airing   \n",
       "rating            R - 17+ (violence & profanity)  PG-13 - Teens 13 or older   \n",
       "studios                                    Bones                   Madhouse   \n",
       "genres                             Action,Sci-Fi    Action,Adventure,Sci-Fi   \n",
       "themes                          Adult Cast,Space                 Adult Cast   \n",
       "producers                  Sunrise,Bandai Visual       Victor Entertainment   \n",
       "success                                        1                          1   \n",
       "duration_minutes                           115.0                       24.0   \n",
       "synopsis_length                              886                       1032   \n",
       "\n",
       "                                                          3  \\\n",
       "type                                                     TV   \n",
       "source                                             Original   \n",
       "episodes                                               26.0   \n",
       "status                                      Finished Airing   \n",
       "rating                            PG-13 - Teens 13 or older   \n",
       "studios                                             Sunrise   \n",
       "genres                    Action,Drama,Mystery,Supernatural   \n",
       "themes                                            Detective   \n",
       "producers         Bandai Visual,Dentsu,Victor Entertainment   \n",
       "success                                                   1   \n",
       "duration_minutes                                       25.0   \n",
       "synopsis_length                                        1021   \n",
       "\n",
       "                                         4  \n",
       "type                                    TV  \n",
       "source                               Manga  \n",
       "episodes                              52.0  \n",
       "status                     Finished Airing  \n",
       "rating                       PG - Children  \n",
       "studios                     Toei Animation  \n",
       "genres            Action,Adventure,Fantasy  \n",
       "themes                             Unknown  \n",
       "producers                  TV Tokyo,Dentsu  \n",
       "success                                  0  \n",
       "duration_minutes                      23.0  \n",
       "synopsis_length                        721  "
      ]
     },
     "execution_count": 435,
     "metadata": {},
     "output_type": "execute_result"
    }
   ],
   "source": [
    "df.head().T"
   ]
  },
  {
   "cell_type": "code",
   "execution_count": 436,
   "id": "0909fb8b-9171-40ec-b830-f216d8ef7a16",
   "metadata": {
    "tags": []
   },
   "outputs": [
    {
     "name": "stdout",
     "output_type": "stream",
     "text": [
      "Mutual Information Scores:\n",
      "producers    0.250364\n",
      "studios      0.149487\n",
      "themes       0.113895\n",
      "genres       0.112707\n",
      "rating       0.070340\n",
      "source       0.068091\n",
      "type         0.057657\n",
      "status       0.000485\n",
      "dtype: float64\n"
     ]
    }
   ],
   "source": [
    "from sklearn.metrics import mutual_info_score\n",
    "\n",
    "categorical_features = ['type', 'source', 'status', 'rating', 'studios', 'genres', 'themes', 'producers']\n",
    "\n",
    "def calculate_mutual_info(series):\n",
    "    return mutual_info_score(series, df['success'])\n",
    "\n",
    "# Calculate mutual information\n",
    "mutual_info = df[categorical_features].apply(calculate_mutual_info)\n",
    "mutual_info.sort_values(ascending=False, inplace=True)\n",
    "print(\"Mutual Information Scores:\")\n",
    "print(mutual_info)"
   ]
  },
  {
   "cell_type": "markdown",
   "id": "e6090be3-ddc0-4b3e-a44d-ba7c2fbfe52d",
   "metadata": {
    "tags": []
   },
   "source": [
    "### Mutual Information Scores\n",
    "- **Producers** have the highest influence on `success`.\n",
    "- Features like **studios**, **genres**, and **themes** also show moderate importance.\n",
    "- **Status** has the least influence, indicating it provides minimal information about `success`."
   ]
  },
  {
   "cell_type": "markdown",
   "id": "2af2ffd0-7973-4b21-8084-d32340e798de",
   "metadata": {},
   "source": [
    "# Setting up the validation framework"
   ]
  },
  {
   "cell_type": "code",
   "execution_count": 437,
   "id": "0c139d08-ccd4-4782-ad43-af0686df051a",
   "metadata": {
    "tags": []
   },
   "outputs": [
    {
     "data": {
      "text/plain": [
       "(16781, 5594, 5594)"
      ]
     },
     "execution_count": 437,
     "metadata": {},
     "output_type": "execute_result"
    }
   ],
   "source": [
    "from sklearn.model_selection import train_test_split\n",
    "\n",
    "df_full_train, df_test = train_test_split(df, test_size=0.2, random_state=1)\n",
    "df_train, df_val = train_test_split(df_full_train, test_size=0.25, random_state=1)\n",
    "\n",
    "len(df_train), len(df_val), len(df_test)"
   ]
  },
  {
   "cell_type": "code",
   "execution_count": 438,
   "id": "2511fe46-c26e-4cce-a2ec-a6dc13017ff6",
   "metadata": {
    "tags": []
   },
   "outputs": [],
   "source": [
    "# Reset the index for train, validation, and test sets\n",
    "df_train = df_train.reset_index(drop=True)\n",
    "df_val = df_val.reset_index(drop=True)\n",
    "df_test = df_test.reset_index(drop=True)"
   ]
  },
  {
   "cell_type": "code",
   "execution_count": 439,
   "id": "15cb716c-46dd-49a9-9db1-b49523816838",
   "metadata": {},
   "outputs": [],
   "source": [
    "y_train = df_train.success.values\n",
    "y_val = df_val.success.values\n",
    "y_test = df_test.success.values"
   ]
  },
  {
   "cell_type": "code",
   "execution_count": 440,
   "id": "11e577d7-c1cc-4edc-b182-084f43cba6f4",
   "metadata": {
    "tags": []
   },
   "outputs": [],
   "source": [
    "del df_train['success']\n",
    "del df_val['success']\n",
    "del df_test['success']"
   ]
  },
  {
   "cell_type": "markdown",
   "id": "add6236e-c4dd-4db5-8de6-d173db687d77",
   "metadata": {},
   "source": [
    "# One-hot encoding"
   ]
  },
  {
   "cell_type": "code",
   "execution_count": 441,
   "id": "6106ddd9-8815-4093-9d12-66df5d4ff0bb",
   "metadata": {
    "tags": []
   },
   "outputs": [],
   "source": [
    "from sklearn.feature_extraction import DictVectorizer\n",
    "\n",
    "dv = DictVectorizer(sparse=False)\n",
    "\n",
    "categorical = ['type', 'source', 'status', 'rating', 'studios', 'genres', 'themes', 'producers']\n",
    "numerical = ['episodes', 'duration_minutes', 'synopsis_length']\n",
    "\n",
    "train_dict = df_train[categorical + numerical].to_dict(orient='records')\n",
    "X_train = dv.fit_transform(train_dict)\n",
    "\n",
    "val_dict = df_val[categorical + numerical].to_dict(orient='records')\n",
    "X_val = dv.transform(val_dict)"
   ]
  },
  {
   "cell_type": "markdown",
   "id": "01427f93-20d1-445f-9b2b-afe0db0bfdfe",
   "metadata": {},
   "source": [
    "# Logistic Regression"
   ]
  },
  {
   "cell_type": "code",
   "execution_count": 303,
   "id": "cb9bc23f-d669-498b-822b-03ff203a2ee7",
   "metadata": {
    "tags": []
   },
   "outputs": [
    {
     "name": "stderr",
     "output_type": "stream",
     "text": [
      "/home/starlord/.local/lib/python3.10/site-packages/sklearn/linear_model/_logistic.py:469: ConvergenceWarning: lbfgs failed to converge (status=1):\n",
      "STOP: TOTAL NO. of ITERATIONS REACHED LIMIT.\n",
      "\n",
      "Increase the number of iterations (max_iter) or scale the data as shown in:\n",
      "    https://scikit-learn.org/stable/modules/preprocessing.html\n",
      "Please also refer to the documentation for alternative solver options:\n",
      "    https://scikit-learn.org/stable/modules/linear_model.html#logistic-regression\n",
      "  n_iter_i = _check_optimize_result(\n"
     ]
    },
    {
     "data": {
      "text/html": [
       "<style>#sk-container-id-5 {\n",
       "  /* Definition of color scheme common for light and dark mode */\n",
       "  --sklearn-color-text: black;\n",
       "  --sklearn-color-line: gray;\n",
       "  /* Definition of color scheme for unfitted estimators */\n",
       "  --sklearn-color-unfitted-level-0: #fff5e6;\n",
       "  --sklearn-color-unfitted-level-1: #f6e4d2;\n",
       "  --sklearn-color-unfitted-level-2: #ffe0b3;\n",
       "  --sklearn-color-unfitted-level-3: chocolate;\n",
       "  /* Definition of color scheme for fitted estimators */\n",
       "  --sklearn-color-fitted-level-0: #f0f8ff;\n",
       "  --sklearn-color-fitted-level-1: #d4ebff;\n",
       "  --sklearn-color-fitted-level-2: #b3dbfd;\n",
       "  --sklearn-color-fitted-level-3: cornflowerblue;\n",
       "\n",
       "  /* Specific color for light theme */\n",
       "  --sklearn-color-text-on-default-background: var(--sg-text-color, var(--theme-code-foreground, var(--jp-content-font-color1, black)));\n",
       "  --sklearn-color-background: var(--sg-background-color, var(--theme-background, var(--jp-layout-color0, white)));\n",
       "  --sklearn-color-border-box: var(--sg-text-color, var(--theme-code-foreground, var(--jp-content-font-color1, black)));\n",
       "  --sklearn-color-icon: #696969;\n",
       "\n",
       "  @media (prefers-color-scheme: dark) {\n",
       "    /* Redefinition of color scheme for dark theme */\n",
       "    --sklearn-color-text-on-default-background: var(--sg-text-color, var(--theme-code-foreground, var(--jp-content-font-color1, white)));\n",
       "    --sklearn-color-background: var(--sg-background-color, var(--theme-background, var(--jp-layout-color0, #111)));\n",
       "    --sklearn-color-border-box: var(--sg-text-color, var(--theme-code-foreground, var(--jp-content-font-color1, white)));\n",
       "    --sklearn-color-icon: #878787;\n",
       "  }\n",
       "}\n",
       "\n",
       "#sk-container-id-5 {\n",
       "  color: var(--sklearn-color-text);\n",
       "}\n",
       "\n",
       "#sk-container-id-5 pre {\n",
       "  padding: 0;\n",
       "}\n",
       "\n",
       "#sk-container-id-5 input.sk-hidden--visually {\n",
       "  border: 0;\n",
       "  clip: rect(1px 1px 1px 1px);\n",
       "  clip: rect(1px, 1px, 1px, 1px);\n",
       "  height: 1px;\n",
       "  margin: -1px;\n",
       "  overflow: hidden;\n",
       "  padding: 0;\n",
       "  position: absolute;\n",
       "  width: 1px;\n",
       "}\n",
       "\n",
       "#sk-container-id-5 div.sk-dashed-wrapped {\n",
       "  border: 1px dashed var(--sklearn-color-line);\n",
       "  margin: 0 0.4em 0.5em 0.4em;\n",
       "  box-sizing: border-box;\n",
       "  padding-bottom: 0.4em;\n",
       "  background-color: var(--sklearn-color-background);\n",
       "}\n",
       "\n",
       "#sk-container-id-5 div.sk-container {\n",
       "  /* jupyter's `normalize.less` sets `[hidden] { display: none; }`\n",
       "     but bootstrap.min.css set `[hidden] { display: none !important; }`\n",
       "     so we also need the `!important` here to be able to override the\n",
       "     default hidden behavior on the sphinx rendered scikit-learn.org.\n",
       "     See: https://github.com/scikit-learn/scikit-learn/issues/21755 */\n",
       "  display: inline-block !important;\n",
       "  position: relative;\n",
       "}\n",
       "\n",
       "#sk-container-id-5 div.sk-text-repr-fallback {\n",
       "  display: none;\n",
       "}\n",
       "\n",
       "div.sk-parallel-item,\n",
       "div.sk-serial,\n",
       "div.sk-item {\n",
       "  /* draw centered vertical line to link estimators */\n",
       "  background-image: linear-gradient(var(--sklearn-color-text-on-default-background), var(--sklearn-color-text-on-default-background));\n",
       "  background-size: 2px 100%;\n",
       "  background-repeat: no-repeat;\n",
       "  background-position: center center;\n",
       "}\n",
       "\n",
       "/* Parallel-specific style estimator block */\n",
       "\n",
       "#sk-container-id-5 div.sk-parallel-item::after {\n",
       "  content: \"\";\n",
       "  width: 100%;\n",
       "  border-bottom: 2px solid var(--sklearn-color-text-on-default-background);\n",
       "  flex-grow: 1;\n",
       "}\n",
       "\n",
       "#sk-container-id-5 div.sk-parallel {\n",
       "  display: flex;\n",
       "  align-items: stretch;\n",
       "  justify-content: center;\n",
       "  background-color: var(--sklearn-color-background);\n",
       "  position: relative;\n",
       "}\n",
       "\n",
       "#sk-container-id-5 div.sk-parallel-item {\n",
       "  display: flex;\n",
       "  flex-direction: column;\n",
       "}\n",
       "\n",
       "#sk-container-id-5 div.sk-parallel-item:first-child::after {\n",
       "  align-self: flex-end;\n",
       "  width: 50%;\n",
       "}\n",
       "\n",
       "#sk-container-id-5 div.sk-parallel-item:last-child::after {\n",
       "  align-self: flex-start;\n",
       "  width: 50%;\n",
       "}\n",
       "\n",
       "#sk-container-id-5 div.sk-parallel-item:only-child::after {\n",
       "  width: 0;\n",
       "}\n",
       "\n",
       "/* Serial-specific style estimator block */\n",
       "\n",
       "#sk-container-id-5 div.sk-serial {\n",
       "  display: flex;\n",
       "  flex-direction: column;\n",
       "  align-items: center;\n",
       "  background-color: var(--sklearn-color-background);\n",
       "  padding-right: 1em;\n",
       "  padding-left: 1em;\n",
       "}\n",
       "\n",
       "\n",
       "/* Toggleable style: style used for estimator/Pipeline/ColumnTransformer box that is\n",
       "clickable and can be expanded/collapsed.\n",
       "- Pipeline and ColumnTransformer use this feature and define the default style\n",
       "- Estimators will overwrite some part of the style using the `sk-estimator` class\n",
       "*/\n",
       "\n",
       "/* Pipeline and ColumnTransformer style (default) */\n",
       "\n",
       "#sk-container-id-5 div.sk-toggleable {\n",
       "  /* Default theme specific background. It is overwritten whether we have a\n",
       "  specific estimator or a Pipeline/ColumnTransformer */\n",
       "  background-color: var(--sklearn-color-background);\n",
       "}\n",
       "\n",
       "/* Toggleable label */\n",
       "#sk-container-id-5 label.sk-toggleable__label {\n",
       "  cursor: pointer;\n",
       "  display: block;\n",
       "  width: 100%;\n",
       "  margin-bottom: 0;\n",
       "  padding: 0.5em;\n",
       "  box-sizing: border-box;\n",
       "  text-align: center;\n",
       "}\n",
       "\n",
       "#sk-container-id-5 label.sk-toggleable__label-arrow:before {\n",
       "  /* Arrow on the left of the label */\n",
       "  content: \"▸\";\n",
       "  float: left;\n",
       "  margin-right: 0.25em;\n",
       "  color: var(--sklearn-color-icon);\n",
       "}\n",
       "\n",
       "#sk-container-id-5 label.sk-toggleable__label-arrow:hover:before {\n",
       "  color: var(--sklearn-color-text);\n",
       "}\n",
       "\n",
       "/* Toggleable content - dropdown */\n",
       "\n",
       "#sk-container-id-5 div.sk-toggleable__content {\n",
       "  max-height: 0;\n",
       "  max-width: 0;\n",
       "  overflow: hidden;\n",
       "  text-align: left;\n",
       "  /* unfitted */\n",
       "  background-color: var(--sklearn-color-unfitted-level-0);\n",
       "}\n",
       "\n",
       "#sk-container-id-5 div.sk-toggleable__content.fitted {\n",
       "  /* fitted */\n",
       "  background-color: var(--sklearn-color-fitted-level-0);\n",
       "}\n",
       "\n",
       "#sk-container-id-5 div.sk-toggleable__content pre {\n",
       "  margin: 0.2em;\n",
       "  border-radius: 0.25em;\n",
       "  color: var(--sklearn-color-text);\n",
       "  /* unfitted */\n",
       "  background-color: var(--sklearn-color-unfitted-level-0);\n",
       "}\n",
       "\n",
       "#sk-container-id-5 div.sk-toggleable__content.fitted pre {\n",
       "  /* unfitted */\n",
       "  background-color: var(--sklearn-color-fitted-level-0);\n",
       "}\n",
       "\n",
       "#sk-container-id-5 input.sk-toggleable__control:checked~div.sk-toggleable__content {\n",
       "  /* Expand drop-down */\n",
       "  max-height: 200px;\n",
       "  max-width: 100%;\n",
       "  overflow: auto;\n",
       "}\n",
       "\n",
       "#sk-container-id-5 input.sk-toggleable__control:checked~label.sk-toggleable__label-arrow:before {\n",
       "  content: \"▾\";\n",
       "}\n",
       "\n",
       "/* Pipeline/ColumnTransformer-specific style */\n",
       "\n",
       "#sk-container-id-5 div.sk-label input.sk-toggleable__control:checked~label.sk-toggleable__label {\n",
       "  color: var(--sklearn-color-text);\n",
       "  background-color: var(--sklearn-color-unfitted-level-2);\n",
       "}\n",
       "\n",
       "#sk-container-id-5 div.sk-label.fitted input.sk-toggleable__control:checked~label.sk-toggleable__label {\n",
       "  background-color: var(--sklearn-color-fitted-level-2);\n",
       "}\n",
       "\n",
       "/* Estimator-specific style */\n",
       "\n",
       "/* Colorize estimator box */\n",
       "#sk-container-id-5 div.sk-estimator input.sk-toggleable__control:checked~label.sk-toggleable__label {\n",
       "  /* unfitted */\n",
       "  background-color: var(--sklearn-color-unfitted-level-2);\n",
       "}\n",
       "\n",
       "#sk-container-id-5 div.sk-estimator.fitted input.sk-toggleable__control:checked~label.sk-toggleable__label {\n",
       "  /* fitted */\n",
       "  background-color: var(--sklearn-color-fitted-level-2);\n",
       "}\n",
       "\n",
       "#sk-container-id-5 div.sk-label label.sk-toggleable__label,\n",
       "#sk-container-id-5 div.sk-label label {\n",
       "  /* The background is the default theme color */\n",
       "  color: var(--sklearn-color-text-on-default-background);\n",
       "}\n",
       "\n",
       "/* On hover, darken the color of the background */\n",
       "#sk-container-id-5 div.sk-label:hover label.sk-toggleable__label {\n",
       "  color: var(--sklearn-color-text);\n",
       "  background-color: var(--sklearn-color-unfitted-level-2);\n",
       "}\n",
       "\n",
       "/* Label box, darken color on hover, fitted */\n",
       "#sk-container-id-5 div.sk-label.fitted:hover label.sk-toggleable__label.fitted {\n",
       "  color: var(--sklearn-color-text);\n",
       "  background-color: var(--sklearn-color-fitted-level-2);\n",
       "}\n",
       "\n",
       "/* Estimator label */\n",
       "\n",
       "#sk-container-id-5 div.sk-label label {\n",
       "  font-family: monospace;\n",
       "  font-weight: bold;\n",
       "  display: inline-block;\n",
       "  line-height: 1.2em;\n",
       "}\n",
       "\n",
       "#sk-container-id-5 div.sk-label-container {\n",
       "  text-align: center;\n",
       "}\n",
       "\n",
       "/* Estimator-specific */\n",
       "#sk-container-id-5 div.sk-estimator {\n",
       "  font-family: monospace;\n",
       "  border: 1px dotted var(--sklearn-color-border-box);\n",
       "  border-radius: 0.25em;\n",
       "  box-sizing: border-box;\n",
       "  margin-bottom: 0.5em;\n",
       "  /* unfitted */\n",
       "  background-color: var(--sklearn-color-unfitted-level-0);\n",
       "}\n",
       "\n",
       "#sk-container-id-5 div.sk-estimator.fitted {\n",
       "  /* fitted */\n",
       "  background-color: var(--sklearn-color-fitted-level-0);\n",
       "}\n",
       "\n",
       "/* on hover */\n",
       "#sk-container-id-5 div.sk-estimator:hover {\n",
       "  /* unfitted */\n",
       "  background-color: var(--sklearn-color-unfitted-level-2);\n",
       "}\n",
       "\n",
       "#sk-container-id-5 div.sk-estimator.fitted:hover {\n",
       "  /* fitted */\n",
       "  background-color: var(--sklearn-color-fitted-level-2);\n",
       "}\n",
       "\n",
       "/* Specification for estimator info (e.g. \"i\" and \"?\") */\n",
       "\n",
       "/* Common style for \"i\" and \"?\" */\n",
       "\n",
       ".sk-estimator-doc-link,\n",
       "a:link.sk-estimator-doc-link,\n",
       "a:visited.sk-estimator-doc-link {\n",
       "  float: right;\n",
       "  font-size: smaller;\n",
       "  line-height: 1em;\n",
       "  font-family: monospace;\n",
       "  background-color: var(--sklearn-color-background);\n",
       "  border-radius: 1em;\n",
       "  height: 1em;\n",
       "  width: 1em;\n",
       "  text-decoration: none !important;\n",
       "  margin-left: 1ex;\n",
       "  /* unfitted */\n",
       "  border: var(--sklearn-color-unfitted-level-1) 1pt solid;\n",
       "  color: var(--sklearn-color-unfitted-level-1);\n",
       "}\n",
       "\n",
       ".sk-estimator-doc-link.fitted,\n",
       "a:link.sk-estimator-doc-link.fitted,\n",
       "a:visited.sk-estimator-doc-link.fitted {\n",
       "  /* fitted */\n",
       "  border: var(--sklearn-color-fitted-level-1) 1pt solid;\n",
       "  color: var(--sklearn-color-fitted-level-1);\n",
       "}\n",
       "\n",
       "/* On hover */\n",
       "div.sk-estimator:hover .sk-estimator-doc-link:hover,\n",
       ".sk-estimator-doc-link:hover,\n",
       "div.sk-label-container:hover .sk-estimator-doc-link:hover,\n",
       ".sk-estimator-doc-link:hover {\n",
       "  /* unfitted */\n",
       "  background-color: var(--sklearn-color-unfitted-level-3);\n",
       "  color: var(--sklearn-color-background);\n",
       "  text-decoration: none;\n",
       "}\n",
       "\n",
       "div.sk-estimator.fitted:hover .sk-estimator-doc-link.fitted:hover,\n",
       ".sk-estimator-doc-link.fitted:hover,\n",
       "div.sk-label-container:hover .sk-estimator-doc-link.fitted:hover,\n",
       ".sk-estimator-doc-link.fitted:hover {\n",
       "  /* fitted */\n",
       "  background-color: var(--sklearn-color-fitted-level-3);\n",
       "  color: var(--sklearn-color-background);\n",
       "  text-decoration: none;\n",
       "}\n",
       "\n",
       "/* Span, style for the box shown on hovering the info icon */\n",
       ".sk-estimator-doc-link span {\n",
       "  display: none;\n",
       "  z-index: 9999;\n",
       "  position: relative;\n",
       "  font-weight: normal;\n",
       "  right: .2ex;\n",
       "  padding: .5ex;\n",
       "  margin: .5ex;\n",
       "  width: min-content;\n",
       "  min-width: 20ex;\n",
       "  max-width: 50ex;\n",
       "  color: var(--sklearn-color-text);\n",
       "  box-shadow: 2pt 2pt 4pt #999;\n",
       "  /* unfitted */\n",
       "  background: var(--sklearn-color-unfitted-level-0);\n",
       "  border: .5pt solid var(--sklearn-color-unfitted-level-3);\n",
       "}\n",
       "\n",
       ".sk-estimator-doc-link.fitted span {\n",
       "  /* fitted */\n",
       "  background: var(--sklearn-color-fitted-level-0);\n",
       "  border: var(--sklearn-color-fitted-level-3);\n",
       "}\n",
       "\n",
       ".sk-estimator-doc-link:hover span {\n",
       "  display: block;\n",
       "}\n",
       "\n",
       "/* \"?\"-specific style due to the `<a>` HTML tag */\n",
       "\n",
       "#sk-container-id-5 a.estimator_doc_link {\n",
       "  float: right;\n",
       "  font-size: 1rem;\n",
       "  line-height: 1em;\n",
       "  font-family: monospace;\n",
       "  background-color: var(--sklearn-color-background);\n",
       "  border-radius: 1rem;\n",
       "  height: 1rem;\n",
       "  width: 1rem;\n",
       "  text-decoration: none;\n",
       "  /* unfitted */\n",
       "  color: var(--sklearn-color-unfitted-level-1);\n",
       "  border: var(--sklearn-color-unfitted-level-1) 1pt solid;\n",
       "}\n",
       "\n",
       "#sk-container-id-5 a.estimator_doc_link.fitted {\n",
       "  /* fitted */\n",
       "  border: var(--sklearn-color-fitted-level-1) 1pt solid;\n",
       "  color: var(--sklearn-color-fitted-level-1);\n",
       "}\n",
       "\n",
       "/* On hover */\n",
       "#sk-container-id-5 a.estimator_doc_link:hover {\n",
       "  /* unfitted */\n",
       "  background-color: var(--sklearn-color-unfitted-level-3);\n",
       "  color: var(--sklearn-color-background);\n",
       "  text-decoration: none;\n",
       "}\n",
       "\n",
       "#sk-container-id-5 a.estimator_doc_link.fitted:hover {\n",
       "  /* fitted */\n",
       "  background-color: var(--sklearn-color-fitted-level-3);\n",
       "}\n",
       "</style><div id=\"sk-container-id-5\" class=\"sk-top-container\"><div class=\"sk-text-repr-fallback\"><pre>LogisticRegression(class_weight=&#x27;balanced&#x27;, max_iter=1000, random_state=42)</pre><b>In a Jupyter environment, please rerun this cell to show the HTML representation or trust the notebook. <br />On GitHub, the HTML representation is unable to render, please try loading this page with nbviewer.org.</b></div><div class=\"sk-container\" hidden><div class=\"sk-item\"><div class=\"sk-estimator fitted sk-toggleable\"><input class=\"sk-toggleable__control sk-hidden--visually\" id=\"sk-estimator-id-5\" type=\"checkbox\" checked><label for=\"sk-estimator-id-5\" class=\"sk-toggleable__label fitted sk-toggleable__label-arrow fitted\">&nbsp;&nbsp;LogisticRegression<a class=\"sk-estimator-doc-link fitted\" rel=\"noreferrer\" target=\"_blank\" href=\"https://scikit-learn.org/1.5/modules/generated/sklearn.linear_model.LogisticRegression.html\">?<span>Documentation for LogisticRegression</span></a><span class=\"sk-estimator-doc-link fitted\">i<span>Fitted</span></span></label><div class=\"sk-toggleable__content fitted\"><pre>LogisticRegression(class_weight=&#x27;balanced&#x27;, max_iter=1000, random_state=42)</pre></div> </div></div></div></div>"
      ],
      "text/plain": [
       "LogisticRegression(class_weight='balanced', max_iter=1000, random_state=42)"
      ]
     },
     "execution_count": 303,
     "metadata": {},
     "output_type": "execute_result"
    }
   ],
   "source": [
    "from sklearn.linear_model import LogisticRegression\n",
    "\n",
    "model = LogisticRegression(max_iter=1000, random_state=42, class_weight='balanced')\n",
    "model.fit(X_train, y_train)"
   ]
  },
  {
   "cell_type": "code",
   "execution_count": 304,
   "id": "e40eaba9-a16f-495c-a985-a32e887ef9e6",
   "metadata": {
    "tags": []
   },
   "outputs": [],
   "source": [
    "y_pred = model.predict(X_val)\n",
    "y_pred_proba = model.predict_proba(X_val)[:, 1]"
   ]
  },
  {
   "cell_type": "code",
   "execution_count": 305,
   "id": "e33b8f99-4162-4db8-92fe-3d925cd86f90",
   "metadata": {
    "tags": []
   },
   "outputs": [
    {
     "name": "stdout",
     "output_type": "stream",
     "text": [
      "Confusion Matrix:\n",
      "[[4434  524]\n",
      " [  56  580]]\n",
      "Classification Report:\n",
      "              precision    recall  f1-score   support\n",
      "\n",
      "           0       0.99      0.89      0.94      4958\n",
      "           1       0.53      0.91      0.67       636\n",
      "\n",
      "    accuracy                           0.90      5594\n",
      "   macro avg       0.76      0.90      0.80      5594\n",
      "weighted avg       0.93      0.90      0.91      5594\n",
      "\n",
      "AUC Score: 0.9650567915141274\n"
     ]
    }
   ],
   "source": [
    "from sklearn.metrics import confusion_matrix, classification_report, roc_auc_score\n",
    "\n",
    "print(\"Confusion Matrix:\")\n",
    "print(confusion_matrix(y_val, y_pred))\n",
    "\n",
    "print(\"Classification Report:\")\n",
    "print(classification_report(y_val, y_pred))\n",
    "\n",
    "print(f\"AUC Score: {roc_auc_score(y_val, y_pred_proba)}\")"
   ]
  },
  {
   "cell_type": "code",
   "execution_count": 306,
   "id": "493c7935-9ae2-4d5e-9609-fa6eea16e7fd",
   "metadata": {
    "tags": []
   },
   "outputs": [
    {
     "data": {
      "image/png": "[encoded data removed]",
      "text/plain": [
       "<Figure size 800x600 with 1 Axes>"
      ]
     },
     "metadata": {},
     "output_type": "display_data"
    }
   ],
   "source": [
    "import matplotlib.pyplot as plt\n",
    "from sklearn.metrics import roc_curve\n",
    "\n",
    "# ROC Curve\n",
    "fpr, tpr, thresholds = roc_curve(y_val, y_pred_proba)\n",
    "\n",
    "plt.figure(figsize=(8, 6))\n",
    "plt.plot(fpr, tpr, label=\"ROC Curve (AUC = {:.2f})\".format(roc_auc_score(y_val, y_pred_proba)))\n",
    "plt.plot([0, 1], [0, 1], linestyle='--', label=\"Random Classifier\")\n",
    "plt.xlabel(\"False Positive Rate\")\n",
    "plt.ylabel(\"True Positive Rate\")\n",
    "plt.title(\"ROC Curve\")\n",
    "plt.legend()\n",
    "plt.show()"
   ]
  },
  {
   "cell_type": "code",
   "execution_count": 307,
   "id": "8eaa0996-c6f8-4df1-8d99-f80cf129bd67",
   "metadata": {
    "tags": []
   },
   "outputs": [
    {
     "name": "stderr",
     "output_type": "stream",
     "text": [
      "/home/starlord/.local/lib/python3.10/site-packages/sklearn/linear_model/_logistic.py:469: ConvergenceWarning: lbfgs failed to converge (status=1):\n",
      "STOP: TOTAL NO. of ITERATIONS REACHED LIMIT.\n",
      "\n",
      "Increase the number of iterations (max_iter) or scale the data as shown in:\n",
      "    https://scikit-learn.org/stable/modules/preprocessing.html\n",
      "Please also refer to the documentation for alternative solver options:\n",
      "    https://scikit-learn.org/stable/modules/linear_model.html#logistic-regression\n",
      "  n_iter_i = _check_optimize_result(\n",
      "/home/starlord/.local/lib/python3.10/site-packages/sklearn/linear_model/_logistic.py:469: ConvergenceWarning: lbfgs failed to converge (status=1):\n",
      "STOP: TOTAL NO. of ITERATIONS REACHED LIMIT.\n",
      "\n",
      "Increase the number of iterations (max_iter) or scale the data as shown in:\n",
      "    https://scikit-learn.org/stable/modules/preprocessing.html\n",
      "Please also refer to the documentation for alternative solver options:\n",
      "    https://scikit-learn.org/stable/modules/linear_model.html#logistic-regression\n",
      "  n_iter_i = _check_optimize_result(\n",
      "/home/starlord/.local/lib/python3.10/site-packages/sklearn/linear_model/_logistic.py:469: ConvergenceWarning: lbfgs failed to converge (status=1):\n",
      "STOP: TOTAL NO. of ITERATIONS REACHED LIMIT.\n",
      "\n",
      "Increase the number of iterations (max_iter) or scale the data as shown in:\n",
      "    https://scikit-learn.org/stable/modules/preprocessing.html\n",
      "Please also refer to the documentation for alternative solver options:\n",
      "    https://scikit-learn.org/stable/modules/linear_model.html#logistic-regression\n",
      "  n_iter_i = _check_optimize_result(\n",
      "/home/starlord/.local/lib/python3.10/site-packages/sklearn/linear_model/_logistic.py:469: ConvergenceWarning: lbfgs failed to converge (status=1):\n",
      "STOP: TOTAL NO. of ITERATIONS REACHED LIMIT.\n",
      "\n",
      "Increase the number of iterations (max_iter) or scale the data as shown in:\n",
      "    https://scikit-learn.org/stable/modules/preprocessing.html\n",
      "Please also refer to the documentation for alternative solver options:\n",
      "    https://scikit-learn.org/stable/modules/linear_model.html#logistic-regression\n",
      "  n_iter_i = _check_optimize_result(\n"
     ]
    },
    {
     "name": "stdout",
     "output_type": "stream",
     "text": [
      "Cross-Validation AUC Scores: [0.95029078 0.96054653 0.96147771 0.96317833 0.95725627]\n",
      "Mean CV AUC Score: 0.9585499240634947\n"
     ]
    },
    {
     "name": "stderr",
     "output_type": "stream",
     "text": [
      "/home/starlord/.local/lib/python3.10/site-packages/sklearn/linear_model/_logistic.py:469: ConvergenceWarning: lbfgs failed to converge (status=1):\n",
      "STOP: TOTAL NO. of ITERATIONS REACHED LIMIT.\n",
      "\n",
      "Increase the number of iterations (max_iter) or scale the data as shown in:\n",
      "    https://scikit-learn.org/stable/modules/preprocessing.html\n",
      "Please also refer to the documentation for alternative solver options:\n",
      "    https://scikit-learn.org/stable/modules/linear_model.html#logistic-regression\n",
      "  n_iter_i = _check_optimize_result(\n"
     ]
    }
   ],
   "source": [
    "from sklearn.model_selection import cross_val_score\n",
    "\n",
    "# Cross-validation AUC scores\n",
    "cv_scores = cross_val_score(model, X_train, y_train, cv=5, scoring='roc_auc')\n",
    "print(f\"Cross-Validation AUC Scores: {cv_scores}\")\n",
    "print(f\"Mean CV AUC Score: {cv_scores.mean()}\")"
   ]
  },
  {
   "cell_type": "code",
   "execution_count": 308,
   "id": "460f2993-b1e9-416e-8ba5-52b9f9c55f3d",
   "metadata": {
    "tags": []
   },
   "outputs": [
    {
     "name": "stderr",
     "output_type": "stream",
     "text": [
      "/home/starlord/.local/lib/python3.10/site-packages/sklearn/linear_model/_logistic.py:469: ConvergenceWarning: lbfgs failed to converge (status=1):\n",
      "STOP: TOTAL NO. of ITERATIONS REACHED LIMIT.\n",
      "\n",
      "Increase the number of iterations (max_iter) or scale the data as shown in:\n",
      "    https://scikit-learn.org/stable/modules/preprocessing.html\n",
      "Please also refer to the documentation for alternative solver options:\n",
      "    https://scikit-learn.org/stable/modules/linear_model.html#logistic-regression\n",
      "  n_iter_i = _check_optimize_result(\n",
      "/home/starlord/.local/lib/python3.10/site-packages/sklearn/linear_model/_logistic.py:469: ConvergenceWarning: lbfgs failed to converge (status=1):\n",
      "STOP: TOTAL NO. of ITERATIONS REACHED LIMIT.\n",
      "\n",
      "Increase the number of iterations (max_iter) or scale the data as shown in:\n",
      "    https://scikit-learn.org/stable/modules/preprocessing.html\n",
      "Please also refer to the documentation for alternative solver options:\n",
      "    https://scikit-learn.org/stable/modules/linear_model.html#logistic-regression\n",
      "  n_iter_i = _check_optimize_result(\n",
      "/home/starlord/.local/lib/python3.10/site-packages/sklearn/linear_model/_logistic.py:469: ConvergenceWarning: lbfgs failed to converge (status=1):\n",
      "STOP: TOTAL NO. of ITERATIONS REACHED LIMIT.\n",
      "\n",
      "Increase the number of iterations (max_iter) or scale the data as shown in:\n",
      "    https://scikit-learn.org/stable/modules/preprocessing.html\n",
      "Please also refer to the documentation for alternative solver options:\n",
      "    https://scikit-learn.org/stable/modules/linear_model.html#logistic-regression\n",
      "  n_iter_i = _check_optimize_result(\n",
      "/home/starlord/.local/lib/python3.10/site-packages/sklearn/linear_model/_logistic.py:469: ConvergenceWarning: lbfgs failed to converge (status=1):\n",
      "STOP: TOTAL NO. of ITERATIONS REACHED LIMIT.\n",
      "\n",
      "Increase the number of iterations (max_iter) or scale the data as shown in:\n",
      "    https://scikit-learn.org/stable/modules/preprocessing.html\n",
      "Please also refer to the documentation for alternative solver options:\n",
      "    https://scikit-learn.org/stable/modules/linear_model.html#logistic-regression\n",
      "  n_iter_i = _check_optimize_result(\n",
      "/home/starlord/.local/lib/python3.10/site-packages/sklearn/linear_model/_logistic.py:469: ConvergenceWarning: lbfgs failed to converge (status=1):\n",
      "STOP: TOTAL NO. of ITERATIONS REACHED LIMIT.\n",
      "\n",
      "Increase the number of iterations (max_iter) or scale the data as shown in:\n",
      "    https://scikit-learn.org/stable/modules/preprocessing.html\n",
      "Please also refer to the documentation for alternative solver options:\n",
      "    https://scikit-learn.org/stable/modules/linear_model.html#logistic-regression\n",
      "  n_iter_i = _check_optimize_result(\n",
      "/home/starlord/.local/lib/python3.10/site-packages/sklearn/linear_model/_logistic.py:469: ConvergenceWarning: lbfgs failed to converge (status=1):\n",
      "STOP: TOTAL NO. of ITERATIONS REACHED LIMIT.\n",
      "\n",
      "Increase the number of iterations (max_iter) or scale the data as shown in:\n",
      "    https://scikit-learn.org/stable/modules/preprocessing.html\n",
      "Please also refer to the documentation for alternative solver options:\n",
      "    https://scikit-learn.org/stable/modules/linear_model.html#logistic-regression\n",
      "  n_iter_i = _check_optimize_result(\n",
      "/home/starlord/.local/lib/python3.10/site-packages/sklearn/linear_model/_logistic.py:469: ConvergenceWarning: lbfgs failed to converge (status=1):\n",
      "STOP: TOTAL NO. of ITERATIONS REACHED LIMIT.\n",
      "\n",
      "Increase the number of iterations (max_iter) or scale the data as shown in:\n",
      "    https://scikit-learn.org/stable/modules/preprocessing.html\n",
      "Please also refer to the documentation for alternative solver options:\n",
      "    https://scikit-learn.org/stable/modules/linear_model.html#logistic-regression\n",
      "  n_iter_i = _check_optimize_result(\n",
      "/home/starlord/.local/lib/python3.10/site-packages/sklearn/linear_model/_logistic.py:469: ConvergenceWarning: lbfgs failed to converge (status=1):\n",
      "STOP: TOTAL NO. of ITERATIONS REACHED LIMIT.\n",
      "\n",
      "Increase the number of iterations (max_iter) or scale the data as shown in:\n",
      "    https://scikit-learn.org/stable/modules/preprocessing.html\n",
      "Please also refer to the documentation for alternative solver options:\n",
      "    https://scikit-learn.org/stable/modules/linear_model.html#logistic-regression\n",
      "  n_iter_i = _check_optimize_result(\n",
      "/home/starlord/.local/lib/python3.10/site-packages/sklearn/linear_model/_logistic.py:469: ConvergenceWarning: lbfgs failed to converge (status=1):\n",
      "STOP: TOTAL NO. of ITERATIONS REACHED LIMIT.\n",
      "\n",
      "Increase the number of iterations (max_iter) or scale the data as shown in:\n",
      "    https://scikit-learn.org/stable/modules/preprocessing.html\n",
      "Please also refer to the documentation for alternative solver options:\n",
      "    https://scikit-learn.org/stable/modules/linear_model.html#logistic-regression\n",
      "  n_iter_i = _check_optimize_result(\n",
      "/home/starlord/.local/lib/python3.10/site-packages/sklearn/linear_model/_logistic.py:469: ConvergenceWarning: lbfgs failed to converge (status=1):\n",
      "STOP: TOTAL NO. of ITERATIONS REACHED LIMIT.\n",
      "\n",
      "Increase the number of iterations (max_iter) or scale the data as shown in:\n",
      "    https://scikit-learn.org/stable/modules/preprocessing.html\n",
      "Please also refer to the documentation for alternative solver options:\n",
      "    https://scikit-learn.org/stable/modules/linear_model.html#logistic-regression\n",
      "  n_iter_i = _check_optimize_result(\n",
      "/home/starlord/.local/lib/python3.10/site-packages/sklearn/linear_model/_logistic.py:469: ConvergenceWarning: lbfgs failed to converge (status=1):\n",
      "STOP: TOTAL NO. of ITERATIONS REACHED LIMIT.\n",
      "\n",
      "Increase the number of iterations (max_iter) or scale the data as shown in:\n",
      "    https://scikit-learn.org/stable/modules/preprocessing.html\n",
      "Please also refer to the documentation for alternative solver options:\n",
      "    https://scikit-learn.org/stable/modules/linear_model.html#logistic-regression\n",
      "  n_iter_i = _check_optimize_result(\n",
      "/home/starlord/.local/lib/python3.10/site-packages/sklearn/linear_model/_logistic.py:469: ConvergenceWarning: lbfgs failed to converge (status=1):\n",
      "STOP: TOTAL NO. of ITERATIONS REACHED LIMIT.\n",
      "\n",
      "Increase the number of iterations (max_iter) or scale the data as shown in:\n",
      "    https://scikit-learn.org/stable/modules/preprocessing.html\n",
      "Please also refer to the documentation for alternative solver options:\n",
      "    https://scikit-learn.org/stable/modules/linear_model.html#logistic-regression\n",
      "  n_iter_i = _check_optimize_result(\n",
      "/home/starlord/.local/lib/python3.10/site-packages/sklearn/linear_model/_logistic.py:469: ConvergenceWarning: lbfgs failed to converge (status=1):\n",
      "STOP: TOTAL NO. of ITERATIONS REACHED LIMIT.\n",
      "\n",
      "Increase the number of iterations (max_iter) or scale the data as shown in:\n",
      "    https://scikit-learn.org/stable/modules/preprocessing.html\n",
      "Please also refer to the documentation for alternative solver options:\n",
      "    https://scikit-learn.org/stable/modules/linear_model.html#logistic-regression\n",
      "  n_iter_i = _check_optimize_result(\n",
      "/home/starlord/.local/lib/python3.10/site-packages/sklearn/linear_model/_logistic.py:469: ConvergenceWarning: lbfgs failed to converge (status=1):\n",
      "STOP: TOTAL NO. of ITERATIONS REACHED LIMIT.\n",
      "\n",
      "Increase the number of iterations (max_iter) or scale the data as shown in:\n",
      "    https://scikit-learn.org/stable/modules/preprocessing.html\n",
      "Please also refer to the documentation for alternative solver options:\n",
      "    https://scikit-learn.org/stable/modules/linear_model.html#logistic-regression\n",
      "  n_iter_i = _check_optimize_result(\n",
      "/home/starlord/.local/lib/python3.10/site-packages/sklearn/linear_model/_logistic.py:469: ConvergenceWarning: lbfgs failed to converge (status=1):\n",
      "STOP: TOTAL NO. of ITERATIONS REACHED LIMIT.\n",
      "\n",
      "Increase the number of iterations (max_iter) or scale the data as shown in:\n",
      "    https://scikit-learn.org/stable/modules/preprocessing.html\n",
      "Please also refer to the documentation for alternative solver options:\n",
      "    https://scikit-learn.org/stable/modules/linear_model.html#logistic-regression\n",
      "  n_iter_i = _check_optimize_result(\n",
      "/home/starlord/.local/lib/python3.10/site-packages/sklearn/linear_model/_logistic.py:469: ConvergenceWarning: lbfgs failed to converge (status=1):\n",
      "STOP: TOTAL NO. of ITERATIONS REACHED LIMIT.\n",
      "\n",
      "Increase the number of iterations (max_iter) or scale the data as shown in:\n",
      "    https://scikit-learn.org/stable/modules/preprocessing.html\n",
      "Please also refer to the documentation for alternative solver options:\n",
      "    https://scikit-learn.org/stable/modules/linear_model.html#logistic-regression\n",
      "  n_iter_i = _check_optimize_result(\n",
      "/home/starlord/.local/lib/python3.10/site-packages/sklearn/linear_model/_logistic.py:469: ConvergenceWarning: lbfgs failed to converge (status=1):\n",
      "STOP: TOTAL NO. of ITERATIONS REACHED LIMIT.\n",
      "\n",
      "Increase the number of iterations (max_iter) or scale the data as shown in:\n",
      "    https://scikit-learn.org/stable/modules/preprocessing.html\n",
      "Please also refer to the documentation for alternative solver options:\n",
      "    https://scikit-learn.org/stable/modules/linear_model.html#logistic-regression\n",
      "  n_iter_i = _check_optimize_result(\n",
      "/home/starlord/.local/lib/python3.10/site-packages/sklearn/linear_model/_logistic.py:469: ConvergenceWarning: lbfgs failed to converge (status=1):\n",
      "STOP: TOTAL NO. of ITERATIONS REACHED LIMIT.\n",
      "\n",
      "Increase the number of iterations (max_iter) or scale the data as shown in:\n",
      "    https://scikit-learn.org/stable/modules/preprocessing.html\n",
      "Please also refer to the documentation for alternative solver options:\n",
      "    https://scikit-learn.org/stable/modules/linear_model.html#logistic-regression\n",
      "  n_iter_i = _check_optimize_result(\n",
      "/home/starlord/.local/lib/python3.10/site-packages/sklearn/linear_model/_logistic.py:469: ConvergenceWarning: lbfgs failed to converge (status=1):\n",
      "STOP: TOTAL NO. of ITERATIONS REACHED LIMIT.\n",
      "\n",
      "Increase the number of iterations (max_iter) or scale the data as shown in:\n",
      "    https://scikit-learn.org/stable/modules/preprocessing.html\n",
      "Please also refer to the documentation for alternative solver options:\n",
      "    https://scikit-learn.org/stable/modules/linear_model.html#logistic-regression\n",
      "  n_iter_i = _check_optimize_result(\n",
      "/home/starlord/.local/lib/python3.10/site-packages/sklearn/linear_model/_logistic.py:469: ConvergenceWarning: lbfgs failed to converge (status=1):\n",
      "STOP: TOTAL NO. of ITERATIONS REACHED LIMIT.\n",
      "\n",
      "Increase the number of iterations (max_iter) or scale the data as shown in:\n",
      "    https://scikit-learn.org/stable/modules/preprocessing.html\n",
      "Please also refer to the documentation for alternative solver options:\n",
      "    https://scikit-learn.org/stable/modules/linear_model.html#logistic-regression\n",
      "  n_iter_i = _check_optimize_result(\n"
     ]
    },
    {
     "name": "stdout",
     "output_type": "stream",
     "text": [
      "Best Parameters: {'C': 1, 'solver': 'liblinear'}\n",
      "Best AUC Score: 0.9596179746062801\n"
     ]
    }
   ],
   "source": [
    "from sklearn.model_selection import GridSearchCV\n",
    "\n",
    "# Define parameter grid\n",
    "param_grid = {\n",
    "    'C': [0.001, 0.01, 0.1, 1, 10, 100],\n",
    "    'solver': ['liblinear', 'lbfgs']\n",
    "}\n",
    "\n",
    "# Grid Search\n",
    "grid_search = GridSearchCV(LogisticRegression(max_iter=1000, random_state=42, class_weight='balanced'), param_grid, scoring='roc_auc', cv=5)\n",
    "grid_search.fit(X_train, y_train)\n",
    "\n",
    "# Best Parameters\n",
    "print(f\"Best Parameters: {grid_search.best_params_}\")\n",
    "print(f\"Best AUC Score: {grid_search.best_score_}\")"
   ]
  },
  {
   "cell_type": "markdown",
   "id": "1d5d2f98-cde7-44bd-9830-2e22ac107843",
   "metadata": {},
   "source": [
    "### Using SMOTE for Imbalanced Data"
   ]
  },
  {
   "cell_type": "code",
   "execution_count": 309,
   "id": "d653fbab-ca03-43c7-8a9e-313d124512ed",
   "metadata": {
    "tags": []
   },
   "outputs": [],
   "source": [
    "from imblearn.over_sampling import SMOTE\n",
    "\n",
    "smote = SMOTE(random_state=42)\n",
    "X_train_resampled, y_train_resampled = smote.fit_resample(X_train, y_train)"
   ]
  },
  {
   "cell_type": "code",
   "execution_count": 310,
   "id": "29dc161c-0a0f-42e7-b453-32e655a970ef",
   "metadata": {
    "tags": []
   },
   "outputs": [
    {
     "name": "stderr",
     "output_type": "stream",
     "text": [
      "/home/starlord/.local/lib/python3.10/site-packages/sklearn/linear_model/_logistic.py:469: ConvergenceWarning: lbfgs failed to converge (status=1):\n",
      "STOP: TOTAL NO. of ITERATIONS REACHED LIMIT.\n",
      "\n",
      "Increase the number of iterations (max_iter) or scale the data as shown in:\n",
      "    https://scikit-learn.org/stable/modules/preprocessing.html\n",
      "Please also refer to the documentation for alternative solver options:\n",
      "    https://scikit-learn.org/stable/modules/linear_model.html#logistic-regression\n",
      "  n_iter_i = _check_optimize_result(\n"
     ]
    },
    {
     "data": {
      "text/html": [
       "<style>#sk-container-id-6 {\n",
       "  /* Definition of color scheme common for light and dark mode */\n",
       "  --sklearn-color-text: black;\n",
       "  --sklearn-color-line: gray;\n",
       "  /* Definition of color scheme for unfitted estimators */\n",
       "  --sklearn-color-unfitted-level-0: #fff5e6;\n",
       "  --sklearn-color-unfitted-level-1: #f6e4d2;\n",
       "  --sklearn-color-unfitted-level-2: #ffe0b3;\n",
       "  --sklearn-color-unfitted-level-3: chocolate;\n",
       "  /* Definition of color scheme for fitted estimators */\n",
       "  --sklearn-color-fitted-level-0: #f0f8ff;\n",
       "  --sklearn-color-fitted-level-1: #d4ebff;\n",
       "  --sklearn-color-fitted-level-2: #b3dbfd;\n",
       "  --sklearn-color-fitted-level-3: cornflowerblue;\n",
       "\n",
       "  /* Specific color for light theme */\n",
       "  --sklearn-color-text-on-default-background: var(--sg-text-color, var(--theme-code-foreground, var(--jp-content-font-color1, black)));\n",
       "  --sklearn-color-background: var(--sg-background-color, var(--theme-background, var(--jp-layout-color0, white)));\n",
       "  --sklearn-color-border-box: var(--sg-text-color, var(--theme-code-foreground, var(--jp-content-font-color1, black)));\n",
       "  --sklearn-color-icon: #696969;\n",
       "\n",
       "  @media (prefers-color-scheme: dark) {\n",
       "    /* Redefinition of color scheme for dark theme */\n",
       "    --sklearn-color-text-on-default-background: var(--sg-text-color, var(--theme-code-foreground, var(--jp-content-font-color1, white)));\n",
       "    --sklearn-color-background: var(--sg-background-color, var(--theme-background, var(--jp-layout-color0, #111)));\n",
       "    --sklearn-color-border-box: var(--sg-text-color, var(--theme-code-foreground, var(--jp-content-font-color1, white)));\n",
       "    --sklearn-color-icon: #878787;\n",
       "  }\n",
       "}\n",
       "\n",
       "#sk-container-id-6 {\n",
       "  color: var(--sklearn-color-text);\n",
       "}\n",
       "\n",
       "#sk-container-id-6 pre {\n",
       "  padding: 0;\n",
       "}\n",
       "\n",
       "#sk-container-id-6 input.sk-hidden--visually {\n",
       "  border: 0;\n",
       "  clip: rect(1px 1px 1px 1px);\n",
       "  clip: rect(1px, 1px, 1px, 1px);\n",
       "  height: 1px;\n",
       "  margin: -1px;\n",
       "  overflow: hidden;\n",
       "  padding: 0;\n",
       "  position: absolute;\n",
       "  width: 1px;\n",
       "}\n",
       "\n",
       "#sk-container-id-6 div.sk-dashed-wrapped {\n",
       "  border: 1px dashed var(--sklearn-color-line);\n",
       "  margin: 0 0.4em 0.5em 0.4em;\n",
       "  box-sizing: border-box;\n",
       "  padding-bottom: 0.4em;\n",
       "  background-color: var(--sklearn-color-background);\n",
       "}\n",
       "\n",
       "#sk-container-id-6 div.sk-container {\n",
       "  /* jupyter's `normalize.less` sets `[hidden] { display: none; }`\n",
       "     but bootstrap.min.css set `[hidden] { display: none !important; }`\n",
       "     so we also need the `!important` here to be able to override the\n",
       "     default hidden behavior on the sphinx rendered scikit-learn.org.\n",
       "     See: https://github.com/scikit-learn/scikit-learn/issues/21755 */\n",
       "  display: inline-block !important;\n",
       "  position: relative;\n",
       "}\n",
       "\n",
       "#sk-container-id-6 div.sk-text-repr-fallback {\n",
       "  display: none;\n",
       "}\n",
       "\n",
       "div.sk-parallel-item,\n",
       "div.sk-serial,\n",
       "div.sk-item {\n",
       "  /* draw centered vertical line to link estimators */\n",
       "  background-image: linear-gradient(var(--sklearn-color-text-on-default-background), var(--sklearn-color-text-on-default-background));\n",
       "  background-size: 2px 100%;\n",
       "  background-repeat: no-repeat;\n",
       "  background-position: center center;\n",
       "}\n",
       "\n",
       "/* Parallel-specific style estimator block */\n",
       "\n",
       "#sk-container-id-6 div.sk-parallel-item::after {\n",
       "  content: \"\";\n",
       "  width: 100%;\n",
       "  border-bottom: 2px solid var(--sklearn-color-text-on-default-background);\n",
       "  flex-grow: 1;\n",
       "}\n",
       "\n",
       "#sk-container-id-6 div.sk-parallel {\n",
       "  display: flex;\n",
       "  align-items: stretch;\n",
       "  justify-content: center;\n",
       "  background-color: var(--sklearn-color-background);\n",
       "  position: relative;\n",
       "}\n",
       "\n",
       "#sk-container-id-6 div.sk-parallel-item {\n",
       "  display: flex;\n",
       "  flex-direction: column;\n",
       "}\n",
       "\n",
       "#sk-container-id-6 div.sk-parallel-item:first-child::after {\n",
       "  align-self: flex-end;\n",
       "  width: 50%;\n",
       "}\n",
       "\n",
       "#sk-container-id-6 div.sk-parallel-item:last-child::after {\n",
       "  align-self: flex-start;\n",
       "  width: 50%;\n",
       "}\n",
       "\n",
       "#sk-container-id-6 div.sk-parallel-item:only-child::after {\n",
       "  width: 0;\n",
       "}\n",
       "\n",
       "/* Serial-specific style estimator block */\n",
       "\n",
       "#sk-container-id-6 div.sk-serial {\n",
       "  display: flex;\n",
       "  flex-direction: column;\n",
       "  align-items: center;\n",
       "  background-color: var(--sklearn-color-background);\n",
       "  padding-right: 1em;\n",
       "  padding-left: 1em;\n",
       "}\n",
       "\n",
       "\n",
       "/* Toggleable style: style used for estimator/Pipeline/ColumnTransformer box that is\n",
       "clickable and can be expanded/collapsed.\n",
       "- Pipeline and ColumnTransformer use this feature and define the default style\n",
       "- Estimators will overwrite some part of the style using the `sk-estimator` class\n",
       "*/\n",
       "\n",
       "/* Pipeline and ColumnTransformer style (default) */\n",
       "\n",
       "#sk-container-id-6 div.sk-toggleable {\n",
       "  /* Default theme specific background. It is overwritten whether we have a\n",
       "  specific estimator or a Pipeline/ColumnTransformer */\n",
       "  background-color: var(--sklearn-color-background);\n",
       "}\n",
       "\n",
       "/* Toggleable label */\n",
       "#sk-container-id-6 label.sk-toggleable__label {\n",
       "  cursor: pointer;\n",
       "  display: block;\n",
       "  width: 100%;\n",
       "  margin-bottom: 0;\n",
       "  padding: 0.5em;\n",
       "  box-sizing: border-box;\n",
       "  text-align: center;\n",
       "}\n",
       "\n",
       "#sk-container-id-6 label.sk-toggleable__label-arrow:before {\n",
       "  /* Arrow on the left of the label */\n",
       "  content: \"▸\";\n",
       "  float: left;\n",
       "  margin-right: 0.25em;\n",
       "  color: var(--sklearn-color-icon);\n",
       "}\n",
       "\n",
       "#sk-container-id-6 label.sk-toggleable__label-arrow:hover:before {\n",
       "  color: var(--sklearn-color-text);\n",
       "}\n",
       "\n",
       "/* Toggleable content - dropdown */\n",
       "\n",
       "#sk-container-id-6 div.sk-toggleable__content {\n",
       "  max-height: 0;\n",
       "  max-width: 0;\n",
       "  overflow: hidden;\n",
       "  text-align: left;\n",
       "  /* unfitted */\n",
       "  background-color: var(--sklearn-color-unfitted-level-0);\n",
       "}\n",
       "\n",
       "#sk-container-id-6 div.sk-toggleable__content.fitted {\n",
       "  /* fitted */\n",
       "  background-color: var(--sklearn-color-fitted-level-0);\n",
       "}\n",
       "\n",
       "#sk-container-id-6 div.sk-toggleable__content pre {\n",
       "  margin: 0.2em;\n",
       "  border-radius: 0.25em;\n",
       "  color: var(--sklearn-color-text);\n",
       "  /* unfitted */\n",
       "  background-color: var(--sklearn-color-unfitted-level-0);\n",
       "}\n",
       "\n",
       "#sk-container-id-6 div.sk-toggleable__content.fitted pre {\n",
       "  /* unfitted */\n",
       "  background-color: var(--sklearn-color-fitted-level-0);\n",
       "}\n",
       "\n",
       "#sk-container-id-6 input.sk-toggleable__control:checked~div.sk-toggleable__content {\n",
       "  /* Expand drop-down */\n",
       "  max-height: 200px;\n",
       "  max-width: 100%;\n",
       "  overflow: auto;\n",
       "}\n",
       "\n",
       "#sk-container-id-6 input.sk-toggleable__control:checked~label.sk-toggleable__label-arrow:before {\n",
       "  content: \"▾\";\n",
       "}\n",
       "\n",
       "/* Pipeline/ColumnTransformer-specific style */\n",
       "\n",
       "#sk-container-id-6 div.sk-label input.sk-toggleable__control:checked~label.sk-toggleable__label {\n",
       "  color: var(--sklearn-color-text);\n",
       "  background-color: var(--sklearn-color-unfitted-level-2);\n",
       "}\n",
       "\n",
       "#sk-container-id-6 div.sk-label.fitted input.sk-toggleable__control:checked~label.sk-toggleable__label {\n",
       "  background-color: var(--sklearn-color-fitted-level-2);\n",
       "}\n",
       "\n",
       "/* Estimator-specific style */\n",
       "\n",
       "/* Colorize estimator box */\n",
       "#sk-container-id-6 div.sk-estimator input.sk-toggleable__control:checked~label.sk-toggleable__label {\n",
       "  /* unfitted */\n",
       "  background-color: var(--sklearn-color-unfitted-level-2);\n",
       "}\n",
       "\n",
       "#sk-container-id-6 div.sk-estimator.fitted input.sk-toggleable__control:checked~label.sk-toggleable__label {\n",
       "  /* fitted */\n",
       "  background-color: var(--sklearn-color-fitted-level-2);\n",
       "}\n",
       "\n",
       "#sk-container-id-6 div.sk-label label.sk-toggleable__label,\n",
       "#sk-container-id-6 div.sk-label label {\n",
       "  /* The background is the default theme color */\n",
       "  color: var(--sklearn-color-text-on-default-background);\n",
       "}\n",
       "\n",
       "/* On hover, darken the color of the background */\n",
       "#sk-container-id-6 div.sk-label:hover label.sk-toggleable__label {\n",
       "  color: var(--sklearn-color-text);\n",
       "  background-color: var(--sklearn-color-unfitted-level-2);\n",
       "}\n",
       "\n",
       "/* Label box, darken color on hover, fitted */\n",
       "#sk-container-id-6 div.sk-label.fitted:hover label.sk-toggleable__label.fitted {\n",
       "  color: var(--sklearn-color-text);\n",
       "  background-color: var(--sklearn-color-fitted-level-2);\n",
       "}\n",
       "\n",
       "/* Estimator label */\n",
       "\n",
       "#sk-container-id-6 div.sk-label label {\n",
       "  font-family: monospace;\n",
       "  font-weight: bold;\n",
       "  display: inline-block;\n",
       "  line-height: 1.2em;\n",
       "}\n",
       "\n",
       "#sk-container-id-6 div.sk-label-container {\n",
       "  text-align: center;\n",
       "}\n",
       "\n",
       "/* Estimator-specific */\n",
       "#sk-container-id-6 div.sk-estimator {\n",
       "  font-family: monospace;\n",
       "  border: 1px dotted var(--sklearn-color-border-box);\n",
       "  border-radius: 0.25em;\n",
       "  box-sizing: border-box;\n",
       "  margin-bottom: 0.5em;\n",
       "  /* unfitted */\n",
       "  background-color: var(--sklearn-color-unfitted-level-0);\n",
       "}\n",
       "\n",
       "#sk-container-id-6 div.sk-estimator.fitted {\n",
       "  /* fitted */\n",
       "  background-color: var(--sklearn-color-fitted-level-0);\n",
       "}\n",
       "\n",
       "/* on hover */\n",
       "#sk-container-id-6 div.sk-estimator:hover {\n",
       "  /* unfitted */\n",
       "  background-color: var(--sklearn-color-unfitted-level-2);\n",
       "}\n",
       "\n",
       "#sk-container-id-6 div.sk-estimator.fitted:hover {\n",
       "  /* fitted */\n",
       "  background-color: var(--sklearn-color-fitted-level-2);\n",
       "}\n",
       "\n",
       "/* Specification for estimator info (e.g. \"i\" and \"?\") */\n",
       "\n",
       "/* Common style for \"i\" and \"?\" */\n",
       "\n",
       ".sk-estimator-doc-link,\n",
       "a:link.sk-estimator-doc-link,\n",
       "a:visited.sk-estimator-doc-link {\n",
       "  float: right;\n",
       "  font-size: smaller;\n",
       "  line-height: 1em;\n",
       "  font-family: monospace;\n",
       "  background-color: var(--sklearn-color-background);\n",
       "  border-radius: 1em;\n",
       "  height: 1em;\n",
       "  width: 1em;\n",
       "  text-decoration: none !important;\n",
       "  margin-left: 1ex;\n",
       "  /* unfitted */\n",
       "  border: var(--sklearn-color-unfitted-level-1) 1pt solid;\n",
       "  color: var(--sklearn-color-unfitted-level-1);\n",
       "}\n",
       "\n",
       ".sk-estimator-doc-link.fitted,\n",
       "a:link.sk-estimator-doc-link.fitted,\n",
       "a:visited.sk-estimator-doc-link.fitted {\n",
       "  /* fitted */\n",
       "  border: var(--sklearn-color-fitted-level-1) 1pt solid;\n",
       "  color: var(--sklearn-color-fitted-level-1);\n",
       "}\n",
       "\n",
       "/* On hover */\n",
       "div.sk-estimator:hover .sk-estimator-doc-link:hover,\n",
       ".sk-estimator-doc-link:hover,\n",
       "div.sk-label-container:hover .sk-estimator-doc-link:hover,\n",
       ".sk-estimator-doc-link:hover {\n",
       "  /* unfitted */\n",
       "  background-color: var(--sklearn-color-unfitted-level-3);\n",
       "  color: var(--sklearn-color-background);\n",
       "  text-decoration: none;\n",
       "}\n",
       "\n",
       "div.sk-estimator.fitted:hover .sk-estimator-doc-link.fitted:hover,\n",
       ".sk-estimator-doc-link.fitted:hover,\n",
       "div.sk-label-container:hover .sk-estimator-doc-link.fitted:hover,\n",
       ".sk-estimator-doc-link.fitted:hover {\n",
       "  /* fitted */\n",
       "  background-color: var(--sklearn-color-fitted-level-3);\n",
       "  color: var(--sklearn-color-background);\n",
       "  text-decoration: none;\n",
       "}\n",
       "\n",
       "/* Span, style for the box shown on hovering the info icon */\n",
       ".sk-estimator-doc-link span {\n",
       "  display: none;\n",
       "  z-index: 9999;\n",
       "  position: relative;\n",
       "  font-weight: normal;\n",
       "  right: .2ex;\n",
       "  padding: .5ex;\n",
       "  margin: .5ex;\n",
       "  width: min-content;\n",
       "  min-width: 20ex;\n",
       "  max-width: 50ex;\n",
       "  color: var(--sklearn-color-text);\n",
       "  box-shadow: 2pt 2pt 4pt #999;\n",
       "  /* unfitted */\n",
       "  background: var(--sklearn-color-unfitted-level-0);\n",
       "  border: .5pt solid var(--sklearn-color-unfitted-level-3);\n",
       "}\n",
       "\n",
       ".sk-estimator-doc-link.fitted span {\n",
       "  /* fitted */\n",
       "  background: var(--sklearn-color-fitted-level-0);\n",
       "  border: var(--sklearn-color-fitted-level-3);\n",
       "}\n",
       "\n",
       ".sk-estimator-doc-link:hover span {\n",
       "  display: block;\n",
       "}\n",
       "\n",
       "/* \"?\"-specific style due to the `<a>` HTML tag */\n",
       "\n",
       "#sk-container-id-6 a.estimator_doc_link {\n",
       "  float: right;\n",
       "  font-size: 1rem;\n",
       "  line-height: 1em;\n",
       "  font-family: monospace;\n",
       "  background-color: var(--sklearn-color-background);\n",
       "  border-radius: 1rem;\n",
       "  height: 1rem;\n",
       "  width: 1rem;\n",
       "  text-decoration: none;\n",
       "  /* unfitted */\n",
       "  color: var(--sklearn-color-unfitted-level-1);\n",
       "  border: var(--sklearn-color-unfitted-level-1) 1pt solid;\n",
       "}\n",
       "\n",
       "#sk-container-id-6 a.estimator_doc_link.fitted {\n",
       "  /* fitted */\n",
       "  border: var(--sklearn-color-fitted-level-1) 1pt solid;\n",
       "  color: var(--sklearn-color-fitted-level-1);\n",
       "}\n",
       "\n",
       "/* On hover */\n",
       "#sk-container-id-6 a.estimator_doc_link:hover {\n",
       "  /* unfitted */\n",
       "  background-color: var(--sklearn-color-unfitted-level-3);\n",
       "  color: var(--sklearn-color-background);\n",
       "  text-decoration: none;\n",
       "}\n",
       "\n",
       "#sk-container-id-6 a.estimator_doc_link.fitted:hover {\n",
       "  /* fitted */\n",
       "  background-color: var(--sklearn-color-fitted-level-3);\n",
       "}\n",
       "</style><div id=\"sk-container-id-6\" class=\"sk-top-container\"><div class=\"sk-text-repr-fallback\"><pre>LogisticRegression(class_weight=&#x27;balanced&#x27;, max_iter=1000, random_state=42)</pre><b>In a Jupyter environment, please rerun this cell to show the HTML representation or trust the notebook. <br />On GitHub, the HTML representation is unable to render, please try loading this page with nbviewer.org.</b></div><div class=\"sk-container\" hidden><div class=\"sk-item\"><div class=\"sk-estimator fitted sk-toggleable\"><input class=\"sk-toggleable__control sk-hidden--visually\" id=\"sk-estimator-id-6\" type=\"checkbox\" checked><label for=\"sk-estimator-id-6\" class=\"sk-toggleable__label fitted sk-toggleable__label-arrow fitted\">&nbsp;&nbsp;LogisticRegression<a class=\"sk-estimator-doc-link fitted\" rel=\"noreferrer\" target=\"_blank\" href=\"https://scikit-learn.org/1.5/modules/generated/sklearn.linear_model.LogisticRegression.html\">?<span>Documentation for LogisticRegression</span></a><span class=\"sk-estimator-doc-link fitted\">i<span>Fitted</span></span></label><div class=\"sk-toggleable__content fitted\"><pre>LogisticRegression(class_weight=&#x27;balanced&#x27;, max_iter=1000, random_state=42)</pre></div> </div></div></div></div>"
      ],
      "text/plain": [
       "LogisticRegression(class_weight='balanced', max_iter=1000, random_state=42)"
      ]
     },
     "execution_count": 310,
     "metadata": {},
     "output_type": "execute_result"
    }
   ],
   "source": [
    "log_reg_resampled = LogisticRegression(max_iter=1000, random_state=42, class_weight='balanced')\n",
    "log_reg_resampled.fit(X_train_resampled, y_train_resampled)"
   ]
  },
  {
   "cell_type": "code",
   "execution_count": 311,
   "id": "096a0461-64a8-4a4d-8869-3e650cdd27ae",
   "metadata": {
    "tags": []
   },
   "outputs": [],
   "source": [
    "y_pred_resampled = log_reg_resampled.predict(X_val)\n",
    "y_pred_proba_resampled = log_reg_resampled.predict_proba(X_val)[:, 1]"
   ]
  },
  {
   "cell_type": "code",
   "execution_count": 312,
   "id": "0154bfb3-1ba0-4c3d-aaa3-75f091506892",
   "metadata": {
    "tags": []
   },
   "outputs": [
    {
     "name": "stdout",
     "output_type": "stream",
     "text": [
      "Confusion Matrix:\n",
      "[[4512  446]\n",
      " [  70  566]]\n"
     ]
    }
   ],
   "source": [
    "# Evaluate the model\n",
    "print(\"Confusion Matrix:\")\n",
    "print(confusion_matrix(y_val, y_pred_resampled))"
   ]
  },
  {
   "cell_type": "code",
   "execution_count": 313,
   "id": "e973127e-e5a6-4cd0-9f95-e5591c72979a",
   "metadata": {
    "tags": []
   },
   "outputs": [
    {
     "name": "stdout",
     "output_type": "stream",
     "text": [
      "Classification Report:\n",
      "              precision    recall  f1-score   support\n",
      "\n",
      "           0       0.98      0.91      0.95      4958\n",
      "           1       0.56      0.89      0.69       636\n",
      "\n",
      "    accuracy                           0.91      5594\n",
      "   macro avg       0.77      0.90      0.82      5594\n",
      "weighted avg       0.94      0.91      0.92      5594\n",
      "\n"
     ]
    }
   ],
   "source": [
    "print(\"Classification Report:\")\n",
    "print(classification_report(y_val, y_pred_resampled))"
   ]
  },
  {
   "cell_type": "code",
   "execution_count": 314,
   "id": "09d08549-7bd4-42ec-9d62-aa5199a13316",
   "metadata": {
    "tags": []
   },
   "outputs": [
    {
     "name": "stdout",
     "output_type": "stream",
     "text": [
      "AUC Score: 0.9643109034125649\n"
     ]
    }
   ],
   "source": [
    "print(f\"AUC Score: {roc_auc_score(y_val, y_pred_proba_resampled)}\")"
   ]
  },
  {
   "cell_type": "code",
   "execution_count": 315,
   "id": "b2e11210-3144-41af-b0d7-11ec8f10a1c2",
   "metadata": {
    "tags": []
   },
   "outputs": [
    {
     "name": "stderr",
     "output_type": "stream",
     "text": [
      "/home/starlord/.local/lib/python3.10/site-packages/sklearn/linear_model/_logistic.py:469: ConvergenceWarning: lbfgs failed to converge (status=1):\n",
      "STOP: TOTAL NO. of ITERATIONS REACHED LIMIT.\n",
      "\n",
      "Increase the number of iterations (max_iter) or scale the data as shown in:\n",
      "    https://scikit-learn.org/stable/modules/preprocessing.html\n",
      "Please also refer to the documentation for alternative solver options:\n",
      "    https://scikit-learn.org/stable/modules/linear_model.html#logistic-regression\n",
      "  n_iter_i = _check_optimize_result(\n",
      "/home/starlord/.local/lib/python3.10/site-packages/sklearn/linear_model/_logistic.py:469: ConvergenceWarning: lbfgs failed to converge (status=1):\n",
      "STOP: TOTAL NO. of ITERATIONS REACHED LIMIT.\n",
      "\n",
      "Increase the number of iterations (max_iter) or scale the data as shown in:\n",
      "    https://scikit-learn.org/stable/modules/preprocessing.html\n",
      "Please also refer to the documentation for alternative solver options:\n",
      "    https://scikit-learn.org/stable/modules/linear_model.html#logistic-regression\n",
      "  n_iter_i = _check_optimize_result(\n",
      "/home/starlord/.local/lib/python3.10/site-packages/sklearn/linear_model/_logistic.py:469: ConvergenceWarning: lbfgs failed to converge (status=1):\n",
      "STOP: TOTAL NO. of ITERATIONS REACHED LIMIT.\n",
      "\n",
      "Increase the number of iterations (max_iter) or scale the data as shown in:\n",
      "    https://scikit-learn.org/stable/modules/preprocessing.html\n",
      "Please also refer to the documentation for alternative solver options:\n",
      "    https://scikit-learn.org/stable/modules/linear_model.html#logistic-regression\n",
      "  n_iter_i = _check_optimize_result(\n",
      "/home/starlord/.local/lib/python3.10/site-packages/sklearn/linear_model/_logistic.py:469: ConvergenceWarning: lbfgs failed to converge (status=1):\n",
      "STOP: TOTAL NO. of ITERATIONS REACHED LIMIT.\n",
      "\n",
      "Increase the number of iterations (max_iter) or scale the data as shown in:\n",
      "    https://scikit-learn.org/stable/modules/preprocessing.html\n",
      "Please also refer to the documentation for alternative solver options:\n",
      "    https://scikit-learn.org/stable/modules/linear_model.html#logistic-regression\n",
      "  n_iter_i = _check_optimize_result(\n",
      "/home/starlord/.local/lib/python3.10/site-packages/sklearn/linear_model/_logistic.py:469: ConvergenceWarning: lbfgs failed to converge (status=1):\n",
      "STOP: TOTAL NO. of ITERATIONS REACHED LIMIT.\n",
      "\n",
      "Increase the number of iterations (max_iter) or scale the data as shown in:\n",
      "    https://scikit-learn.org/stable/modules/preprocessing.html\n",
      "Please also refer to the documentation for alternative solver options:\n",
      "    https://scikit-learn.org/stable/modules/linear_model.html#logistic-regression\n",
      "  n_iter_i = _check_optimize_result(\n",
      "/home/starlord/.local/lib/python3.10/site-packages/sklearn/linear_model/_logistic.py:469: ConvergenceWarning: lbfgs failed to converge (status=1):\n",
      "STOP: TOTAL NO. of ITERATIONS REACHED LIMIT.\n",
      "\n",
      "Increase the number of iterations (max_iter) or scale the data as shown in:\n",
      "    https://scikit-learn.org/stable/modules/preprocessing.html\n",
      "Please also refer to the documentation for alternative solver options:\n",
      "    https://scikit-learn.org/stable/modules/linear_model.html#logistic-regression\n",
      "  n_iter_i = _check_optimize_result(\n",
      "/home/starlord/.local/lib/python3.10/site-packages/sklearn/linear_model/_logistic.py:469: ConvergenceWarning: lbfgs failed to converge (status=1):\n",
      "STOP: TOTAL NO. of ITERATIONS REACHED LIMIT.\n",
      "\n",
      "Increase the number of iterations (max_iter) or scale the data as shown in:\n",
      "    https://scikit-learn.org/stable/modules/preprocessing.html\n",
      "Please also refer to the documentation for alternative solver options:\n",
      "    https://scikit-learn.org/stable/modules/linear_model.html#logistic-regression\n",
      "  n_iter_i = _check_optimize_result(\n",
      "/home/starlord/.local/lib/python3.10/site-packages/sklearn/linear_model/_logistic.py:469: ConvergenceWarning: lbfgs failed to converge (status=1):\n",
      "STOP: TOTAL NO. of ITERATIONS REACHED LIMIT.\n",
      "\n",
      "Increase the number of iterations (max_iter) or scale the data as shown in:\n",
      "    https://scikit-learn.org/stable/modules/preprocessing.html\n",
      "Please also refer to the documentation for alternative solver options:\n",
      "    https://scikit-learn.org/stable/modules/linear_model.html#logistic-regression\n",
      "  n_iter_i = _check_optimize_result(\n",
      "/home/starlord/.local/lib/python3.10/site-packages/sklearn/linear_model/_logistic.py:469: ConvergenceWarning: lbfgs failed to converge (status=1):\n",
      "STOP: TOTAL NO. of ITERATIONS REACHED LIMIT.\n",
      "\n",
      "Increase the number of iterations (max_iter) or scale the data as shown in:\n",
      "    https://scikit-learn.org/stable/modules/preprocessing.html\n",
      "Please also refer to the documentation for alternative solver options:\n",
      "    https://scikit-learn.org/stable/modules/linear_model.html#logistic-regression\n",
      "  n_iter_i = _check_optimize_result(\n",
      "/home/starlord/.local/lib/python3.10/site-packages/sklearn/linear_model/_logistic.py:469: ConvergenceWarning: lbfgs failed to converge (status=1):\n",
      "STOP: TOTAL NO. of ITERATIONS REACHED LIMIT.\n",
      "\n",
      "Increase the number of iterations (max_iter) or scale the data as shown in:\n",
      "    https://scikit-learn.org/stable/modules/preprocessing.html\n",
      "Please also refer to the documentation for alternative solver options:\n",
      "    https://scikit-learn.org/stable/modules/linear_model.html#logistic-regression\n",
      "  n_iter_i = _check_optimize_result(\n",
      "/home/starlord/.local/lib/python3.10/site-packages/sklearn/linear_model/_logistic.py:469: ConvergenceWarning: lbfgs failed to converge (status=1):\n",
      "STOP: TOTAL NO. of ITERATIONS REACHED LIMIT.\n",
      "\n",
      "Increase the number of iterations (max_iter) or scale the data as shown in:\n",
      "    https://scikit-learn.org/stable/modules/preprocessing.html\n",
      "Please also refer to the documentation for alternative solver options:\n",
      "    https://scikit-learn.org/stable/modules/linear_model.html#logistic-regression\n",
      "  n_iter_i = _check_optimize_result(\n",
      "/home/starlord/.local/lib/python3.10/site-packages/sklearn/linear_model/_logistic.py:469: ConvergenceWarning: lbfgs failed to converge (status=1):\n",
      "STOP: TOTAL NO. of ITERATIONS REACHED LIMIT.\n",
      "\n",
      "Increase the number of iterations (max_iter) or scale the data as shown in:\n",
      "    https://scikit-learn.org/stable/modules/preprocessing.html\n",
      "Please also refer to the documentation for alternative solver options:\n",
      "    https://scikit-learn.org/stable/modules/linear_model.html#logistic-regression\n",
      "  n_iter_i = _check_optimize_result(\n",
      "/home/starlord/.local/lib/python3.10/site-packages/sklearn/linear_model/_logistic.py:469: ConvergenceWarning: lbfgs failed to converge (status=1):\n",
      "STOP: TOTAL NO. of ITERATIONS REACHED LIMIT.\n",
      "\n",
      "Increase the number of iterations (max_iter) or scale the data as shown in:\n",
      "    https://scikit-learn.org/stable/modules/preprocessing.html\n",
      "Please also refer to the documentation for alternative solver options:\n",
      "    https://scikit-learn.org/stable/modules/linear_model.html#logistic-regression\n",
      "  n_iter_i = _check_optimize_result(\n",
      "/home/starlord/.local/lib/python3.10/site-packages/sklearn/linear_model/_logistic.py:469: ConvergenceWarning: lbfgs failed to converge (status=1):\n",
      "STOP: TOTAL NO. of ITERATIONS REACHED LIMIT.\n",
      "\n",
      "Increase the number of iterations (max_iter) or scale the data as shown in:\n",
      "    https://scikit-learn.org/stable/modules/preprocessing.html\n",
      "Please also refer to the documentation for alternative solver options:\n",
      "    https://scikit-learn.org/stable/modules/linear_model.html#logistic-regression\n",
      "  n_iter_i = _check_optimize_result(\n",
      "/home/starlord/.local/lib/python3.10/site-packages/sklearn/linear_model/_logistic.py:469: ConvergenceWarning: lbfgs failed to converge (status=1):\n",
      "STOP: TOTAL NO. of ITERATIONS REACHED LIMIT.\n",
      "\n",
      "Increase the number of iterations (max_iter) or scale the data as shown in:\n",
      "    https://scikit-learn.org/stable/modules/preprocessing.html\n",
      "Please also refer to the documentation for alternative solver options:\n",
      "    https://scikit-learn.org/stable/modules/linear_model.html#logistic-regression\n",
      "  n_iter_i = _check_optimize_result(\n",
      "/home/starlord/.local/lib/python3.10/site-packages/sklearn/linear_model/_logistic.py:469: ConvergenceWarning: lbfgs failed to converge (status=1):\n",
      "STOP: TOTAL NO. of ITERATIONS REACHED LIMIT.\n",
      "\n",
      "Increase the number of iterations (max_iter) or scale the data as shown in:\n",
      "    https://scikit-learn.org/stable/modules/preprocessing.html\n",
      "Please also refer to the documentation for alternative solver options:\n",
      "    https://scikit-learn.org/stable/modules/linear_model.html#logistic-regression\n",
      "  n_iter_i = _check_optimize_result(\n"
     ]
    },
    {
     "name": "stdout",
     "output_type": "stream",
     "text": [
      "Best Parameters from Grid Search with SMOTE: {'C': 10, 'solver': 'liblinear'}\n",
      "Best AUC Score from Grid Search with SMOTE: 0.9847789390764434\n"
     ]
    }
   ],
   "source": [
    "param_grid = {\n",
    "    'C': [0.01, 0.1, 1, 10],\n",
    "    'solver': ['liblinear', 'lbfgs']\n",
    "}\n",
    "\n",
    "# Grid Search on resampled data (after applying SMOTE)\n",
    "grid_search_smote = GridSearchCV(LogisticRegression(max_iter=1000, random_state=42, class_weight='balanced'),\n",
    "                                 param_grid, scoring='roc_auc', cv=5)\n",
    "\n",
    "grid_search_smote.fit(X_train_resampled, y_train_resampled)\n",
    "\n",
    "# Best Parameters from Grid Search with SMOTE\n",
    "print(f\"Best Parameters from Grid Search with SMOTE: {grid_search_smote.best_params_}\")\n",
    "print(f\"Best AUC Score from Grid Search with SMOTE: {grid_search_smote.best_score_}\")"
   ]
  },
  {
   "cell_type": "code",
   "execution_count": 316,
   "id": "9c23e796-859b-471d-a694-1f38e3910553",
   "metadata": {
    "tags": []
   },
   "outputs": [
    {
     "name": "stdout",
     "output_type": "stream",
     "text": [
      "Confusion Matrix on Validation Set:\n",
      "[[4605  353]\n",
      " [  90  546]]\n",
      "Classification Report on Validation Set:\n",
      "              precision    recall  f1-score   support\n",
      "\n",
      "           0       0.98      0.93      0.95      4958\n",
      "           1       0.61      0.86      0.71       636\n",
      "\n",
      "    accuracy                           0.92      5594\n",
      "   macro avg       0.79      0.89      0.83      5594\n",
      "weighted avg       0.94      0.92      0.93      5594\n",
      "\n",
      "AUC Score on Validation Set: 0.9635101519429878\n"
     ]
    }
   ],
   "source": [
    "best_model_smote = grid_search_smote.best_estimator_\n",
    "\n",
    "y_val_pred = best_model_smote.predict(X_val)\n",
    "y_val_pred_proba = best_model_smote.predict_proba(X_val)[:, 1]\n",
    "\n",
    "print(\"Confusion Matrix on Validation Set:\")\n",
    "print(confusion_matrix(y_val, y_val_pred))\n",
    "\n",
    "print(\"Classification Report on Validation Set:\")\n",
    "print(classification_report(y_val, y_val_pred))\n",
    "\n",
    "print(f\"AUC Score on Validation Set: {roc_auc_score(y_val, y_val_pred_proba)}\")"
   ]
  },
  {
   "cell_type": "code",
   "execution_count": 317,
   "id": "c76189c0-a2c4-4081-a39e-f122e2d2d036",
   "metadata": {
    "tags": []
   },
   "outputs": [
    {
     "data": {
      "image/png": "[encoded data removed]",
      "text/plain": [
       "<Figure size 800x600 with 1 Axes>"
      ]
     },
     "metadata": {},
     "output_type": "display_data"
    }
   ],
   "source": [
    "# ROC Curve\n",
    "fpr, tpr, thresholds = roc_curve(y_val, y_val_pred_proba)\n",
    "\n",
    "plt.figure(figsize=(8, 6))\n",
    "plt.plot(fpr, tpr, label=\"ROC Curve (AUC = {:.2f})\".format(roc_auc_score(y_val, y_val_pred_proba)))\n",
    "plt.plot([0, 1], [0, 1], linestyle='--', label=\"Random Classifier\")\n",
    "plt.xlabel(\"False Positive Rate\")\n",
    "plt.ylabel(\"True Positive Rate\")\n",
    "plt.title(\"ROC Curve\")\n",
    "plt.legend()\n",
    "plt.show()"
   ]
  },
  {
   "cell_type": "code",
   "execution_count": null,
   "id": "3a0dccdb-0b3b-4fc2-9ddc-1aa8d8e63954",
   "metadata": {},
   "outputs": [],
   "source": []
  },
  {
   "cell_type": "markdown",
   "id": "d6b0ff78-88f0-4452-ae55-7b6cae2d5cc0",
   "metadata": {},
   "source": [
    "# XGBoost using GPU"
   ]
  },
  {
   "cell_type": "code",
   "execution_count": 318,
   "id": "1fb993ee-4b08-420d-8414-901fd1bac34c",
   "metadata": {
    "tags": []
   },
   "outputs": [
    {
     "name": "stderr",
     "output_type": "stream",
     "text": [
      "/home/starlord/.local/lib/python3.10/site-packages/xgboost/core.py:158: UserWarning: [19:09:27] WARNING: /workspace/src/learner.cc:740: \n",
      "Parameters: { \"n_estimators\" } are not used.\n",
      "\n",
      "  warnings.warn(smsg, UserWarning)\n"
     ]
    },
    {
     "name": "stdout",
     "output_type": "stream",
     "text": [
      "[0]\teval-auc:0.93960\n",
      "[1]\teval-auc:0.94440\n",
      "[2]\teval-auc:0.94482\n",
      "[3]\teval-auc:0.95166\n",
      "[4]\teval-auc:0.95370\n",
      "[5]\teval-auc:0.95435\n",
      "[6]\teval-auc:0.95650\n",
      "[7]\teval-auc:0.95677\n",
      "[8]\teval-auc:0.95731\n",
      "[9]\teval-auc:0.95792\n",
      "[10]\teval-auc:0.95834\n",
      "[11]\teval-auc:0.95895\n",
      "[12]\teval-auc:0.95940\n",
      "[13]\teval-auc:0.95962\n",
      "[14]\teval-auc:0.95959\n",
      "[15]\teval-auc:0.95943\n",
      "[16]\teval-auc:0.95969\n",
      "[17]\teval-auc:0.96005\n",
      "[18]\teval-auc:0.96038\n",
      "[19]\teval-auc:0.96076\n",
      "[20]\teval-auc:0.96123\n",
      "[21]\teval-auc:0.96131\n",
      "[22]\teval-auc:0.96140\n",
      "[23]\teval-auc:0.96167\n",
      "[24]\teval-auc:0.96192\n",
      "[25]\teval-auc:0.96214\n",
      "[26]\teval-auc:0.96255\n",
      "[27]\teval-auc:0.96283\n",
      "[28]\teval-auc:0.96307\n",
      "[29]\teval-auc:0.96331\n",
      "[30]\teval-auc:0.96345\n",
      "[31]\teval-auc:0.96357\n",
      "[32]\teval-auc:0.96376\n",
      "[33]\teval-auc:0.96384\n",
      "[34]\teval-auc:0.96416\n",
      "[35]\teval-auc:0.96432\n",
      "[36]\teval-auc:0.96436\n",
      "[37]\teval-auc:0.96449\n",
      "[38]\teval-auc:0.96456\n",
      "[39]\teval-auc:0.96466\n",
      "[40]\teval-auc:0.96471\n",
      "[41]\teval-auc:0.96478\n",
      "[42]\teval-auc:0.96489\n",
      "[43]\teval-auc:0.96498\n",
      "[44]\teval-auc:0.96503\n",
      "[45]\teval-auc:0.96509\n",
      "[46]\teval-auc:0.96523\n",
      "[47]\teval-auc:0.96529\n",
      "[48]\teval-auc:0.96542\n",
      "[49]\teval-auc:0.96552\n",
      "[50]\teval-auc:0.96568\n",
      "[51]\teval-auc:0.96574\n",
      "[52]\teval-auc:0.96574\n",
      "[53]\teval-auc:0.96580\n",
      "[54]\teval-auc:0.96584\n",
      "[55]\teval-auc:0.96590\n",
      "[56]\teval-auc:0.96593\n",
      "[57]\teval-auc:0.96604\n",
      "[58]\teval-auc:0.96610\n",
      "[59]\teval-auc:0.96613\n",
      "[60]\teval-auc:0.96620\n",
      "[61]\teval-auc:0.96628\n",
      "[62]\teval-auc:0.96631\n",
      "[63]\teval-auc:0.96633\n",
      "[64]\teval-auc:0.96647\n",
      "[65]\teval-auc:0.96653\n",
      "[66]\teval-auc:0.96659\n",
      "[67]\teval-auc:0.96661\n",
      "[68]\teval-auc:0.96666\n",
      "[69]\teval-auc:0.96672\n",
      "[70]\teval-auc:0.96672\n",
      "[71]\teval-auc:0.96679\n",
      "[72]\teval-auc:0.96691\n",
      "[73]\teval-auc:0.96695\n",
      "[74]\teval-auc:0.96702\n",
      "[75]\teval-auc:0.96705\n",
      "[76]\teval-auc:0.96704\n",
      "[77]\teval-auc:0.96714\n",
      "[78]\teval-auc:0.96713\n",
      "[79]\teval-auc:0.96714\n",
      "[80]\teval-auc:0.96717\n",
      "[81]\teval-auc:0.96723\n",
      "[82]\teval-auc:0.96729\n",
      "[83]\teval-auc:0.96730\n",
      "[84]\teval-auc:0.96732\n",
      "[85]\teval-auc:0.96730\n",
      "[86]\teval-auc:0.96730\n",
      "[87]\teval-auc:0.96731\n",
      "[88]\teval-auc:0.96738\n",
      "[89]\teval-auc:0.96739\n",
      "[90]\teval-auc:0.96745\n",
      "[91]\teval-auc:0.96750\n",
      "[92]\teval-auc:0.96753\n",
      "[93]\teval-auc:0.96757\n",
      "[94]\teval-auc:0.96761\n",
      "[95]\teval-auc:0.96765\n",
      "[96]\teval-auc:0.96765\n",
      "[97]\teval-auc:0.96765\n",
      "[98]\teval-auc:0.96770\n",
      "[99]\teval-auc:0.96773\n",
      "AUC Score for XGBoost (GPU): 0.9677332041982845\n"
     ]
    }
   ],
   "source": [
    "import xgboost as xgb\n",
    "from sklearn.metrics import roc_auc_score\n",
    "from sklearn.model_selection import train_test_split\n",
    "\n",
    "dtrain = xgb.DMatrix(X_train, label=y_train)\n",
    "dval = xgb.DMatrix(X_val, label=y_val)\n",
    "\n",
    "params = {\n",
    "    'objective': 'binary:logistic',\n",
    "    'eval_metric': 'auc',\n",
    "    'tree_method': 'hist',\n",
    "    'gpu_id': 0,\n",
    "    'max_depth': 6,\n",
    "    'learning_rate': 0.1,\n",
    "    'n_estimators': 100\n",
    "}\n",
    "\n",
    "xgb_model = xgb.train(params, dtrain, num_boost_round=100, evals=[(dval, 'eval')], early_stopping_rounds=10)\n",
    "\n",
    "y_val_pred_proba = xgb_model.predict(dval)\n",
    "\n",
    "auc = roc_auc_score(y_val, y_val_pred_proba)\n",
    "print(f\"AUC Score for XGBoost (GPU): {auc}\")"
   ]
  },
  {
   "cell_type": "code",
   "execution_count": 319,
   "id": "108b0d75-24dd-4370-8633-bcfc84aecb6a",
   "metadata": {
    "tags": []
   },
   "outputs": [
    {
     "name": "stderr",
     "output_type": "stream",
     "text": [
      "/home/starlord/.local/lib/python3.10/site-packages/xgboost/core.py:158: UserWarning: [19:09:29] WARNING: /workspace/src/learner.cc:740: \n",
      "Parameters: { \"n_estimators\" } are not used.\n",
      "\n",
      "  warnings.warn(smsg, UserWarning)\n"
     ]
    },
    {
     "name": "stdout",
     "output_type": "stream",
     "text": [
      "[0]\teval-auc:0.92563\n",
      "[1]\teval-auc:0.93171\n",
      "[2]\teval-auc:0.93456\n",
      "[3]\teval-auc:0.93998\n",
      "[4]\teval-auc:0.94102\n",
      "[5]\teval-auc:0.94078\n",
      "[6]\teval-auc:0.94181\n",
      "[7]\teval-auc:0.94295\n",
      "[8]\teval-auc:0.94525\n",
      "[9]\teval-auc:0.94645\n",
      "[10]\teval-auc:0.94698\n",
      "[11]\teval-auc:0.95447\n",
      "[12]\teval-auc:0.95443\n",
      "[13]\teval-auc:0.95543\n",
      "[14]\teval-auc:0.95583\n",
      "[15]\teval-auc:0.95673\n",
      "[16]\teval-auc:0.95683\n",
      "[17]\teval-auc:0.95738\n",
      "[18]\teval-auc:0.95801\n",
      "[19]\teval-auc:0.95885\n",
      "[20]\teval-auc:0.95936\n",
      "[21]\teval-auc:0.96009\n",
      "[22]\teval-auc:0.96037\n",
      "[23]\teval-auc:0.96036\n",
      "[24]\teval-auc:0.96071\n",
      "[25]\teval-auc:0.96104\n",
      "[26]\teval-auc:0.96134\n",
      "[27]\teval-auc:0.96158\n",
      "[28]\teval-auc:0.96194\n",
      "[29]\teval-auc:0.96202\n",
      "[30]\teval-auc:0.96235\n",
      "[31]\teval-auc:0.96253\n",
      "[32]\teval-auc:0.96267\n",
      "[33]\teval-auc:0.96267\n",
      "[34]\teval-auc:0.96272\n",
      "[35]\teval-auc:0.96277\n",
      "[36]\teval-auc:0.96282\n",
      "[37]\teval-auc:0.96283\n",
      "[38]\teval-auc:0.96315\n",
      "[39]\teval-auc:0.96317\n",
      "[40]\teval-auc:0.96336\n",
      "[41]\teval-auc:0.96338\n",
      "[42]\teval-auc:0.96341\n",
      "[43]\teval-auc:0.96363\n",
      "[44]\teval-auc:0.96387\n",
      "[45]\teval-auc:0.96391\n",
      "[46]\teval-auc:0.96408\n",
      "[47]\teval-auc:0.96416\n",
      "[48]\teval-auc:0.96431\n",
      "[49]\teval-auc:0.96440\n",
      "[50]\teval-auc:0.96461\n",
      "[51]\teval-auc:0.96472\n",
      "[52]\teval-auc:0.96481\n",
      "[53]\teval-auc:0.96486\n",
      "[54]\teval-auc:0.96490\n",
      "[55]\teval-auc:0.96501\n",
      "[56]\teval-auc:0.96512\n",
      "[57]\teval-auc:0.96520\n",
      "[58]\teval-auc:0.96526\n",
      "[59]\teval-auc:0.96535\n",
      "[60]\teval-auc:0.96543\n",
      "[61]\teval-auc:0.96548\n",
      "[62]\teval-auc:0.96561\n",
      "[63]\teval-auc:0.96568\n",
      "[64]\teval-auc:0.96572\n",
      "[65]\teval-auc:0.96573\n",
      "[66]\teval-auc:0.96577\n",
      "[67]\teval-auc:0.96590\n",
      "[68]\teval-auc:0.96595\n",
      "[69]\teval-auc:0.96608\n",
      "[70]\teval-auc:0.96610\n",
      "[71]\teval-auc:0.96611\n",
      "[72]\teval-auc:0.96615\n",
      "[73]\teval-auc:0.96613\n",
      "[74]\teval-auc:0.96627\n",
      "[75]\teval-auc:0.96631\n",
      "[76]\teval-auc:0.96646\n",
      "[77]\teval-auc:0.96652\n",
      "[78]\teval-auc:0.96659\n",
      "[79]\teval-auc:0.96666\n",
      "[80]\teval-auc:0.96670\n",
      "[81]\teval-auc:0.96671\n",
      "[82]\teval-auc:0.96677\n",
      "[83]\teval-auc:0.96682\n",
      "[84]\teval-auc:0.96682\n",
      "[85]\teval-auc:0.96697\n",
      "[86]\teval-auc:0.96698\n",
      "[87]\teval-auc:0.96706\n",
      "[88]\teval-auc:0.96716\n",
      "[89]\teval-auc:0.96722\n",
      "[90]\teval-auc:0.96726\n",
      "[91]\teval-auc:0.96733\n",
      "[92]\teval-auc:0.96732\n",
      "[93]\teval-auc:0.96735\n",
      "[94]\teval-auc:0.96741\n",
      "[95]\teval-auc:0.96748\n",
      "[96]\teval-auc:0.96753\n",
      "[97]\teval-auc:0.96754\n",
      "[98]\teval-auc:0.96763\n",
      "[99]\teval-auc:0.96764\n",
      "AUC Score for XGBoost (GPU): 0.9676431394785379\n"
     ]
    }
   ],
   "source": [
    "dtrain_resampled = xgb.DMatrix(X_train_resampled, label=y_train_resampled)\n",
    "dval = xgb.DMatrix(X_val, label=y_val)\n",
    "\n",
    "params = {\n",
    "    'objective': 'binary:logistic',\n",
    "    'eval_metric': 'auc',\n",
    "    'tree_method': 'hist',\n",
    "    'gpu_id': 0,\n",
    "    'max_depth': 6,\n",
    "    'learning_rate': 0.1,\n",
    "    'n_estimators': 100\n",
    "}\n",
    "\n",
    "xgb_model = xgb.train(params, dtrain_resampled, num_boost_round=100, evals=[(dval, 'eval')], early_stopping_rounds=10)\n",
    "\n",
    "y_val_pred_proba = xgb_model.predict(dval)\n",
    "\n",
    "auc = roc_auc_score(y_val, y_val_pred_proba)\n",
    "print(f\"AUC Score for XGBoost (GPU): {auc}\")"
   ]
  },
  {
   "cell_type": "code",
   "execution_count": 320,
   "id": "9366c1ff-2c11-418f-b947-1abf0913e360",
   "metadata": {
    "tags": []
   },
   "outputs": [],
   "source": [
    "xgb_params = {\n",
    "    'eta': 0.3, \n",
    "    'max_depth': 6,\n",
    "    'min_child_weight': 1,\n",
    "    \n",
    "    'objective': 'binary:logistic',\n",
    "    'nthread': 8,\n",
    "    \n",
    "    'seed': 1,\n",
    "    'verbosity': 1,\n",
    "}\n",
    "\n",
    "model = xgb.train(xgb_params, dtrain, num_boost_round=10)"
   ]
  },
  {
   "cell_type": "code",
   "execution_count": 321,
   "id": "7a279075-a338-4bdc-9abf-d9bb6f873604",
   "metadata": {
    "tags": []
   },
   "outputs": [],
   "source": [
    "y_pred = model.predict(dval)"
   ]
  },
  {
   "cell_type": "code",
   "execution_count": 322,
   "id": "daa4915a-992a-4e87-98cd-393b0f90a0cf",
   "metadata": {
    "tags": []
   },
   "outputs": [
    {
     "data": {
      "text/plain": [
       "np.float64(0.963067280882685)"
      ]
     },
     "execution_count": 322,
     "metadata": {},
     "output_type": "execute_result"
    }
   ],
   "source": [
    "roc_auc_score(y_val, y_pred)"
   ]
  },
  {
   "cell_type": "code",
   "execution_count": 323,
   "id": "58e85688-9ffe-4db0-8ebb-5a16bc6a5728",
   "metadata": {
    "tags": []
   },
   "outputs": [],
   "source": [
    "watchlist = [(dtrain, 'train'), (dval, 'val')]"
   ]
  },
  {
   "cell_type": "code",
   "execution_count": 324,
   "id": "6d5d9482-559c-4678-aad2-10ac6e8bbdc0",
   "metadata": {
    "tags": []
   },
   "outputs": [],
   "source": [
    "%%capture output\n",
    "\n",
    "xgb_params = {\n",
    "    'eta': 0.3, \n",
    "    'max_depth': 6,\n",
    "    'min_child_weight': 1,\n",
    "    \n",
    "    'objective': 'binary:logistic',\n",
    "    'eval_metric': 'auc',\n",
    "    \n",
    "    'gpu_id': 0,\n",
    "    \n",
    "    'nthread': 8,\n",
    "    'seed': 1,\n",
    "    'verbosity': 1,\n",
    "}\n",
    "\n",
    "model = xgb.train(xgb_params, dtrain, num_boost_round=200,\n",
    "                  verbose_eval=5,\n",
    "                  evals=watchlist)"
   ]
  },
  {
   "cell_type": "code",
   "execution_count": 325,
   "id": "34412275-9d63-43f3-9fb4-58f5cce4c42b",
   "metadata": {
    "tags": []
   },
   "outputs": [],
   "source": [
    "s = output.stdout"
   ]
  },
  {
   "cell_type": "code",
   "execution_count": 326,
   "id": "a5cb33f8-083c-46aa-929f-1cac2d5cbdd8",
   "metadata": {
    "tags": []
   },
   "outputs": [
    {
     "name": "stdout",
     "output_type": "stream",
     "text": [
      "[0]\ttrain-auc:0.94166\tval-auc:0.93960\n",
      "[5]\ttrain-auc:0.96516\tval-auc:0.96020\n",
      "[10]\ttrain-auc:0.97034\tval-auc:0.96334\n",
      "[15]\ttrain-auc:0.97353\tval-auc:0.96493\n",
      "[20]\ttrain-auc:0.97563\tval-auc:0.96591\n",
      "[25]\ttr\n"
     ]
    }
   ],
   "source": [
    "print(s[:200])"
   ]
  },
  {
   "cell_type": "code",
   "execution_count": 327,
   "id": "a25aa4d7-2519-41cf-9443-8a7fd4b2eca0",
   "metadata": {
    "tags": []
   },
   "outputs": [],
   "source": [
    "def parse_xgb_output(output):\n",
    "    results = []\n",
    "\n",
    "    for line in output.stdout.strip().split('\\n'):\n",
    "        it_line, train_line, val_line = line.split('\\t')\n",
    "\n",
    "        it = int(it_line.strip('[]'))\n",
    "        train = float(train_line.split(':')[1])\n",
    "        val = float(val_line.split(':')[1])\n",
    "\n",
    "        results.append((it, train, val))\n",
    "    \n",
    "    columns = ['num_iter', 'train_auc', 'val_auc']\n",
    "    df_results = pd.DataFrame(results, columns=columns)\n",
    "    return df_results"
   ]
  },
  {
   "cell_type": "code",
   "execution_count": 328,
   "id": "98e2c4ee-5b71-4bcb-81a2-d9e9220b1d32",
   "metadata": {
    "tags": []
   },
   "outputs": [],
   "source": [
    "df_score = parse_xgb_output(output)"
   ]
  },
  {
   "cell_type": "code",
   "execution_count": 329,
   "id": "608f20f6-fc50-49d2-a207-0a8ba1ddeeab",
   "metadata": {
    "tags": []
   },
   "outputs": [
    {
     "data": {
      "text/plain": [
       "<matplotlib.legend.Legend at 0x7f7bdc093910>"
      ]
     },
     "execution_count": 329,
     "metadata": {},
     "output_type": "execute_result"
    },
    {
     "data": {
      "image/png": "[encoded data removed]",
      "text/plain": [
       "<Figure size 640x480 with 1 Axes>"
      ]
     },
     "metadata": {},
     "output_type": "display_data"
    }
   ],
   "source": [
    "plt.plot(df_score.num_iter, df_score.train_auc, label='train')\n",
    "plt.plot(df_score.num_iter, df_score.val_auc, label='val')\n",
    "plt.legend()"
   ]
  },
  {
   "cell_type": "markdown",
   "id": "2f93d6ba-8835-4509-9e28-b445d3c07171",
   "metadata": {},
   "source": [
    "# XGBoost parameter tuning"
   ]
  },
  {
   "cell_type": "code",
   "execution_count": 330,
   "id": "1327fff1-b527-46ca-b916-113e6d28a8cd",
   "metadata": {
    "tags": []
   },
   "outputs": [],
   "source": [
    "scores = {}"
   ]
  },
  {
   "cell_type": "code",
   "execution_count": 339,
   "id": "8f3ced6f-6746-4585-ad5a-585910476d97",
   "metadata": {
    "tags": []
   },
   "outputs": [],
   "source": [
    "%%capture output\n",
    "\n",
    "xgb_params = {\n",
    "    'eta': 1, \n",
    "    'max_depth': 6,\n",
    "    'min_child_weight': 1,\n",
    "    \n",
    "    'objective': 'binary:logistic',\n",
    "    'eval_metric': 'auc',\n",
    "    \n",
    "    'gpu_id': 0,\n",
    "    \n",
    "    'nthread': 8,\n",
    "    'seed': 1,\n",
    "    'verbosity': 1,\n",
    "}\n",
    "\n",
    "model = xgb.train(xgb_params, dtrain, num_boost_round=500,\n",
    "                  verbose_eval=5,\n",
    "                  evals=watchlist)"
   ]
  },
  {
   "cell_type": "code",
   "execution_count": 340,
   "id": "db344de1-824e-4951-9049-7ebcc67173eb",
   "metadata": {
    "tags": []
   },
   "outputs": [
    {
     "data": {
      "text/plain": [
       "'eta=1'"
      ]
     },
     "execution_count": 340,
     "metadata": {},
     "output_type": "execute_result"
    }
   ],
   "source": [
    "key = 'eta=%s' % (xgb_params['eta'])\n",
    "scores[key] = parse_xgb_output(output)\n",
    "key"
   ]
  },
  {
   "cell_type": "code",
   "execution_count": 341,
   "id": "7b2500c2-cce9-4746-b379-32358827dc41",
   "metadata": {
    "tags": []
   },
   "outputs": [
    {
     "data": {
      "text/plain": [
       "dict_keys(['eta=0.05', 'eta=0.01', 'eta=0.3', 'eta=0.1', 'eta=1'])"
      ]
     },
     "execution_count": 341,
     "metadata": {},
     "output_type": "execute_result"
    }
   ],
   "source": [
    "scores.keys()"
   ]
  },
  {
   "cell_type": "code",
   "execution_count": 342,
   "id": "dab12b2a-4203-42e5-9c54-eb09a541c8a2",
   "metadata": {
    "tags": []
   },
   "outputs": [
    {
     "data": {
      "text/plain": [
       "<matplotlib.legend.Legend at 0x7f7bdbfb68c0>"
      ]
     },
     "execution_count": 342,
     "metadata": {},
     "output_type": "execute_result"
    },
    {
     "data": {
      "image/png": "[encoded data removed]",
      "text/plain": [
       "<Figure size 640x480 with 1 Axes>"
      ]
     },
     "metadata": {},
     "output_type": "display_data"
    }
   ],
   "source": [
    "for key, df_score in scores.items():\n",
    "    plt.plot(df_score.num_iter, df_score.val_auc, label=key)\n",
    "plt.legend()"
   ]
  },
  {
   "cell_type": "code",
   "execution_count": 343,
   "id": "ab473635-d23d-446a-8cd2-fa81f6fdd77b",
   "metadata": {
    "tags": []
   },
   "outputs": [],
   "source": [
    "scores = {}"
   ]
  },
  {
   "cell_type": "code",
   "execution_count": 352,
   "id": "500c7430-c1e2-47dd-86c2-60486196ff45",
   "metadata": {
    "tags": []
   },
   "outputs": [],
   "source": [
    "%%capture output\n",
    "\n",
    "xgb_params = {\n",
    "    'eta': 0.1, \n",
    "    'max_depth': 8,\n",
    "    'min_child_weight': 1,\n",
    "    \n",
    "    'objective': 'binary:logistic',\n",
    "    'eval_metric': 'auc',\n",
    "    \n",
    "    'gpu_id': 0,\n",
    "    \n",
    "    'nthread': 8,\n",
    "    'seed': 1,\n",
    "    'verbosity': 1,\n",
    "}\n",
    "\n",
    "model = xgb.train(xgb_params, dtrain, num_boost_round=500,\n",
    "                  verbose_eval=5,\n",
    "                  evals=watchlist)"
   ]
  },
  {
   "cell_type": "code",
   "execution_count": 353,
   "id": "08bd5fe1-50aa-4439-9c93-414192b17759",
   "metadata": {
    "tags": []
   },
   "outputs": [
    {
     "data": {
      "text/plain": [
       "'max_depth=8'"
      ]
     },
     "execution_count": 353,
     "metadata": {},
     "output_type": "execute_result"
    }
   ],
   "source": [
    "key = 'max_depth=%s' % (xgb_params['max_depth'])\n",
    "scores[key] = parse_xgb_output(output)\n",
    "key"
   ]
  },
  {
   "cell_type": "code",
   "execution_count": 354,
   "id": "210647e4-0d47-4397-a7fb-074f379845d0",
   "metadata": {
    "tags": []
   },
   "outputs": [
    {
     "data": {
      "text/plain": [
       "dict_keys(['max_depth=10', 'max_depth=3', 'max_depth=4', 'max_depth=6', 'max_depth=8'])"
      ]
     },
     "execution_count": 354,
     "metadata": {},
     "output_type": "execute_result"
    }
   ],
   "source": [
    "scores.keys()"
   ]
  },
  {
   "cell_type": "code",
   "execution_count": 355,
   "id": "719a2047-dfb9-4e91-bc34-46e97d5ab36c",
   "metadata": {
    "tags": []
   },
   "outputs": [
    {
     "data": {
      "text/plain": [
       "<matplotlib.legend.Legend at 0x7f7bdd2b6710>"
      ]
     },
     "execution_count": 355,
     "metadata": {},
     "output_type": "execute_result"
    },
    {
     "data": {
      "image/png": "[encoded data removed]",
      "text/plain": [
       "<Figure size 640x480 with 1 Axes>"
      ]
     },
     "metadata": {},
     "output_type": "display_data"
    }
   ],
   "source": [
    "for key, df_score in scores.items():\n",
    "    plt.plot(df_score.num_iter, df_score.val_auc, label=key)\n",
    "plt.ylim(0.95, 0.98)\n",
    "plt.legend()"
   ]
  },
  {
   "cell_type": "code",
   "execution_count": 356,
   "id": "e3047a4a-34da-40bc-a7e6-c26c01b277da",
   "metadata": {
    "tags": []
   },
   "outputs": [],
   "source": [
    "scores = {}"
   ]
  },
  {
   "cell_type": "code",
   "execution_count": 363,
   "id": "ad4339f9-029c-4a28-b744-f4611bdc5ddf",
   "metadata": {
    "tags": []
   },
   "outputs": [],
   "source": [
    "%%capture output\n",
    "\n",
    "xgb_params = {\n",
    "    'eta': 0.1, \n",
    "    'max_depth': 4,\n",
    "    'min_child_weight': 30,\n",
    "    \n",
    "    'objective': 'binary:logistic',\n",
    "    'eval_metric': 'auc',\n",
    "    \n",
    "    'gpu_id': 0,\n",
    "    \n",
    "    'nthread': 8,\n",
    "    'seed': 1,\n",
    "    'verbosity': 1,\n",
    "}\n",
    "\n",
    "model = xgb.train(xgb_params, dtrain, num_boost_round=500,\n",
    "                  verbose_eval=5,\n",
    "                  evals=watchlist)"
   ]
  },
  {
   "cell_type": "code",
   "execution_count": 364,
   "id": "721c7b43-eb0d-4a29-9008-d15c3ead3a2e",
   "metadata": {
    "tags": []
   },
   "outputs": [
    {
     "data": {
      "text/plain": [
       "'min_child_weight=30'"
      ]
     },
     "execution_count": 364,
     "metadata": {},
     "output_type": "execute_result"
    }
   ],
   "source": [
    "key = 'min_child_weight=%s' % (xgb_params['min_child_weight'])\n",
    "scores[key] = parse_xgb_output(output)\n",
    "key"
   ]
  },
  {
   "cell_type": "code",
   "execution_count": 365,
   "id": "087d075f-0c2d-4823-8dcd-1b96d75d80db",
   "metadata": {
    "tags": []
   },
   "outputs": [
    {
     "data": {
      "text/plain": [
       "dict_keys(['min_child_weight=2', 'min_child_weight=1', 'min_child_weight=10', 'min_child_weight=30'])"
      ]
     },
     "execution_count": 365,
     "metadata": {},
     "output_type": "execute_result"
    }
   ],
   "source": [
    "scores.keys()"
   ]
  },
  {
   "cell_type": "code",
   "execution_count": 366,
   "id": "09ba737f-7e34-4a28-8f10-c3235faf04c2",
   "metadata": {
    "tags": []
   },
   "outputs": [
    {
     "data": {
      "text/plain": [
       "<matplotlib.legend.Legend at 0x7f7bdd2b6a40>"
      ]
     },
     "execution_count": 366,
     "metadata": {},
     "output_type": "execute_result"
    },
    {
     "data": {
      "image/png": "[encoded data removed]",
      "text/plain": [
       "<Figure size 640x480 with 1 Axes>"
      ]
     },
     "metadata": {},
     "output_type": "display_data"
    }
   ],
   "source": [
    "for key, df_score in scores.items():\n",
    "    plt.plot(df_score.num_iter, df_score.val_auc, label=key)\n",
    "plt.ylim(0.95, 0.98)\n",
    "plt.legend()"
   ]
  },
  {
   "cell_type": "code",
   "execution_count": 442,
   "id": "c257e578-4687-411d-a188-96f6334921a2",
   "metadata": {
    "tags": []
   },
   "outputs": [
    {
     "name": "stdout",
     "output_type": "stream",
     "text": [
      "AUC Score for XGBoost (GPU): 0.9701351414777211\n"
     ]
    }
   ],
   "source": [
    "dtrain = xgb.DMatrix(X_train, label=y_train)\n",
    "dval = xgb.DMatrix(X_val, label=y_val)\n",
    "\n",
    "xgb_params = {\n",
    "    'eta': 0.1, \n",
    "    'max_depth': 4,\n",
    "    'min_child_weight': 1,\n",
    "    \n",
    "    'objective': 'binary:logistic',\n",
    "    'eval_metric': 'auc',\n",
    "    \n",
    "    'gpu_id': 0,\n",
    "    \n",
    "    'nthread': 8,\n",
    "    'seed': 1,\n",
    "    'verbosity': 1,\n",
    "}\n",
    "\n",
    "xgb_model = xgb.train(xgb_params, dtrain, num_boost_round=500)\n",
    "\n",
    "y_val_pred_proba = xgb_model.predict(dval)\n",
    "\n",
    "auc = roc_auc_score(y_val, y_val_pred_proba)\n",
    "print(f\"AUC Score for XGBoost (GPU): {auc}\")"
   ]
  },
  {
   "cell_type": "code",
   "execution_count": 443,
   "id": "eac1ad32-37b2-42ee-ab2c-7a9ef8eb8b35",
   "metadata": {
    "tags": []
   },
   "outputs": [
    {
     "name": "stdout",
     "output_type": "stream",
     "text": [
      "Confusion Matrix:\n",
      "[[4823  135]\n",
      " [ 180  456]]\n",
      "\n",
      "Classification Report:\n",
      "              precision    recall  f1-score   support\n",
      "\n",
      "           0       0.96      0.97      0.97      4958\n",
      "           1       0.77      0.72      0.74       636\n",
      "\n",
      "    accuracy                           0.94      5594\n",
      "   macro avg       0.87      0.84      0.86      5594\n",
      "weighted avg       0.94      0.94      0.94      5594\n",
      "\n",
      "\n",
      "AUC Score: 0.9701351414777211\n"
     ]
    },
    {
     "data": {
      "image/png": "[encoded data removed]",
      "text/plain": [
       "<Figure size 800x600 with 1 Axes>"
      ]
     },
     "metadata": {},
     "output_type": "display_data"
    }
   ],
   "source": [
    "y_val_pred = (y_val_pred_proba >= 0.5).astype(int)\n",
    "\n",
    "conf_matrix = confusion_matrix(y_val, y_val_pred)\n",
    "print(\"Confusion Matrix:\")\n",
    "print(conf_matrix)\n",
    "\n",
    "print(\"\\nClassification Report:\")\n",
    "print(classification_report(y_val, y_val_pred))\n",
    "\n",
    "auc_score = roc_auc_score(y_val, y_val_pred_proba)\n",
    "print(f\"\\nAUC Score: {auc}\")\n",
    "\n",
    "fpr, tpr, _ = roc_curve(y_val, y_val_pred_proba)\n",
    "roc_auc = auc_score\n",
    "\n",
    "plt.figure(figsize=(8, 6))\n",
    "plt.plot(fpr, tpr, color='blue', lw=2, label=f'ROC curve (AUC = {roc_auc:.2f})')\n",
    "plt.plot([0, 1], [0, 1], color='gray', linestyle='--')  # Random classifier line\n",
    "plt.xlim([0.0, 1.0])\n",
    "plt.ylim([0.0, 1.05])\n",
    "plt.xlabel('False Positive Rate')\n",
    "plt.ylabel('True Positive Rate')\n",
    "plt.title('Receiver Operating Characteristic (ROC) Curve')\n",
    "plt.legend(loc=\"lower right\")\n",
    "plt.show()"
   ]
  },
  {
   "cell_type": "markdown",
   "id": "bdc5d454-0b15-42fe-96ab-122cc31121ca",
   "metadata": {},
   "source": [
    "### Testing"
   ]
  },
  {
   "cell_type": "code",
   "execution_count": 444,
   "id": "7b96bfe4-f04e-4abc-b4d1-44d6195c3e1c",
   "metadata": {
    "tags": []
   },
   "outputs": [],
   "source": [
    "df_full_train = df_full_train.reset_index(drop=True)"
   ]
  },
  {
   "cell_type": "code",
   "execution_count": 445,
   "id": "10df78b2-55a1-4fbc-997a-af91baf1e228",
   "metadata": {
    "tags": []
   },
   "outputs": [],
   "source": [
    "y_full_train = df_full_train.success.values"
   ]
  },
  {
   "cell_type": "code",
   "execution_count": 446,
   "id": "6afba2dc-d8c7-488a-b147-23b52d01f7a0",
   "metadata": {
    "tags": []
   },
   "outputs": [],
   "source": [
    "del df_full_train['success']"
   ]
  },
  {
   "cell_type": "code",
   "execution_count": 447,
   "id": "478eb507-8ad6-4150-9a46-e239b19aa1e4",
   "metadata": {
    "tags": []
   },
   "outputs": [],
   "source": [
    "dicts_full_train = df_full_train[categorical + numerical].to_dict(orient='records')\n",
    "X_full_train = dv.fit_transform(dicts_full_train)\n",
    "\n",
    "dicts_test = df_test[categorical + numerical].to_dict(orient='records')\n",
    "X_test = dv.transform(dicts_test)"
   ]
  },
  {
   "cell_type": "code",
   "execution_count": 448,
   "id": "7d495740-350c-484e-b926-2f45e413af2e",
   "metadata": {
    "tags": []
   },
   "outputs": [],
   "source": [
    "dtrain = xgb.DMatrix(X_full_train, label=y_full_train)\n",
    "dtest = xgb.DMatrix(X_test, label=y_test)"
   ]
  },
  {
   "cell_type": "code",
   "execution_count": 449,
   "id": "5bfe216f-e22e-46a5-bacc-07a3f76b1726",
   "metadata": {
    "tags": []
   },
   "outputs": [
    {
     "name": "stdout",
     "output_type": "stream",
     "text": [
      "AUC Score for XGBoost (GPU): 0.9639563689168474\n"
     ]
    }
   ],
   "source": [
    "xgb_params = {\n",
    "    'eta': 0.1, \n",
    "    'max_depth': 4,\n",
    "    'min_child_weight': 1,\n",
    "    \n",
    "    'objective': 'binary:logistic',\n",
    "    'eval_metric': 'auc',\n",
    "    \n",
    "    'gpu_id': 0,\n",
    "    \n",
    "    'nthread': 8,\n",
    "    'seed': 1,\n",
    "    'verbosity': 1,\n",
    "}\n",
    "\n",
    "xgb_model = xgb.train(xgb_params, dtrain, num_boost_round=500)\n",
    "\n",
    "y_test_pred_proba = xgb_model.predict(dtest)\n",
    "\n",
    "auc = roc_auc_score(y_test, y_test_pred_proba)\n",
    "print(f\"AUC Score for XGBoost (GPU): {auc}\")"
   ]
  },
  {
   "cell_type": "code",
   "execution_count": 450,
   "id": "6bcdc441-d86d-4a40-84ec-d96127e67caf",
   "metadata": {
    "tags": []
   },
   "outputs": [
    {
     "name": "stdout",
     "output_type": "stream",
     "text": [
      "Confusion Matrix:\n",
      "[[4745  127]\n",
      " [ 221  501]]\n",
      "\n",
      "Classification Report:\n",
      "              precision    recall  f1-score   support\n",
      "\n",
      "           0       0.96      0.97      0.96      4872\n",
      "           1       0.80      0.69      0.74       722\n",
      "\n",
      "    accuracy                           0.94      5594\n",
      "   macro avg       0.88      0.83      0.85      5594\n",
      "weighted avg       0.94      0.94      0.94      5594\n",
      "\n",
      "\n",
      "AUC Score: 0.9639563689168474\n"
     ]
    },
    {
     "data": {
      "image/png": "[encoded data removed]",
      "text/plain": [
       "<Figure size 800x600 with 1 Axes>"
      ]
     },
     "metadata": {},
     "output_type": "display_data"
    }
   ],
   "source": [
    "y_test_pred = (y_test_pred_proba >= 0.5).astype(int)\n",
    "\n",
    "conf_matrix = confusion_matrix(y_test, y_test_pred)\n",
    "print(\"Confusion Matrix:\")\n",
    "print(conf_matrix)\n",
    "\n",
    "print(\"\\nClassification Report:\")\n",
    "print(classification_report(y_test, y_test_pred))\n",
    "\n",
    "auc_score = roc_auc_score(y_test, y_test_pred_proba)\n",
    "print(f\"\\nAUC Score: {auc}\")\n",
    "\n",
    "fpr, tpr, _ = roc_curve(y_test, y_test_pred_proba)\n",
    "roc_auc = auc_score\n",
    "\n",
    "plt.figure(figsize=(8, 6))\n",
    "plt.plot(fpr, tpr, color='blue', lw=2, label=f'ROC curve (AUC = {roc_auc:.2f})')\n",
    "plt.plot([0, 1], [0, 1], color='gray', linestyle='--')  # Random classifier line\n",
    "plt.xlim([0.0, 1.0])\n",
    "plt.ylim([0.0, 1.05])\n",
    "plt.xlabel('False Positive Rate')\n",
    "plt.ylabel('True Positive Rate')\n",
    "plt.title('Receiver Operating Characteristic (ROC) Curve')\n",
    "plt.legend(loc=\"lower right\")\n",
    "plt.show()"
   ]
  },
  {
   "cell_type": "code",
   "execution_count": null,
   "id": "9e0fec6c-0cb3-4caa-b4e0-62b4e8f000d2",
   "metadata": {},
   "outputs": [],
   "source": []
  }
 ],
 "metadata": {
  "kernelspec": {
   "display_name": "Python 3 (ipykernel)",
   "language": "python",
   "name": "python3"
  },
  "language_info": {
   "codemirror_mode": {
    "name": "ipython",
    "version": 3
   },
   "file_extension": ".py",
   "mimetype": "text/x-python",
   "name": "python",
   "nbconvert_exporter": "python",
   "pygments_lexer": "ipython3",
   "version": "3.10.12"
  }
 },
 "nbformat": 4,
 "nbformat_minor": 5
}
